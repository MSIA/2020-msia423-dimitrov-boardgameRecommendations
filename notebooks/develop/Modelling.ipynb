{
 "cells": [
  {
   "cell_type": "code",
   "execution_count": 10,
   "metadata": {},
   "outputs": [],
   "source": [
    "# AGENDA FOR TONIGHT\n",
    "# Extract Stats features\n",
    "# Make a list of relevant features\n",
    "# Try PCA\n",
    "# Try Clustering"
   ]
  },
  {
   "cell_type": "code",
   "execution_count": 135,
   "metadata": {},
   "outputs": [],
   "source": [
    "import json\n",
    "import pandas as pd\n",
    "import matplotlib\n",
    "\n",
    "import prince\n",
    "\n",
    "from sklearn.decomposition import PCA\n",
    "from sklearn.preprocessing import StandardScaler"
   ]
  },
  {
   "cell_type": "code",
   "execution_count": 44,
   "metadata": {},
   "outputs": [],
   "source": [
    "with open('games_one_hot.json') as json_file:\n",
    "    data = json.load(json_file)"
   ]
  },
  {
   "cell_type": "code",
   "execution_count": 45,
   "metadata": {},
   "outputs": [],
   "source": [
    "df = pd.DataFrame(data)"
   ]
  },
  {
   "cell_type": "code",
   "execution_count": 46,
   "metadata": {},
   "outputs": [
    {
     "data": {
      "text/html": [
       "<div>\n",
       "<style scoped>\n",
       "    .dataframe tbody tr th:only-of-type {\n",
       "        vertical-align: middle;\n",
       "    }\n",
       "\n",
       "    .dataframe tbody tr th {\n",
       "        vertical-align: top;\n",
       "    }\n",
       "\n",
       "    .dataframe thead th {\n",
       "        text-align: right;\n",
       "    }\n",
       "</style>\n",
       "<table border=\"1\" class=\"dataframe\">\n",
       "  <thead>\n",
       "    <tr style=\"text-align: right;\">\n",
       "      <th></th>\n",
       "      <th>id</th>\n",
       "      <th>name</th>\n",
       "      <th>stats</th>\n",
       "      <th>image</th>\n",
       "      <th>thumbnail</th>\n",
       "      <th>artists</th>\n",
       "      <th>designers</th>\n",
       "      <th>year</th>\n",
       "      <th>description</th>\n",
       "      <th>categories</th>\n",
       "      <th>...</th>\n",
       "      <th>mechanics_Turn Order: Stat-Based</th>\n",
       "      <th>mechanics_Variable Phase Order</th>\n",
       "      <th>mechanics_Variable Player Powers</th>\n",
       "      <th>mechanics_Variable Setup</th>\n",
       "      <th>mechanics_Victory Points as a Resource</th>\n",
       "      <th>mechanics_Voting</th>\n",
       "      <th>mechanics_Worker Placement</th>\n",
       "      <th>mechanics_Worker Placement with Dice Workers</th>\n",
       "      <th>mechanics_Worker Placement, Different Worker Types</th>\n",
       "      <th>mechanics_Zone of Control</th>\n",
       "    </tr>\n",
       "  </thead>\n",
       "  <tbody>\n",
       "    <tr>\n",
       "      <th>0</th>\n",
       "      <td>174430</td>\n",
       "      <td>Gloomhaven</td>\n",
       "      <td>{'usersrated': 34855, 'average': 8.8311, 'baye...</td>\n",
       "      <td>https://cf.geekdo-images.com/original/img/lDN3...</td>\n",
       "      <td>https://cf.geekdo-images.com/thumb/img/e7GyV4P...</td>\n",
       "      <td>[Alexandr Elichev, Josh T. McDowell, Alvaro Ne...</td>\n",
       "      <td>[Isaac Childres]</td>\n",
       "      <td>2017</td>\n",
       "      <td>Gloomhaven  is a game of Euro-inspired tactica...</td>\n",
       "      <td>[Adventure, Exploration, Fantasy, Fighting, Mi...</td>\n",
       "      <td>...</td>\n",
       "      <td>0</td>\n",
       "      <td>0</td>\n",
       "      <td>1</td>\n",
       "      <td>0</td>\n",
       "      <td>0</td>\n",
       "      <td>0</td>\n",
       "      <td>0</td>\n",
       "      <td>0</td>\n",
       "      <td>0</td>\n",
       "      <td>0</td>\n",
       "    </tr>\n",
       "    <tr>\n",
       "      <th>1</th>\n",
       "      <td>161936</td>\n",
       "      <td>Pandemic Legacy: Season 1</td>\n",
       "      <td>{'usersrated': 36949, 'average': 8.62291, 'bay...</td>\n",
       "      <td>https://cf.geekdo-images.com/original/img/P_Sw...</td>\n",
       "      <td>https://cf.geekdo-images.com/thumb/img/WI5NmPd...</td>\n",
       "      <td>[Chris Quilliams]</td>\n",
       "      <td>[Rob Daviau, Matt Leacock]</td>\n",
       "      <td>2015</td>\n",
       "      <td>Pandemic Legacy is a co-operative campaign gam...</td>\n",
       "      <td>[Environmental, Medical]</td>\n",
       "      <td>...</td>\n",
       "      <td>0</td>\n",
       "      <td>0</td>\n",
       "      <td>1</td>\n",
       "      <td>0</td>\n",
       "      <td>0</td>\n",
       "      <td>0</td>\n",
       "      <td>0</td>\n",
       "      <td>0</td>\n",
       "      <td>0</td>\n",
       "      <td>0</td>\n",
       "    </tr>\n",
       "  </tbody>\n",
       "</table>\n",
       "<p>2 rows × 278 columns</p>\n",
       "</div>"
      ],
      "text/plain": [
       "       id                       name  \\\n",
       "0  174430                 Gloomhaven   \n",
       "1  161936  Pandemic Legacy: Season 1   \n",
       "\n",
       "                                               stats  \\\n",
       "0  {'usersrated': 34855, 'average': 8.8311, 'baye...   \n",
       "1  {'usersrated': 36949, 'average': 8.62291, 'bay...   \n",
       "\n",
       "                                               image  \\\n",
       "0  https://cf.geekdo-images.com/original/img/lDN3...   \n",
       "1  https://cf.geekdo-images.com/original/img/P_Sw...   \n",
       "\n",
       "                                           thumbnail  \\\n",
       "0  https://cf.geekdo-images.com/thumb/img/e7GyV4P...   \n",
       "1  https://cf.geekdo-images.com/thumb/img/WI5NmPd...   \n",
       "\n",
       "                                             artists  \\\n",
       "0  [Alexandr Elichev, Josh T. McDowell, Alvaro Ne...   \n",
       "1                                  [Chris Quilliams]   \n",
       "\n",
       "                    designers  year  \\\n",
       "0            [Isaac Childres]  2017   \n",
       "1  [Rob Daviau, Matt Leacock]  2015   \n",
       "\n",
       "                                         description  \\\n",
       "0  Gloomhaven  is a game of Euro-inspired tactica...   \n",
       "1  Pandemic Legacy is a co-operative campaign gam...   \n",
       "\n",
       "                                          categories  ...  \\\n",
       "0  [Adventure, Exploration, Fantasy, Fighting, Mi...  ...   \n",
       "1                           [Environmental, Medical]  ...   \n",
       "\n",
       "  mechanics_Turn Order: Stat-Based  mechanics_Variable Phase Order  \\\n",
       "0                                0                               0   \n",
       "1                                0                               0   \n",
       "\n",
       "  mechanics_Variable Player Powers  mechanics_Variable Setup  \\\n",
       "0                                1                         0   \n",
       "1                                1                         0   \n",
       "\n",
       "   mechanics_Victory Points as a Resource  mechanics_Voting  \\\n",
       "0                                       0                 0   \n",
       "1                                       0                 0   \n",
       "\n",
       "   mechanics_Worker Placement  mechanics_Worker Placement with Dice Workers  \\\n",
       "0                           0                                             0   \n",
       "1                           0                                             0   \n",
       "\n",
       "   mechanics_Worker Placement, Different Worker Types  \\\n",
       "0                                                  0    \n",
       "1                                                  0    \n",
       "\n",
       "   mechanics_Zone of Control  \n",
       "0                          0  \n",
       "1                          0  \n",
       "\n",
       "[2 rows x 278 columns]"
      ]
     },
     "execution_count": 46,
     "metadata": {},
     "output_type": "execute_result"
    }
   ],
   "source": [
    "df.head(2)"
   ]
  },
  {
   "cell_type": "code",
   "execution_count": 47,
   "metadata": {},
   "outputs": [
    {
     "data": {
      "text/plain": [
       "{'usersrated': 34855,\n",
       " 'average': 8.8311,\n",
       " 'bayesaverage': 8.57594,\n",
       " 'stddev': 1.60889,\n",
       " 'median': 0.0,\n",
       " 'owned': 56031,\n",
       " 'trading': 347,\n",
       " 'wanting': 1417,\n",
       " 'wishing': 14655,\n",
       " 'numcomments': 6553,\n",
       " 'numweights': 1497,\n",
       " 'averageweight': 3.827,\n",
       " 'ranks': [{'id': '1',\n",
       "   'name': 'boardgame',\n",
       "   'friendlyname': 'Board Game Rank',\n",
       "   'value': 1},\n",
       "  {'id': '5496',\n",
       "   'name': 'thematic',\n",
       "   'friendlyname': 'Thematic Rank',\n",
       "   'value': 1},\n",
       "  {'id': '5497',\n",
       "   'name': 'strategygames',\n",
       "   'friendlyname': 'Strategy Game Rank',\n",
       "   'value': 1}]}"
      ]
     },
     "execution_count": 47,
     "metadata": {},
     "output_type": "execute_result"
    }
   ],
   "source": [
    "gloomhaven['stats'][0]"
   ]
  },
  {
   "cell_type": "code",
   "execution_count": 49,
   "metadata": {},
   "outputs": [
    {
     "data": {
      "text/html": [
       "<div>\n",
       "<style scoped>\n",
       "    .dataframe tbody tr th:only-of-type {\n",
       "        vertical-align: middle;\n",
       "    }\n",
       "\n",
       "    .dataframe tbody tr th {\n",
       "        vertical-align: top;\n",
       "    }\n",
       "\n",
       "    .dataframe thead th {\n",
       "        text-align: right;\n",
       "    }\n",
       "</style>\n",
       "<table border=\"1\" class=\"dataframe\">\n",
       "  <thead>\n",
       "    <tr style=\"text-align: right;\">\n",
       "      <th></th>\n",
       "      <th>id</th>\n",
       "      <th>name</th>\n",
       "      <th>stats</th>\n",
       "      <th>image</th>\n",
       "      <th>thumbnail</th>\n",
       "      <th>artists</th>\n",
       "      <th>designers</th>\n",
       "      <th>year</th>\n",
       "      <th>description</th>\n",
       "      <th>categories</th>\n",
       "      <th>...</th>\n",
       "      <th>mechanics_Worker Placement</th>\n",
       "      <th>mechanics_Worker Placement with Dice Workers</th>\n",
       "      <th>mechanics_Worker Placement, Different Worker Types</th>\n",
       "      <th>mechanics_Zone of Control</th>\n",
       "      <th>number_of_user_ratings</th>\n",
       "      <th>average_user_rating</th>\n",
       "      <th>number_of_user_weight_ratings</th>\n",
       "      <th>average_user_weight_rating</th>\n",
       "      <th>bayes_average</th>\n",
       "      <th>number_of_users_own</th>\n",
       "    </tr>\n",
       "  </thead>\n",
       "  <tbody>\n",
       "    <tr>\n",
       "      <th>0</th>\n",
       "      <td>174430</td>\n",
       "      <td>Gloomhaven</td>\n",
       "      <td>{'usersrated': 34855, 'average': 8.8311, 'baye...</td>\n",
       "      <td>https://cf.geekdo-images.com/original/img/lDN3...</td>\n",
       "      <td>https://cf.geekdo-images.com/thumb/img/e7GyV4P...</td>\n",
       "      <td>[Alexandr Elichev, Josh T. McDowell, Alvaro Ne...</td>\n",
       "      <td>[Isaac Childres]</td>\n",
       "      <td>2017</td>\n",
       "      <td>Gloomhaven  is a game of Euro-inspired tactica...</td>\n",
       "      <td>[Adventure, Exploration, Fantasy, Fighting, Mi...</td>\n",
       "      <td>...</td>\n",
       "      <td>0</td>\n",
       "      <td>0</td>\n",
       "      <td>0</td>\n",
       "      <td>0</td>\n",
       "      <td>34855</td>\n",
       "      <td>8.83110</td>\n",
       "      <td>1497</td>\n",
       "      <td>3.8270</td>\n",
       "      <td>8.57594</td>\n",
       "      <td>56031</td>\n",
       "    </tr>\n",
       "    <tr>\n",
       "      <th>1</th>\n",
       "      <td>161936</td>\n",
       "      <td>Pandemic Legacy: Season 1</td>\n",
       "      <td>{'usersrated': 36949, 'average': 8.62291, 'bay...</td>\n",
       "      <td>https://cf.geekdo-images.com/original/img/P_Sw...</td>\n",
       "      <td>https://cf.geekdo-images.com/thumb/img/WI5NmPd...</td>\n",
       "      <td>[Chris Quilliams]</td>\n",
       "      <td>[Rob Daviau, Matt Leacock]</td>\n",
       "      <td>2015</td>\n",
       "      <td>Pandemic Legacy is a co-operative campaign gam...</td>\n",
       "      <td>[Environmental, Medical]</td>\n",
       "      <td>...</td>\n",
       "      <td>0</td>\n",
       "      <td>0</td>\n",
       "      <td>0</td>\n",
       "      <td>0</td>\n",
       "      <td>36949</td>\n",
       "      <td>8.62291</td>\n",
       "      <td>1034</td>\n",
       "      <td>2.8288</td>\n",
       "      <td>8.47129</td>\n",
       "      <td>58562</td>\n",
       "    </tr>\n",
       "    <tr>\n",
       "      <th>2</th>\n",
       "      <td>182028</td>\n",
       "      <td>Through the Ages: A New Story of Civilization</td>\n",
       "      <td>{'usersrated': 19929, 'average': 8.46877, 'bay...</td>\n",
       "      <td>https://cf.geekdo-images.com/original/img/1d2h...</td>\n",
       "      <td>https://cf.geekdo-images.com/thumb/img/Ohqc2KT...</td>\n",
       "      <td>[Filip Murmak, Radim Pech, Jakub Politzer, Mil...</td>\n",
       "      <td>[Vlaada Chvátil]</td>\n",
       "      <td>2015</td>\n",
       "      <td>Through the Ages: A New Story of Civilization ...</td>\n",
       "      <td>[Card Game, Civilization, Economic]</td>\n",
       "      <td>...</td>\n",
       "      <td>0</td>\n",
       "      <td>0</td>\n",
       "      <td>0</td>\n",
       "      <td>0</td>\n",
       "      <td>19929</td>\n",
       "      <td>8.46877</td>\n",
       "      <td>980</td>\n",
       "      <td>4.3969</td>\n",
       "      <td>8.22085</td>\n",
       "      <td>23599</td>\n",
       "    </tr>\n",
       "    <tr>\n",
       "      <th>3</th>\n",
       "      <td>167791</td>\n",
       "      <td>Terraforming Mars</td>\n",
       "      <td>{'usersrated': 53758, 'average': 8.4267, 'baye...</td>\n",
       "      <td>https://cf.geekdo-images.com/original/img/o8z_...</td>\n",
       "      <td>https://cf.geekdo-images.com/thumb/img/yFqQ569...</td>\n",
       "      <td>[Isaac Fryxelius]</td>\n",
       "      <td>[Jacob Fryxelius]</td>\n",
       "      <td>2016</td>\n",
       "      <td>In the 2400s, mankind begins to terraform the ...</td>\n",
       "      <td>[Economic, Environmental, Industry / Manufactu...</td>\n",
       "      <td>...</td>\n",
       "      <td>0</td>\n",
       "      <td>0</td>\n",
       "      <td>0</td>\n",
       "      <td>0</td>\n",
       "      <td>53758</td>\n",
       "      <td>8.42670</td>\n",
       "      <td>2142</td>\n",
       "      <td>3.2367</td>\n",
       "      <td>8.27617</td>\n",
       "      <td>70678</td>\n",
       "    </tr>\n",
       "    <tr>\n",
       "      <th>4</th>\n",
       "      <td>12333</td>\n",
       "      <td>Twilight Struggle</td>\n",
       "      <td>{'usersrated': 37980, 'average': 8.30511, 'bay...</td>\n",
       "      <td>https://cf.geekdo-images.com/original/img/ZPnn...</td>\n",
       "      <td>https://cf.geekdo-images.com/thumb/img/mEmeJrI...</td>\n",
       "      <td>[Viktor Csete, Rodger B. MacGowan, Chechu Niet...</td>\n",
       "      <td>[Ananda Gupta, Jason Matthews]</td>\n",
       "      <td>2005</td>\n",
       "      <td>\"Now the trumpet summons us again, not as a ca...</td>\n",
       "      <td>[Modern Warfare, Political, Wargame]</td>\n",
       "      <td>...</td>\n",
       "      <td>0</td>\n",
       "      <td>0</td>\n",
       "      <td>0</td>\n",
       "      <td>0</td>\n",
       "      <td>37980</td>\n",
       "      <td>8.30511</td>\n",
       "      <td>3421</td>\n",
       "      <td>3.5750</td>\n",
       "      <td>8.15264</td>\n",
       "      <td>52214</td>\n",
       "    </tr>\n",
       "  </tbody>\n",
       "</table>\n",
       "<p>5 rows × 284 columns</p>\n",
       "</div>"
      ],
      "text/plain": [
       "       id                                           name  \\\n",
       "0  174430                                     Gloomhaven   \n",
       "1  161936                      Pandemic Legacy: Season 1   \n",
       "2  182028  Through the Ages: A New Story of Civilization   \n",
       "3  167791                              Terraforming Mars   \n",
       "4   12333                              Twilight Struggle   \n",
       "\n",
       "                                               stats  \\\n",
       "0  {'usersrated': 34855, 'average': 8.8311, 'baye...   \n",
       "1  {'usersrated': 36949, 'average': 8.62291, 'bay...   \n",
       "2  {'usersrated': 19929, 'average': 8.46877, 'bay...   \n",
       "3  {'usersrated': 53758, 'average': 8.4267, 'baye...   \n",
       "4  {'usersrated': 37980, 'average': 8.30511, 'bay...   \n",
       "\n",
       "                                               image  \\\n",
       "0  https://cf.geekdo-images.com/original/img/lDN3...   \n",
       "1  https://cf.geekdo-images.com/original/img/P_Sw...   \n",
       "2  https://cf.geekdo-images.com/original/img/1d2h...   \n",
       "3  https://cf.geekdo-images.com/original/img/o8z_...   \n",
       "4  https://cf.geekdo-images.com/original/img/ZPnn...   \n",
       "\n",
       "                                           thumbnail  \\\n",
       "0  https://cf.geekdo-images.com/thumb/img/e7GyV4P...   \n",
       "1  https://cf.geekdo-images.com/thumb/img/WI5NmPd...   \n",
       "2  https://cf.geekdo-images.com/thumb/img/Ohqc2KT...   \n",
       "3  https://cf.geekdo-images.com/thumb/img/yFqQ569...   \n",
       "4  https://cf.geekdo-images.com/thumb/img/mEmeJrI...   \n",
       "\n",
       "                                             artists  \\\n",
       "0  [Alexandr Elichev, Josh T. McDowell, Alvaro Ne...   \n",
       "1                                  [Chris Quilliams]   \n",
       "2  [Filip Murmak, Radim Pech, Jakub Politzer, Mil...   \n",
       "3                                  [Isaac Fryxelius]   \n",
       "4  [Viktor Csete, Rodger B. MacGowan, Chechu Niet...   \n",
       "\n",
       "                        designers  year  \\\n",
       "0                [Isaac Childres]  2017   \n",
       "1      [Rob Daviau, Matt Leacock]  2015   \n",
       "2                [Vlaada Chvátil]  2015   \n",
       "3               [Jacob Fryxelius]  2016   \n",
       "4  [Ananda Gupta, Jason Matthews]  2005   \n",
       "\n",
       "                                         description  \\\n",
       "0  Gloomhaven  is a game of Euro-inspired tactica...   \n",
       "1  Pandemic Legacy is a co-operative campaign gam...   \n",
       "2  Through the Ages: A New Story of Civilization ...   \n",
       "3  In the 2400s, mankind begins to terraform the ...   \n",
       "4  \"Now the trumpet summons us again, not as a ca...   \n",
       "\n",
       "                                          categories  ...  \\\n",
       "0  [Adventure, Exploration, Fantasy, Fighting, Mi...  ...   \n",
       "1                           [Environmental, Medical]  ...   \n",
       "2                [Card Game, Civilization, Economic]  ...   \n",
       "3  [Economic, Environmental, Industry / Manufactu...  ...   \n",
       "4               [Modern Warfare, Political, Wargame]  ...   \n",
       "\n",
       "  mechanics_Worker Placement  mechanics_Worker Placement with Dice Workers  \\\n",
       "0                          0                                             0   \n",
       "1                          0                                             0   \n",
       "2                          0                                             0   \n",
       "3                          0                                             0   \n",
       "4                          0                                             0   \n",
       "\n",
       "  mechanics_Worker Placement, Different Worker Types  \\\n",
       "0                                                  0   \n",
       "1                                                  0   \n",
       "2                                                  0   \n",
       "3                                                  0   \n",
       "4                                                  0   \n",
       "\n",
       "   mechanics_Zone of Control  number_of_user_ratings  average_user_rating  \\\n",
       "0                          0                   34855              8.83110   \n",
       "1                          0                   36949              8.62291   \n",
       "2                          0                   19929              8.46877   \n",
       "3                          0                   53758              8.42670   \n",
       "4                          0                   37980              8.30511   \n",
       "\n",
       "   number_of_user_weight_ratings  average_user_weight_rating  bayes_average  \\\n",
       "0                           1497                      3.8270        8.57594   \n",
       "1                           1034                      2.8288        8.47129   \n",
       "2                            980                      4.3969        8.22085   \n",
       "3                           2142                      3.2367        8.27617   \n",
       "4                           3421                      3.5750        8.15264   \n",
       "\n",
       "   number_of_users_own  \n",
       "0                56031  \n",
       "1                58562  \n",
       "2                23599  \n",
       "3                70678  \n",
       "4                52214  \n",
       "\n",
       "[5 rows x 284 columns]"
      ]
     },
     "execution_count": 49,
     "metadata": {},
     "output_type": "execute_result"
    }
   ],
   "source": [
    "df['number_of_user_ratings'] = df.apply(lambda row: row['stats']['usersrated'], axis=1)\n",
    "df['average_user_rating'] = df.apply(lambda row: row['stats']['average'], axis=1)\n",
    "df['number_of_user_weight_ratings'] = df.apply(lambda row: row['stats']['numweights'], axis=1)\n",
    "df['average_user_weight_rating'] = df.apply(lambda row: row['stats']['averageweight'], axis=1)\n",
    "df['bayes_average'] = df.apply(lambda row: row['stats']['bayesaverage'], axis=1)\n",
    "df['number_of_users_own'] = df.apply(lambda row: row['stats']['owned'], axis=1)\n",
    "df.head()"
   ]
  },
  {
   "cell_type": "markdown",
   "metadata": {},
   "source": [
    "# Finished extracting data from json -> Moving to Features only to try PCA & KMeans"
   ]
  },
  {
   "cell_type": "code",
   "execution_count": 72,
   "metadata": {},
   "outputs": [
    {
     "data": {
      "text/html": [
       "<div>\n",
       "<style scoped>\n",
       "    .dataframe tbody tr th:only-of-type {\n",
       "        vertical-align: middle;\n",
       "    }\n",
       "\n",
       "    .dataframe tbody tr th {\n",
       "        vertical-align: top;\n",
       "    }\n",
       "\n",
       "    .dataframe thead th {\n",
       "        text-align: right;\n",
       "    }\n",
       "</style>\n",
       "<table border=\"1\" class=\"dataframe\">\n",
       "  <thead>\n",
       "    <tr style=\"text-align: right;\">\n",
       "      <th></th>\n",
       "      <th>id</th>\n",
       "      <th>year</th>\n",
       "      <th>min_age</th>\n",
       "      <th>categories_Abstract Strategy</th>\n",
       "      <th>categories_Action / Dexterity</th>\n",
       "      <th>categories_Adventure</th>\n",
       "      <th>categories_Age of Reason</th>\n",
       "      <th>categories_American Civil War</th>\n",
       "      <th>categories_American Indian Wars</th>\n",
       "      <th>categories_American Revolutionary War</th>\n",
       "      <th>...</th>\n",
       "      <th>mechanics_Worker Placement</th>\n",
       "      <th>mechanics_Worker Placement with Dice Workers</th>\n",
       "      <th>mechanics_Worker Placement, Different Worker Types</th>\n",
       "      <th>mechanics_Zone of Control</th>\n",
       "      <th>number_of_user_ratings</th>\n",
       "      <th>average_user_rating</th>\n",
       "      <th>number_of_user_weight_ratings</th>\n",
       "      <th>average_user_weight_rating</th>\n",
       "      <th>bayes_average</th>\n",
       "      <th>number_of_users_own</th>\n",
       "    </tr>\n",
       "  </thead>\n",
       "  <tbody>\n",
       "    <tr>\n",
       "      <th>0</th>\n",
       "      <td>174430</td>\n",
       "      <td>2017</td>\n",
       "      <td>12</td>\n",
       "      <td>0</td>\n",
       "      <td>0</td>\n",
       "      <td>1</td>\n",
       "      <td>0</td>\n",
       "      <td>0</td>\n",
       "      <td>0</td>\n",
       "      <td>0</td>\n",
       "      <td>...</td>\n",
       "      <td>0</td>\n",
       "      <td>0</td>\n",
       "      <td>0</td>\n",
       "      <td>0</td>\n",
       "      <td>34855</td>\n",
       "      <td>8.83110</td>\n",
       "      <td>1497</td>\n",
       "      <td>3.8270</td>\n",
       "      <td>8.57594</td>\n",
       "      <td>56031</td>\n",
       "    </tr>\n",
       "    <tr>\n",
       "      <th>1</th>\n",
       "      <td>161936</td>\n",
       "      <td>2015</td>\n",
       "      <td>13</td>\n",
       "      <td>0</td>\n",
       "      <td>0</td>\n",
       "      <td>0</td>\n",
       "      <td>0</td>\n",
       "      <td>0</td>\n",
       "      <td>0</td>\n",
       "      <td>0</td>\n",
       "      <td>...</td>\n",
       "      <td>0</td>\n",
       "      <td>0</td>\n",
       "      <td>0</td>\n",
       "      <td>0</td>\n",
       "      <td>36949</td>\n",
       "      <td>8.62291</td>\n",
       "      <td>1034</td>\n",
       "      <td>2.8288</td>\n",
       "      <td>8.47129</td>\n",
       "      <td>58562</td>\n",
       "    </tr>\n",
       "    <tr>\n",
       "      <th>2</th>\n",
       "      <td>182028</td>\n",
       "      <td>2015</td>\n",
       "      <td>14</td>\n",
       "      <td>0</td>\n",
       "      <td>0</td>\n",
       "      <td>0</td>\n",
       "      <td>0</td>\n",
       "      <td>0</td>\n",
       "      <td>0</td>\n",
       "      <td>0</td>\n",
       "      <td>...</td>\n",
       "      <td>0</td>\n",
       "      <td>0</td>\n",
       "      <td>0</td>\n",
       "      <td>0</td>\n",
       "      <td>19929</td>\n",
       "      <td>8.46877</td>\n",
       "      <td>980</td>\n",
       "      <td>4.3969</td>\n",
       "      <td>8.22085</td>\n",
       "      <td>23599</td>\n",
       "    </tr>\n",
       "    <tr>\n",
       "      <th>3</th>\n",
       "      <td>167791</td>\n",
       "      <td>2016</td>\n",
       "      <td>12</td>\n",
       "      <td>0</td>\n",
       "      <td>0</td>\n",
       "      <td>0</td>\n",
       "      <td>0</td>\n",
       "      <td>0</td>\n",
       "      <td>0</td>\n",
       "      <td>0</td>\n",
       "      <td>...</td>\n",
       "      <td>0</td>\n",
       "      <td>0</td>\n",
       "      <td>0</td>\n",
       "      <td>0</td>\n",
       "      <td>53758</td>\n",
       "      <td>8.42670</td>\n",
       "      <td>2142</td>\n",
       "      <td>3.2367</td>\n",
       "      <td>8.27617</td>\n",
       "      <td>70678</td>\n",
       "    </tr>\n",
       "    <tr>\n",
       "      <th>4</th>\n",
       "      <td>12333</td>\n",
       "      <td>2005</td>\n",
       "      <td>13</td>\n",
       "      <td>0</td>\n",
       "      <td>0</td>\n",
       "      <td>0</td>\n",
       "      <td>0</td>\n",
       "      <td>0</td>\n",
       "      <td>0</td>\n",
       "      <td>0</td>\n",
       "      <td>...</td>\n",
       "      <td>0</td>\n",
       "      <td>0</td>\n",
       "      <td>0</td>\n",
       "      <td>0</td>\n",
       "      <td>37980</td>\n",
       "      <td>8.30511</td>\n",
       "      <td>3421</td>\n",
       "      <td>3.5750</td>\n",
       "      <td>8.15264</td>\n",
       "      <td>52214</td>\n",
       "    </tr>\n",
       "  </tbody>\n",
       "</table>\n",
       "<p>5 rows × 274 columns</p>\n",
       "</div>"
      ],
      "text/plain": [
       "       id  year  min_age  categories_Abstract Strategy  \\\n",
       "0  174430  2017       12                             0   \n",
       "1  161936  2015       13                             0   \n",
       "2  182028  2015       14                             0   \n",
       "3  167791  2016       12                             0   \n",
       "4   12333  2005       13                             0   \n",
       "\n",
       "   categories_Action / Dexterity  categories_Adventure  \\\n",
       "0                              0                     1   \n",
       "1                              0                     0   \n",
       "2                              0                     0   \n",
       "3                              0                     0   \n",
       "4                              0                     0   \n",
       "\n",
       "   categories_Age of Reason  categories_American Civil War  \\\n",
       "0                         0                              0   \n",
       "1                         0                              0   \n",
       "2                         0                              0   \n",
       "3                         0                              0   \n",
       "4                         0                              0   \n",
       "\n",
       "   categories_American Indian Wars  categories_American Revolutionary War  \\\n",
       "0                                0                                      0   \n",
       "1                                0                                      0   \n",
       "2                                0                                      0   \n",
       "3                                0                                      0   \n",
       "4                                0                                      0   \n",
       "\n",
       "   ...  mechanics_Worker Placement  \\\n",
       "0  ...                           0   \n",
       "1  ...                           0   \n",
       "2  ...                           0   \n",
       "3  ...                           0   \n",
       "4  ...                           0   \n",
       "\n",
       "   mechanics_Worker Placement with Dice Workers  \\\n",
       "0                                             0   \n",
       "1                                             0   \n",
       "2                                             0   \n",
       "3                                             0   \n",
       "4                                             0   \n",
       "\n",
       "   mechanics_Worker Placement, Different Worker Types  \\\n",
       "0                                                  0    \n",
       "1                                                  0    \n",
       "2                                                  0    \n",
       "3                                                  0    \n",
       "4                                                  0    \n",
       "\n",
       "   mechanics_Zone of Control  number_of_user_ratings  average_user_rating  \\\n",
       "0                          0                   34855              8.83110   \n",
       "1                          0                   36949              8.62291   \n",
       "2                          0                   19929              8.46877   \n",
       "3                          0                   53758              8.42670   \n",
       "4                          0                   37980              8.30511   \n",
       "\n",
       "   number_of_user_weight_ratings  average_user_weight_rating  bayes_average  \\\n",
       "0                           1497                      3.8270        8.57594   \n",
       "1                           1034                      2.8288        8.47129   \n",
       "2                            980                      4.3969        8.22085   \n",
       "3                           2142                      3.2367        8.27617   \n",
       "4                           3421                      3.5750        8.15264   \n",
       "\n",
       "   number_of_users_own  \n",
       "0                56031  \n",
       "1                58562  \n",
       "2                23599  \n",
       "3                70678  \n",
       "4                52214  \n",
       "\n",
       "[5 rows x 274 columns]"
      ]
     },
     "execution_count": 72,
     "metadata": {},
     "output_type": "execute_result"
    }
   ],
   "source": [
    "features_df = df.drop(['name','stats', 'image', 'thumbnail', 'artists', 'publishers', 'designers', 'description', 'categories', 'mechanics'], axis=1)\n",
    "features_df.head()"
   ]
  },
  {
   "cell_type": "code",
   "execution_count": 81,
   "metadata": {},
   "outputs": [],
   "source": [
    "# Bringing the last 5 columns to the left for visual appeal\n",
    "cols = features_df.columns.tolist()"
   ]
  },
  {
   "cell_type": "code",
   "execution_count": 84,
   "metadata": {},
   "outputs": [],
   "source": [
    "# Need to do some pesky reordering of column names\n",
    "lst = []\n",
    "lst.append(cols[0])\n",
    "lst2 = []; lst2.append(cols[-1])\n",
    "cols = lst + cols[-6:-1] + lst2 + cols[1:-6]"
   ]
  },
  {
   "cell_type": "code",
   "execution_count": 86,
   "metadata": {},
   "outputs": [],
   "source": [
    "features_df = features_df[cols]"
   ]
  },
  {
   "cell_type": "code",
   "execution_count": 87,
   "metadata": {},
   "outputs": [
    {
     "data": {
      "text/html": [
       "<div>\n",
       "<style scoped>\n",
       "    .dataframe tbody tr th:only-of-type {\n",
       "        vertical-align: middle;\n",
       "    }\n",
       "\n",
       "    .dataframe tbody tr th {\n",
       "        vertical-align: top;\n",
       "    }\n",
       "\n",
       "    .dataframe thead th {\n",
       "        text-align: right;\n",
       "    }\n",
       "</style>\n",
       "<table border=\"1\" class=\"dataframe\">\n",
       "  <thead>\n",
       "    <tr style=\"text-align: right;\">\n",
       "      <th></th>\n",
       "      <th>id</th>\n",
       "      <th>number_of_user_ratings</th>\n",
       "      <th>average_user_rating</th>\n",
       "      <th>number_of_user_weight_ratings</th>\n",
       "      <th>average_user_weight_rating</th>\n",
       "      <th>bayes_average</th>\n",
       "      <th>number_of_users_own</th>\n",
       "      <th>year</th>\n",
       "      <th>min_age</th>\n",
       "      <th>categories_Abstract Strategy</th>\n",
       "      <th>...</th>\n",
       "      <th>mechanics_Turn Order: Stat-Based</th>\n",
       "      <th>mechanics_Variable Phase Order</th>\n",
       "      <th>mechanics_Variable Player Powers</th>\n",
       "      <th>mechanics_Variable Setup</th>\n",
       "      <th>mechanics_Victory Points as a Resource</th>\n",
       "      <th>mechanics_Voting</th>\n",
       "      <th>mechanics_Worker Placement</th>\n",
       "      <th>mechanics_Worker Placement with Dice Workers</th>\n",
       "      <th>mechanics_Worker Placement, Different Worker Types</th>\n",
       "      <th>mechanics_Zone of Control</th>\n",
       "    </tr>\n",
       "  </thead>\n",
       "  <tbody>\n",
       "    <tr>\n",
       "      <th>0</th>\n",
       "      <td>174430</td>\n",
       "      <td>34855</td>\n",
       "      <td>8.83110</td>\n",
       "      <td>1497</td>\n",
       "      <td>3.8270</td>\n",
       "      <td>8.57594</td>\n",
       "      <td>56031</td>\n",
       "      <td>2017</td>\n",
       "      <td>12</td>\n",
       "      <td>0</td>\n",
       "      <td>...</td>\n",
       "      <td>0</td>\n",
       "      <td>0</td>\n",
       "      <td>1</td>\n",
       "      <td>0</td>\n",
       "      <td>0</td>\n",
       "      <td>0</td>\n",
       "      <td>0</td>\n",
       "      <td>0</td>\n",
       "      <td>0</td>\n",
       "      <td>0</td>\n",
       "    </tr>\n",
       "    <tr>\n",
       "      <th>1</th>\n",
       "      <td>161936</td>\n",
       "      <td>36949</td>\n",
       "      <td>8.62291</td>\n",
       "      <td>1034</td>\n",
       "      <td>2.8288</td>\n",
       "      <td>8.47129</td>\n",
       "      <td>58562</td>\n",
       "      <td>2015</td>\n",
       "      <td>13</td>\n",
       "      <td>0</td>\n",
       "      <td>...</td>\n",
       "      <td>0</td>\n",
       "      <td>0</td>\n",
       "      <td>1</td>\n",
       "      <td>0</td>\n",
       "      <td>0</td>\n",
       "      <td>0</td>\n",
       "      <td>0</td>\n",
       "      <td>0</td>\n",
       "      <td>0</td>\n",
       "      <td>0</td>\n",
       "    </tr>\n",
       "    <tr>\n",
       "      <th>2</th>\n",
       "      <td>182028</td>\n",
       "      <td>19929</td>\n",
       "      <td>8.46877</td>\n",
       "      <td>980</td>\n",
       "      <td>4.3969</td>\n",
       "      <td>8.22085</td>\n",
       "      <td>23599</td>\n",
       "      <td>2015</td>\n",
       "      <td>14</td>\n",
       "      <td>0</td>\n",
       "      <td>...</td>\n",
       "      <td>0</td>\n",
       "      <td>0</td>\n",
       "      <td>0</td>\n",
       "      <td>0</td>\n",
       "      <td>0</td>\n",
       "      <td>0</td>\n",
       "      <td>0</td>\n",
       "      <td>0</td>\n",
       "      <td>0</td>\n",
       "      <td>0</td>\n",
       "    </tr>\n",
       "  </tbody>\n",
       "</table>\n",
       "<p>3 rows × 274 columns</p>\n",
       "</div>"
      ],
      "text/plain": [
       "       id  number_of_user_ratings  average_user_rating  \\\n",
       "0  174430                   34855              8.83110   \n",
       "1  161936                   36949              8.62291   \n",
       "2  182028                   19929              8.46877   \n",
       "\n",
       "   number_of_user_weight_ratings  average_user_weight_rating  bayes_average  \\\n",
       "0                           1497                      3.8270        8.57594   \n",
       "1                           1034                      2.8288        8.47129   \n",
       "2                            980                      4.3969        8.22085   \n",
       "\n",
       "   number_of_users_own  year  min_age  categories_Abstract Strategy  ...  \\\n",
       "0                56031  2017       12                             0  ...   \n",
       "1                58562  2015       13                             0  ...   \n",
       "2                23599  2015       14                             0  ...   \n",
       "\n",
       "   mechanics_Turn Order: Stat-Based  mechanics_Variable Phase Order  \\\n",
       "0                                 0                               0   \n",
       "1                                 0                               0   \n",
       "2                                 0                               0   \n",
       "\n",
       "   mechanics_Variable Player Powers  mechanics_Variable Setup  \\\n",
       "0                                 1                         0   \n",
       "1                                 1                         0   \n",
       "2                                 0                         0   \n",
       "\n",
       "   mechanics_Victory Points as a Resource  mechanics_Voting  \\\n",
       "0                                       0                 0   \n",
       "1                                       0                 0   \n",
       "2                                       0                 0   \n",
       "\n",
       "   mechanics_Worker Placement  mechanics_Worker Placement with Dice Workers  \\\n",
       "0                           0                                             0   \n",
       "1                           0                                             0   \n",
       "2                           0                                             0   \n",
       "\n",
       "   mechanics_Worker Placement, Different Worker Types  \\\n",
       "0                                                  0    \n",
       "1                                                  0    \n",
       "2                                                  0    \n",
       "\n",
       "   mechanics_Zone of Control  \n",
       "0                          0  \n",
       "1                          0  \n",
       "2                          0  \n",
       "\n",
       "[3 rows x 274 columns]"
      ]
     },
     "execution_count": 87,
     "metadata": {},
     "output_type": "execute_result"
    }
   ],
   "source": [
    "features_df.head(3)"
   ]
  },
  {
   "cell_type": "code",
   "execution_count": 96,
   "metadata": {},
   "outputs": [
    {
     "data": {
      "text/html": [
       "<div>\n",
       "<style scoped>\n",
       "    .dataframe tbody tr th:only-of-type {\n",
       "        vertical-align: middle;\n",
       "    }\n",
       "\n",
       "    .dataframe tbody tr th {\n",
       "        vertical-align: top;\n",
       "    }\n",
       "\n",
       "    .dataframe thead th {\n",
       "        text-align: right;\n",
       "    }\n",
       "</style>\n",
       "<table border=\"1\" class=\"dataframe\">\n",
       "  <thead>\n",
       "    <tr style=\"text-align: right;\">\n",
       "      <th></th>\n",
       "      <th>number_of_user_ratings</th>\n",
       "      <th>average_user_rating</th>\n",
       "      <th>number_of_user_weight_ratings</th>\n",
       "      <th>average_user_weight_rating</th>\n",
       "      <th>bayes_average</th>\n",
       "      <th>number_of_users_own</th>\n",
       "      <th>year</th>\n",
       "      <th>min_age</th>\n",
       "      <th>categories_Abstract Strategy</th>\n",
       "      <th>categories_Action / Dexterity</th>\n",
       "      <th>...</th>\n",
       "      <th>mechanics_Turn Order: Stat-Based</th>\n",
       "      <th>mechanics_Variable Phase Order</th>\n",
       "      <th>mechanics_Variable Player Powers</th>\n",
       "      <th>mechanics_Variable Setup</th>\n",
       "      <th>mechanics_Victory Points as a Resource</th>\n",
       "      <th>mechanics_Voting</th>\n",
       "      <th>mechanics_Worker Placement</th>\n",
       "      <th>mechanics_Worker Placement with Dice Workers</th>\n",
       "      <th>mechanics_Worker Placement, Different Worker Types</th>\n",
       "      <th>mechanics_Zone of Control</th>\n",
       "    </tr>\n",
       "  </thead>\n",
       "  <tbody>\n",
       "    <tr>\n",
       "      <th>0</th>\n",
       "      <td>34855</td>\n",
       "      <td>8.83110</td>\n",
       "      <td>1497</td>\n",
       "      <td>3.8270</td>\n",
       "      <td>8.57594</td>\n",
       "      <td>56031</td>\n",
       "      <td>2017</td>\n",
       "      <td>12</td>\n",
       "      <td>0</td>\n",
       "      <td>0</td>\n",
       "      <td>...</td>\n",
       "      <td>0</td>\n",
       "      <td>0</td>\n",
       "      <td>1</td>\n",
       "      <td>0</td>\n",
       "      <td>0</td>\n",
       "      <td>0</td>\n",
       "      <td>0</td>\n",
       "      <td>0</td>\n",
       "      <td>0</td>\n",
       "      <td>0</td>\n",
       "    </tr>\n",
       "    <tr>\n",
       "      <th>1</th>\n",
       "      <td>36949</td>\n",
       "      <td>8.62291</td>\n",
       "      <td>1034</td>\n",
       "      <td>2.8288</td>\n",
       "      <td>8.47129</td>\n",
       "      <td>58562</td>\n",
       "      <td>2015</td>\n",
       "      <td>13</td>\n",
       "      <td>0</td>\n",
       "      <td>0</td>\n",
       "      <td>...</td>\n",
       "      <td>0</td>\n",
       "      <td>0</td>\n",
       "      <td>1</td>\n",
       "      <td>0</td>\n",
       "      <td>0</td>\n",
       "      <td>0</td>\n",
       "      <td>0</td>\n",
       "      <td>0</td>\n",
       "      <td>0</td>\n",
       "      <td>0</td>\n",
       "    </tr>\n",
       "    <tr>\n",
       "      <th>2</th>\n",
       "      <td>19929</td>\n",
       "      <td>8.46877</td>\n",
       "      <td>980</td>\n",
       "      <td>4.3969</td>\n",
       "      <td>8.22085</td>\n",
       "      <td>23599</td>\n",
       "      <td>2015</td>\n",
       "      <td>14</td>\n",
       "      <td>0</td>\n",
       "      <td>0</td>\n",
       "      <td>...</td>\n",
       "      <td>0</td>\n",
       "      <td>0</td>\n",
       "      <td>0</td>\n",
       "      <td>0</td>\n",
       "      <td>0</td>\n",
       "      <td>0</td>\n",
       "      <td>0</td>\n",
       "      <td>0</td>\n",
       "      <td>0</td>\n",
       "      <td>0</td>\n",
       "    </tr>\n",
       "  </tbody>\n",
       "</table>\n",
       "<p>3 rows × 273 columns</p>\n",
       "</div>"
      ],
      "text/plain": [
       "   number_of_user_ratings  average_user_rating  number_of_user_weight_ratings  \\\n",
       "0                   34855              8.83110                           1497   \n",
       "1                   36949              8.62291                           1034   \n",
       "2                   19929              8.46877                            980   \n",
       "\n",
       "   average_user_weight_rating  bayes_average  number_of_users_own  year  \\\n",
       "0                      3.8270        8.57594                56031  2017   \n",
       "1                      2.8288        8.47129                58562  2015   \n",
       "2                      4.3969        8.22085                23599  2015   \n",
       "\n",
       "   min_age  categories_Abstract Strategy  categories_Action / Dexterity  ...  \\\n",
       "0       12                             0                              0  ...   \n",
       "1       13                             0                              0  ...   \n",
       "2       14                             0                              0  ...   \n",
       "\n",
       "   mechanics_Turn Order: Stat-Based  mechanics_Variable Phase Order  \\\n",
       "0                                 0                               0   \n",
       "1                                 0                               0   \n",
       "2                                 0                               0   \n",
       "\n",
       "   mechanics_Variable Player Powers  mechanics_Variable Setup  \\\n",
       "0                                 1                         0   \n",
       "1                                 1                         0   \n",
       "2                                 0                         0   \n",
       "\n",
       "   mechanics_Victory Points as a Resource  mechanics_Voting  \\\n",
       "0                                       0                 0   \n",
       "1                                       0                 0   \n",
       "2                                       0                 0   \n",
       "\n",
       "   mechanics_Worker Placement  mechanics_Worker Placement with Dice Workers  \\\n",
       "0                           0                                             0   \n",
       "1                           0                                             0   \n",
       "2                           0                                             0   \n",
       "\n",
       "   mechanics_Worker Placement, Different Worker Types  \\\n",
       "0                                                  0    \n",
       "1                                                  0    \n",
       "2                                                  0    \n",
       "\n",
       "   mechanics_Zone of Control  \n",
       "0                          0  \n",
       "1                          0  \n",
       "2                          0  \n",
       "\n",
       "[3 rows x 273 columns]"
      ]
     },
     "execution_count": 96,
     "metadata": {},
     "output_type": "execute_result"
    }
   ],
   "source": [
    "# Maybe I need features without the id\n",
    "features_df = features_df.drop('id', axis=1)\n",
    "features_df.head(3)"
   ]
  },
  {
   "cell_type": "markdown",
   "metadata": {},
   "source": [
    "# Try PCA"
   ]
  },
  {
   "cell_type": "code",
   "execution_count": 103,
   "metadata": {},
   "outputs": [
    {
     "data": {
      "text/plain": [
       "array([[ 9.38013671,  2.74220735,  6.38215644, ..., -0.03909438,\n",
       "        -0.03827003, -0.06638293],\n",
       "       [ 9.9593565 ,  2.50783374,  4.32613998, ..., -0.03909438,\n",
       "        -0.03827003, -0.06638293],\n",
       "       [ 5.25146692,  2.33430788,  4.08634541, ..., -0.03909438,\n",
       "        -0.03827003, -0.06638293],\n",
       "       ...,\n",
       "       [ 0.76126883, -3.61109724,  1.08003194, ..., -0.03909438,\n",
       "        -0.03827003, -0.06638293],\n",
       "       [ 0.68603111, -3.99916067,  0.97789721, ..., -0.03909438,\n",
       "        -0.03827003, -0.06638293],\n",
       "       [ 0.57704707, -4.20246309,  1.27986075, ..., -0.03909438,\n",
       "        -0.03827003, -0.06638293]])"
      ]
     },
     "execution_count": 103,
     "metadata": {},
     "output_type": "execute_result"
    }
   ],
   "source": [
    "# first I need to standardize my data!\n",
    "standardized_features = StandardScaler().fit_transform(features_df)"
   ]
  },
  {
   "cell_type": "code",
   "execution_count": 105,
   "metadata": {},
   "outputs": [],
   "source": [
    "# Try PCA with 2 components\n",
    "seed = 28\n",
    "pca = PCA(n_components=2, random_state=seed)"
   ]
  },
  {
   "cell_type": "code",
   "execution_count": 106,
   "metadata": {},
   "outputs": [],
   "source": [
    "principal_components = pca.fit_transform(standardized_features)"
   ]
  },
  {
   "cell_type": "code",
   "execution_count": 109,
   "metadata": {},
   "outputs": [],
   "source": [
    "principal_df = pd.DataFrame(data=principal_components, columns = ['pc1', 'pc2'])"
   ]
  },
  {
   "cell_type": "code",
   "execution_count": 110,
   "metadata": {},
   "outputs": [
    {
     "data": {
      "text/html": [
       "<div>\n",
       "<style scoped>\n",
       "    .dataframe tbody tr th:only-of-type {\n",
       "        vertical-align: middle;\n",
       "    }\n",
       "\n",
       "    .dataframe tbody tr th {\n",
       "        vertical-align: top;\n",
       "    }\n",
       "\n",
       "    .dataframe thead th {\n",
       "        text-align: right;\n",
       "    }\n",
       "</style>\n",
       "<table border=\"1\" class=\"dataframe\">\n",
       "  <thead>\n",
       "    <tr style=\"text-align: right;\">\n",
       "      <th></th>\n",
       "      <th>pc1</th>\n",
       "      <th>pc2</th>\n",
       "    </tr>\n",
       "  </thead>\n",
       "  <tbody>\n",
       "    <tr>\n",
       "      <th>0</th>\n",
       "      <td>18.996299</td>\n",
       "      <td>4.727358</td>\n",
       "    </tr>\n",
       "    <tr>\n",
       "      <th>1</th>\n",
       "      <td>12.655769</td>\n",
       "      <td>5.796987</td>\n",
       "    </tr>\n",
       "    <tr>\n",
       "      <th>2</th>\n",
       "      <td>12.218003</td>\n",
       "      <td>4.777187</td>\n",
       "    </tr>\n",
       "    <tr>\n",
       "      <th>3</th>\n",
       "      <td>24.198041</td>\n",
       "      <td>9.785479</td>\n",
       "    </tr>\n",
       "    <tr>\n",
       "      <th>4</th>\n",
       "      <td>19.853454</td>\n",
       "      <td>2.278875</td>\n",
       "    </tr>\n",
       "    <tr>\n",
       "      <th>...</th>\n",
       "      <td>...</td>\n",
       "      <td>...</td>\n",
       "    </tr>\n",
       "    <tr>\n",
       "      <th>15722</th>\n",
       "      <td>-2.595430</td>\n",
       "      <td>0.119969</td>\n",
       "    </tr>\n",
       "    <tr>\n",
       "      <th>15723</th>\n",
       "      <td>-4.564361</td>\n",
       "      <td>2.308055</td>\n",
       "    </tr>\n",
       "    <tr>\n",
       "      <th>15724</th>\n",
       "      <td>-3.608051</td>\n",
       "      <td>1.343592</td>\n",
       "    </tr>\n",
       "    <tr>\n",
       "      <th>15725</th>\n",
       "      <td>-4.392331</td>\n",
       "      <td>1.379903</td>\n",
       "    </tr>\n",
       "    <tr>\n",
       "      <th>15726</th>\n",
       "      <td>-4.613724</td>\n",
       "      <td>1.407062</td>\n",
       "    </tr>\n",
       "  </tbody>\n",
       "</table>\n",
       "<p>15727 rows × 2 columns</p>\n",
       "</div>"
      ],
      "text/plain": [
       "             pc1       pc2\n",
       "0      18.996299  4.727358\n",
       "1      12.655769  5.796987\n",
       "2      12.218003  4.777187\n",
       "3      24.198041  9.785479\n",
       "4      19.853454  2.278875\n",
       "...          ...       ...\n",
       "15722  -2.595430  0.119969\n",
       "15723  -4.564361  2.308055\n",
       "15724  -3.608051  1.343592\n",
       "15725  -4.392331  1.379903\n",
       "15726  -4.613724  1.407062\n",
       "\n",
       "[15727 rows x 2 columns]"
      ]
     },
     "execution_count": 110,
     "metadata": {},
     "output_type": "execute_result"
    }
   ],
   "source": [
    "principal_df"
   ]
  },
  {
   "cell_type": "code",
   "execution_count": 114,
   "metadata": {},
   "outputs": [
    {
     "data": {
      "text/plain": [
       "<matplotlib.axes._subplots.AxesSubplot at 0x7faa0d9d5520>"
      ]
     },
     "execution_count": 114,
     "metadata": {},
     "output_type": "execute_result"
    },
    {
     "data": {
      "image/png": "[encoded data removed]",
      "text/plain": [
       "<Figure size 432x288 with 1 Axes>"
      ]
     },
     "metadata": {
      "needs_background": "light"
     },
     "output_type": "display_data"
    }
   ],
   "source": [
    "principal_df.plot.scatter(x='pc1', y='pc2')"
   ]
  },
  {
   "cell_type": "markdown",
   "metadata": {},
   "source": [
    "# Try to drop Publish Year, see what happens"
   ]
  },
  {
   "cell_type": "code",
   "execution_count": 122,
   "metadata": {},
   "outputs": [
    {
     "data": {
      "text/plain": [
       "<matplotlib.axes._subplots.AxesSubplot at 0x7faa0b61eb50>"
      ]
     },
     "execution_count": 122,
     "metadata": {},
     "output_type": "execute_result"
    },
    {
     "data": {
      "image/png": "[encoded data removed]",
      "text/plain": [
       "<Figure size 432x288 with 1 Axes>"
      ]
     },
     "metadata": {
      "needs_background": "light"
     },
     "output_type": "display_data"
    }
   ],
   "source": [
    "# features_df = features_df.drop('year', axis=1)\n",
    "standardized_features = StandardScaler().fit_transform(features_df)\n",
    "seed = 28\n",
    "pca = PCA(n_components=2, random_state=seed)\n",
    "principal_components = pca.fit_transform(standardized_features)\n",
    "principal_df = pd.DataFrame(data=principal_components, columns = ['pc1', 'pc2'])\n",
    "principal_df.plot.scatter(x='pc1', y='pc2')"
   ]
  },
  {
   "cell_type": "code",
   "execution_count": 124,
   "metadata": {},
   "outputs": [
    {
     "name": "stdout",
     "output_type": "stream",
     "text": [
      "0.036813814606111384\n"
     ]
    }
   ],
   "source": [
    "# A very small % of the variance is explained with just two factors (which makes sense, we have ~ 200)\n",
    "pca.explained_variance_ratio_\n",
    "print(sum(pca.explained_variance_ratio_))"
   ]
  },
  {
   "cell_type": "markdown",
   "metadata": {},
   "source": [
    "Not much changed when we dropped Year"
   ]
  },
  {
   "cell_type": "markdown",
   "metadata": {},
   "source": [
    "# Unlimited number of components"
   ]
  },
  {
   "cell_type": "code",
   "execution_count": 125,
   "metadata": {},
   "outputs": [],
   "source": [
    "# Not limiting the number of components, just specifying the amount of variance I want\n",
    "variance_explained = .9\n",
    "\n",
    "standardized_features = StandardScaler().fit_transform(features_df)\n",
    "seed = 28\n",
    "pca = PCA(variance_explained, random_state=seed)\n",
    "principal_components = pca.fit_transform(standardized_features)"
   ]
  },
  {
   "cell_type": "code",
   "execution_count": 128,
   "metadata": {},
   "outputs": [
    {
     "data": {
      "text/plain": [
       "(15727, 272)"
      ]
     },
     "execution_count": 128,
     "metadata": {},
     "output_type": "execute_result"
    }
   ],
   "source": [
    "features_df.shape"
   ]
  },
  {
   "cell_type": "code",
   "execution_count": 127,
   "metadata": {},
   "outputs": [
    {
     "data": {
      "text/plain": [
       "215"
      ]
     },
     "execution_count": 127,
     "metadata": {},
     "output_type": "execute_result"
    }
   ],
   "source": [
    "# It appears we shaved off 57 out of 272 features and lost only 10% of variance\n",
    "pca.n_components_"
   ]
  },
  {
   "cell_type": "markdown",
   "metadata": {},
   "source": [
    "# Try PCA w/ 2 components just on numberic variables"
   ]
  },
  {
   "cell_type": "code",
   "execution_count": 149,
   "metadata": {},
   "outputs": [
    {
     "data": {
      "text/plain": [
       "['number_of_user_ratings',\n",
       " 'average_user_rating',\n",
       " 'number_of_user_weight_ratings',\n",
       " 'average_user_weight_rating',\n",
       " 'bayes_average',\n",
       " 'number_of_users_own',\n",
       " 'min_age']"
      ]
     },
     "execution_count": 149,
     "metadata": {},
     "output_type": "execute_result"
    }
   ],
   "source": [
    "list(features_df.columns)[:7]"
   ]
  },
  {
   "cell_type": "code",
   "execution_count": 150,
   "metadata": {},
   "outputs": [
    {
     "data": {
      "text/html": [
       "<div>\n",
       "<style scoped>\n",
       "    .dataframe tbody tr th:only-of-type {\n",
       "        vertical-align: middle;\n",
       "    }\n",
       "\n",
       "    .dataframe tbody tr th {\n",
       "        vertical-align: top;\n",
       "    }\n",
       "\n",
       "    .dataframe thead th {\n",
       "        text-align: right;\n",
       "    }\n",
       "</style>\n",
       "<table border=\"1\" class=\"dataframe\">\n",
       "  <thead>\n",
       "    <tr style=\"text-align: right;\">\n",
       "      <th></th>\n",
       "      <th>number_of_user_ratings</th>\n",
       "      <th>average_user_rating</th>\n",
       "      <th>number_of_user_weight_ratings</th>\n",
       "      <th>average_user_weight_rating</th>\n",
       "      <th>bayes_average</th>\n",
       "      <th>number_of_users_own</th>\n",
       "      <th>min_age</th>\n",
       "    </tr>\n",
       "  </thead>\n",
       "  <tbody>\n",
       "    <tr>\n",
       "      <th>0</th>\n",
       "      <td>34855</td>\n",
       "      <td>8.83110</td>\n",
       "      <td>1497</td>\n",
       "      <td>3.8270</td>\n",
       "      <td>8.57594</td>\n",
       "      <td>56031</td>\n",
       "      <td>12</td>\n",
       "    </tr>\n",
       "    <tr>\n",
       "      <th>1</th>\n",
       "      <td>36949</td>\n",
       "      <td>8.62291</td>\n",
       "      <td>1034</td>\n",
       "      <td>2.8288</td>\n",
       "      <td>8.47129</td>\n",
       "      <td>58562</td>\n",
       "      <td>13</td>\n",
       "    </tr>\n",
       "    <tr>\n",
       "      <th>2</th>\n",
       "      <td>19929</td>\n",
       "      <td>8.46877</td>\n",
       "      <td>980</td>\n",
       "      <td>4.3969</td>\n",
       "      <td>8.22085</td>\n",
       "      <td>23599</td>\n",
       "      <td>14</td>\n",
       "    </tr>\n",
       "  </tbody>\n",
       "</table>\n",
       "</div>"
      ],
      "text/plain": [
       "   number_of_user_ratings  average_user_rating  number_of_user_weight_ratings  \\\n",
       "0                   34855              8.83110                           1497   \n",
       "1                   36949              8.62291                           1034   \n",
       "2                   19929              8.46877                            980   \n",
       "\n",
       "   average_user_weight_rating  bayes_average  number_of_users_own  min_age  \n",
       "0                      3.8270        8.57594                56031       12  \n",
       "1                      2.8288        8.47129                58562       13  \n",
       "2                      4.3969        8.22085                23599       14  "
      ]
     },
     "execution_count": 150,
     "metadata": {},
     "output_type": "execute_result"
    }
   ],
   "source": [
    "numeric_features_df = features_df[list(features_df.columns)[:7]]\n",
    "numeric_features_df.head(3)"
   ]
  },
  {
   "cell_type": "code",
   "execution_count": 152,
   "metadata": {},
   "outputs": [
    {
     "data": {
      "text/plain": [
       "array([[ 9.38013671,  2.74220735,  6.38215644, ...,  6.85775344,\n",
       "        10.65677593,  0.64253577],\n",
       "       [ 9.9593565 ,  2.50783374,  4.32613998, ...,  6.6070442 ,\n",
       "        11.15179351,  0.92168383],\n",
       "       [ 5.25146692,  2.33430788,  4.08634541, ...,  6.00706691,\n",
       "         4.31366648,  1.2008319 ],\n",
       "       ...,\n",
       "       [ 0.76126883, -3.61109724,  1.08003194, ..., -4.6384094 ,\n",
       "         0.72806505, -1.86979683],\n",
       "       [ 0.68603111, -3.99916067,  0.97789721, ..., -5.04951027,\n",
       "         0.47459102, -1.86979683],\n",
       "       [ 0.57704707, -4.20246309,  1.27986075, ..., -5.23040903,\n",
       "        -0.05367546, -1.59064876]])"
      ]
     },
     "execution_count": 152,
     "metadata": {},
     "output_type": "execute_result"
    }
   ],
   "source": [
    "standardized_numeric_features = StandardScaler().fit_transform(numeric_features_df)\n",
    "standardized_numeric_features"
   ]
  },
  {
   "cell_type": "code",
   "execution_count": 154,
   "metadata": {},
   "outputs": [
    {
     "data": {
      "text/plain": [
       "<matplotlib.axes._subplots.AxesSubplot at 0x7faa0ae8e7c0>"
      ]
     },
     "execution_count": 154,
     "metadata": {},
     "output_type": "execute_result"
    },
    {
     "data": {
      "image/png": "[encoded data removed]",
      "text/plain": [
       "<Figure size 432x288 with 1 Axes>"
      ]
     },
     "metadata": {
      "needs_background": "light"
     },
     "output_type": "display_data"
    }
   ],
   "source": [
    "seed = 28\n",
    "pca = PCA(n_components=2, random_state=seed)\n",
    "principal_components = pca.fit_transform(standardized_numeric_features)\n",
    "principal_df = pd.DataFrame(data=principal_components, columns = ['pc1', 'pc2'])\n",
    "principal_df.plot.scatter(x='pc1', y='pc2')"
   ]
  },
  {
   "cell_type": "code",
   "execution_count": 155,
   "metadata": {},
   "outputs": [
    {
     "name": "stdout",
     "output_type": "stream",
     "text": [
      "0.7297733827195095\n"
     ]
    }
   ],
   "source": [
    "# With just 2 out of the 7 numeric variables, we capture 73% of variance\n",
    "print(sum(pca.explained_variance_ratio_))"
   ]
  },
  {
   "cell_type": "markdown",
   "metadata": {},
   "source": [
    "# PCA with unlimited number of components on numeric features"
   ]
  },
  {
   "cell_type": "code",
   "execution_count": 160,
   "metadata": {},
   "outputs": [],
   "source": [
    "# Not limiting the number of components, just specifying the amount of variance I want\n",
    "variance_explained = .9\n",
    "\n",
    "standardized_numeric_features = StandardScaler().fit_transform(numeric_features_df)\n",
    "seed = 28\n",
    "pca = PCA(variance_explained, random_state=seed)\n",
    "principal_components = pca.fit_transform(standardized_numeric_features)"
   ]
  },
  {
   "cell_type": "code",
   "execution_count": 161,
   "metadata": {},
   "outputs": [
    {
     "data": {
      "text/plain": [
       "4"
      ]
     },
     "execution_count": 161,
     "metadata": {},
     "output_type": "execute_result"
    }
   ],
   "source": [
    "# Just 4 variables can replace the 7 numeric ones and help us retain 90 % of variance\n",
    "pca.n_components_"
   ]
  },
  {
   "cell_type": "code",
   "execution_count": null,
   "metadata": {},
   "outputs": [],
   "source": []
  },
  {
   "cell_type": "code",
   "execution_count": null,
   "metadata": {},
   "outputs": [],
   "source": []
  },
  {
   "cell_type": "code",
   "execution_count": null,
   "metadata": {},
   "outputs": [],
   "source": []
  },
  {
   "cell_type": "markdown",
   "metadata": {},
   "source": [
    "# Try MCA for Categorical Features"
   ]
  },
  {
   "cell_type": "markdown",
   "metadata": {},
   "source": [
    "Docs:  \n",
    "https://github.com/MaxHalford/prince#multiple-correspondence-analysis-mca  \n",
    "https://stackoverflow.com/questions/48521740/using-mca-package-in-python  \n",
    "https://en.wikipedia.org/wiki/Multiple_correspondence_analysis"
   ]
  },
  {
   "cell_type": "code",
   "execution_count": 134,
   "metadata": {},
   "outputs": [
    {
     "data": {
      "text/html": [
       "<div>\n",
       "<style scoped>\n",
       "    .dataframe tbody tr th:only-of-type {\n",
       "        vertical-align: middle;\n",
       "    }\n",
       "\n",
       "    .dataframe tbody tr th {\n",
       "        vertical-align: top;\n",
       "    }\n",
       "\n",
       "    .dataframe thead th {\n",
       "        text-align: right;\n",
       "    }\n",
       "</style>\n",
       "<table border=\"1\" class=\"dataframe\">\n",
       "  <thead>\n",
       "    <tr style=\"text-align: right;\">\n",
       "      <th></th>\n",
       "      <th>categories_Abstract Strategy</th>\n",
       "      <th>categories_Action / Dexterity</th>\n",
       "      <th>categories_Adventure</th>\n",
       "      <th>categories_Age of Reason</th>\n",
       "      <th>categories_American Civil War</th>\n",
       "      <th>categories_American Indian Wars</th>\n",
       "      <th>categories_American Revolutionary War</th>\n",
       "      <th>categories_American West</th>\n",
       "      <th>categories_Ancient</th>\n",
       "      <th>categories_Animals</th>\n",
       "      <th>...</th>\n",
       "      <th>mechanics_Turn Order: Stat-Based</th>\n",
       "      <th>mechanics_Variable Phase Order</th>\n",
       "      <th>mechanics_Variable Player Powers</th>\n",
       "      <th>mechanics_Variable Setup</th>\n",
       "      <th>mechanics_Victory Points as a Resource</th>\n",
       "      <th>mechanics_Voting</th>\n",
       "      <th>mechanics_Worker Placement</th>\n",
       "      <th>mechanics_Worker Placement with Dice Workers</th>\n",
       "      <th>mechanics_Worker Placement, Different Worker Types</th>\n",
       "      <th>mechanics_Zone of Control</th>\n",
       "    </tr>\n",
       "  </thead>\n",
       "  <tbody>\n",
       "    <tr>\n",
       "      <th>0</th>\n",
       "      <td>0</td>\n",
       "      <td>0</td>\n",
       "      <td>1</td>\n",
       "      <td>0</td>\n",
       "      <td>0</td>\n",
       "      <td>0</td>\n",
       "      <td>0</td>\n",
       "      <td>0</td>\n",
       "      <td>0</td>\n",
       "      <td>0</td>\n",
       "      <td>...</td>\n",
       "      <td>0</td>\n",
       "      <td>0</td>\n",
       "      <td>1</td>\n",
       "      <td>0</td>\n",
       "      <td>0</td>\n",
       "      <td>0</td>\n",
       "      <td>0</td>\n",
       "      <td>0</td>\n",
       "      <td>0</td>\n",
       "      <td>0</td>\n",
       "    </tr>\n",
       "    <tr>\n",
       "      <th>1</th>\n",
       "      <td>0</td>\n",
       "      <td>0</td>\n",
       "      <td>0</td>\n",
       "      <td>0</td>\n",
       "      <td>0</td>\n",
       "      <td>0</td>\n",
       "      <td>0</td>\n",
       "      <td>0</td>\n",
       "      <td>0</td>\n",
       "      <td>0</td>\n",
       "      <td>...</td>\n",
       "      <td>0</td>\n",
       "      <td>0</td>\n",
       "      <td>1</td>\n",
       "      <td>0</td>\n",
       "      <td>0</td>\n",
       "      <td>0</td>\n",
       "      <td>0</td>\n",
       "      <td>0</td>\n",
       "      <td>0</td>\n",
       "      <td>0</td>\n",
       "    </tr>\n",
       "    <tr>\n",
       "      <th>2</th>\n",
       "      <td>0</td>\n",
       "      <td>0</td>\n",
       "      <td>0</td>\n",
       "      <td>0</td>\n",
       "      <td>0</td>\n",
       "      <td>0</td>\n",
       "      <td>0</td>\n",
       "      <td>0</td>\n",
       "      <td>0</td>\n",
       "      <td>0</td>\n",
       "      <td>...</td>\n",
       "      <td>0</td>\n",
       "      <td>0</td>\n",
       "      <td>0</td>\n",
       "      <td>0</td>\n",
       "      <td>0</td>\n",
       "      <td>0</td>\n",
       "      <td>0</td>\n",
       "      <td>0</td>\n",
       "      <td>0</td>\n",
       "      <td>0</td>\n",
       "    </tr>\n",
       "  </tbody>\n",
       "</table>\n",
       "<p>3 rows × 265 columns</p>\n",
       "</div>"
      ],
      "text/plain": [
       "   categories_Abstract Strategy  categories_Action / Dexterity  \\\n",
       "0                             0                              0   \n",
       "1                             0                              0   \n",
       "2                             0                              0   \n",
       "\n",
       "   categories_Adventure  categories_Age of Reason  \\\n",
       "0                     1                         0   \n",
       "1                     0                         0   \n",
       "2                     0                         0   \n",
       "\n",
       "   categories_American Civil War  categories_American Indian Wars  \\\n",
       "0                              0                                0   \n",
       "1                              0                                0   \n",
       "2                              0                                0   \n",
       "\n",
       "   categories_American Revolutionary War  categories_American West  \\\n",
       "0                                      0                         0   \n",
       "1                                      0                         0   \n",
       "2                                      0                         0   \n",
       "\n",
       "   categories_Ancient  categories_Animals  ...  \\\n",
       "0                   0                   0  ...   \n",
       "1                   0                   0  ...   \n",
       "2                   0                   0  ...   \n",
       "\n",
       "   mechanics_Turn Order: Stat-Based  mechanics_Variable Phase Order  \\\n",
       "0                                 0                               0   \n",
       "1                                 0                               0   \n",
       "2                                 0                               0   \n",
       "\n",
       "   mechanics_Variable Player Powers  mechanics_Variable Setup  \\\n",
       "0                                 1                         0   \n",
       "1                                 1                         0   \n",
       "2                                 0                         0   \n",
       "\n",
       "   mechanics_Victory Points as a Resource  mechanics_Voting  \\\n",
       "0                                       0                 0   \n",
       "1                                       0                 0   \n",
       "2                                       0                 0   \n",
       "\n",
       "   mechanics_Worker Placement  mechanics_Worker Placement with Dice Workers  \\\n",
       "0                           0                                             0   \n",
       "1                           0                                             0   \n",
       "2                           0                                             0   \n",
       "\n",
       "   mechanics_Worker Placement, Different Worker Types  \\\n",
       "0                                                  0    \n",
       "1                                                  0    \n",
       "2                                                  0    \n",
       "\n",
       "   mechanics_Zone of Control  \n",
       "0                          0  \n",
       "1                          0  \n",
       "2                          0  \n",
       "\n",
       "[3 rows x 265 columns]"
      ]
     },
     "execution_count": 134,
     "metadata": {},
     "output_type": "execute_result"
    }
   ],
   "source": [
    "# Extracting just the categorical features\n",
    "cols = list(features_df.columns)\n",
    "categorigal_features_df = features_df[cols[7:]]\n",
    "categorigal_features_df.head(3)"
   ]
  },
  {
   "cell_type": "code",
   "execution_count": 136,
   "metadata": {},
   "outputs": [],
   "source": [
    "mca = prince.MCA(n_components=2, n_iter=3,copy=True, check_input=True,engine='auto', random_state=42)\n",
    "mca = mca.fit(categorigal_features_df)"
   ]
  },
  {
   "cell_type": "code",
   "execution_count": 140,
   "metadata": {},
   "outputs": [
    {
     "data": {
      "text/plain": [
       "<matplotlib.axes._subplots.AxesSubplot at 0x7faa172c25b0>"
      ]
     },
     "execution_count": 140,
     "metadata": {},
     "output_type": "execute_result"
    },
    {
     "data": {
      "image/png": "[encoded data removed]",
      "text/plain": [
       "<Figure size 432x288 with 1 Axes>"
      ]
     },
     "metadata": {
      "needs_background": "light"
     },
     "output_type": "display_data"
    }
   ],
   "source": [
    "mca.transform(categorigal_features_df).plot.scatter(x=0, y=1)"
   ]
  },
  {
   "cell_type": "code",
   "execution_count": 141,
   "metadata": {},
   "outputs": [
    {
     "ename": "ZeroDivisionError",
     "evalue": "float division by zero",
     "output_type": "error",
     "traceback": [
      "\u001b[0;31m---------------------------------------------------------------------------\u001b[0m",
      "\u001b[0;31mZeroDivisionError\u001b[0m                         Traceback (most recent call last)",
      "\u001b[0;32m<ipython-input-141-02c72f340670>\u001b[0m in \u001b[0;36m<module>\u001b[0;34m\u001b[0m\n\u001b[1;32m      2\u001b[0m \u001b[0mmca\u001b[0m \u001b[0;34m=\u001b[0m \u001b[0mmca\u001b[0m\u001b[0;34m.\u001b[0m\u001b[0mfit\u001b[0m\u001b[0;34m(\u001b[0m\u001b[0mcategorigal_features_df\u001b[0m\u001b[0;34m)\u001b[0m\u001b[0;34m\u001b[0m\u001b[0;34m\u001b[0m\u001b[0m\n\u001b[1;32m      3\u001b[0m \u001b[0;34m\u001b[0m\u001b[0m\n\u001b[0;32m----> 4\u001b[0;31m ax = mca.plot_coordinates(\n\u001b[0m\u001b[1;32m      5\u001b[0m \u001b[0mX\u001b[0m\u001b[0;34m=\u001b[0m\u001b[0mcategorigal_features_df\u001b[0m\u001b[0;34m,\u001b[0m\u001b[0;34m\u001b[0m\u001b[0;34m\u001b[0m\u001b[0m\n\u001b[1;32m      6\u001b[0m \u001b[0max\u001b[0m\u001b[0;34m=\u001b[0m\u001b[0;32mNone\u001b[0m\u001b[0;34m,\u001b[0m\u001b[0;34m\u001b[0m\u001b[0;34m\u001b[0m\u001b[0m\n",
      "\u001b[0;32m~/opt/anaconda3/envs/msia423/lib/python3.8/site-packages/prince/mca.py\u001b[0m in \u001b[0;36mplot_coordinates\u001b[0;34m(self, X, ax, figsize, x_component, y_component, show_row_points, row_points_size, row_points_alpha, show_row_labels, show_column_points, column_points_size, show_column_labels, legend_n_cols)\u001b[0m\n\u001b[1;32m    125\u001b[0m         \u001b[0;31m# Text\u001b[0m\u001b[0;34m\u001b[0m\u001b[0;34m\u001b[0m\u001b[0;34m\u001b[0m\u001b[0m\n\u001b[1;32m    126\u001b[0m         \u001b[0max\u001b[0m\u001b[0;34m.\u001b[0m\u001b[0mset_title\u001b[0m\u001b[0;34m(\u001b[0m\u001b[0;34m'Row and column principal coordinates'\u001b[0m\u001b[0;34m)\u001b[0m\u001b[0;34m\u001b[0m\u001b[0;34m\u001b[0m\u001b[0m\n\u001b[0;32m--> 127\u001b[0;31m         \u001b[0mei\u001b[0m \u001b[0;34m=\u001b[0m \u001b[0mself\u001b[0m\u001b[0;34m.\u001b[0m\u001b[0mexplained_inertia_\u001b[0m\u001b[0;34m\u001b[0m\u001b[0;34m\u001b[0m\u001b[0m\n\u001b[0m\u001b[1;32m    128\u001b[0m         \u001b[0max\u001b[0m\u001b[0;34m.\u001b[0m\u001b[0mset_xlabel\u001b[0m\u001b[0;34m(\u001b[0m\u001b[0;34m'Component {} ({:.2f}% inertia)'\u001b[0m\u001b[0;34m.\u001b[0m\u001b[0mformat\u001b[0m\u001b[0;34m(\u001b[0m\u001b[0mx_component\u001b[0m\u001b[0;34m,\u001b[0m \u001b[0;36m100\u001b[0m \u001b[0;34m*\u001b[0m \u001b[0mei\u001b[0m\u001b[0;34m[\u001b[0m\u001b[0mx_component\u001b[0m\u001b[0;34m]\u001b[0m\u001b[0;34m)\u001b[0m\u001b[0;34m)\u001b[0m\u001b[0;34m\u001b[0m\u001b[0;34m\u001b[0m\u001b[0m\n\u001b[1;32m    129\u001b[0m         \u001b[0max\u001b[0m\u001b[0;34m.\u001b[0m\u001b[0mset_ylabel\u001b[0m\u001b[0;34m(\u001b[0m\u001b[0;34m'Component {} ({:.2f}% inertia)'\u001b[0m\u001b[0;34m.\u001b[0m\u001b[0mformat\u001b[0m\u001b[0;34m(\u001b[0m\u001b[0my_component\u001b[0m\u001b[0;34m,\u001b[0m \u001b[0;36m100\u001b[0m \u001b[0;34m*\u001b[0m \u001b[0mei\u001b[0m\u001b[0;34m[\u001b[0m\u001b[0my_component\u001b[0m\u001b[0;34m]\u001b[0m\u001b[0;34m)\u001b[0m\u001b[0;34m)\u001b[0m\u001b[0;34m\u001b[0m\u001b[0;34m\u001b[0m\u001b[0m\n",
      "\u001b[0;32m~/opt/anaconda3/envs/msia423/lib/python3.8/site-packages/prince/ca.py\u001b[0m in \u001b[0;36mexplained_inertia_\u001b[0;34m(self)\u001b[0m\n\u001b[1;32m    105\u001b[0m         \u001b[0;34m\"\"\"The percentage of explained inertia per principal component.\"\"\"\u001b[0m\u001b[0;34m\u001b[0m\u001b[0;34m\u001b[0m\u001b[0m\n\u001b[1;32m    106\u001b[0m         \u001b[0mutils\u001b[0m\u001b[0;34m.\u001b[0m\u001b[0mvalidation\u001b[0m\u001b[0;34m.\u001b[0m\u001b[0mcheck_is_fitted\u001b[0m\u001b[0;34m(\u001b[0m\u001b[0mself\u001b[0m\u001b[0;34m)\u001b[0m\u001b[0;34m\u001b[0m\u001b[0;34m\u001b[0m\u001b[0m\n\u001b[0;32m--> 107\u001b[0;31m         \u001b[0;32mreturn\u001b[0m \u001b[0;34m[\u001b[0m\u001b[0meig\u001b[0m \u001b[0;34m/\u001b[0m \u001b[0mself\u001b[0m\u001b[0;34m.\u001b[0m\u001b[0mtotal_inertia_\u001b[0m \u001b[0;32mfor\u001b[0m \u001b[0meig\u001b[0m \u001b[0;32min\u001b[0m \u001b[0mself\u001b[0m\u001b[0;34m.\u001b[0m\u001b[0meigenvalues_\u001b[0m\u001b[0;34m]\u001b[0m\u001b[0;34m\u001b[0m\u001b[0;34m\u001b[0m\u001b[0m\n\u001b[0m\u001b[1;32m    108\u001b[0m \u001b[0;34m\u001b[0m\u001b[0m\n\u001b[1;32m    109\u001b[0m     \u001b[0;32mdef\u001b[0m \u001b[0mrow_coordinates\u001b[0m\u001b[0;34m(\u001b[0m\u001b[0mself\u001b[0m\u001b[0;34m,\u001b[0m \u001b[0mX\u001b[0m\u001b[0;34m)\u001b[0m\u001b[0;34m:\u001b[0m\u001b[0;34m\u001b[0m\u001b[0;34m\u001b[0m\u001b[0m\n",
      "\u001b[0;32m~/opt/anaconda3/envs/msia423/lib/python3.8/site-packages/prince/ca.py\u001b[0m in \u001b[0;36m<listcomp>\u001b[0;34m(.0)\u001b[0m\n\u001b[1;32m    105\u001b[0m         \u001b[0;34m\"\"\"The percentage of explained inertia per principal component.\"\"\"\u001b[0m\u001b[0;34m\u001b[0m\u001b[0;34m\u001b[0m\u001b[0m\n\u001b[1;32m    106\u001b[0m         \u001b[0mutils\u001b[0m\u001b[0;34m.\u001b[0m\u001b[0mvalidation\u001b[0m\u001b[0;34m.\u001b[0m\u001b[0mcheck_is_fitted\u001b[0m\u001b[0;34m(\u001b[0m\u001b[0mself\u001b[0m\u001b[0;34m)\u001b[0m\u001b[0;34m\u001b[0m\u001b[0;34m\u001b[0m\u001b[0m\n\u001b[0;32m--> 107\u001b[0;31m         \u001b[0;32mreturn\u001b[0m \u001b[0;34m[\u001b[0m\u001b[0meig\u001b[0m \u001b[0;34m/\u001b[0m \u001b[0mself\u001b[0m\u001b[0;34m.\u001b[0m\u001b[0mtotal_inertia_\u001b[0m \u001b[0;32mfor\u001b[0m \u001b[0meig\u001b[0m \u001b[0;32min\u001b[0m \u001b[0mself\u001b[0m\u001b[0;34m.\u001b[0m\u001b[0meigenvalues_\u001b[0m\u001b[0;34m]\u001b[0m\u001b[0;34m\u001b[0m\u001b[0;34m\u001b[0m\u001b[0m\n\u001b[0m\u001b[1;32m    108\u001b[0m \u001b[0;34m\u001b[0m\u001b[0m\n\u001b[1;32m    109\u001b[0m     \u001b[0;32mdef\u001b[0m \u001b[0mrow_coordinates\u001b[0m\u001b[0;34m(\u001b[0m\u001b[0mself\u001b[0m\u001b[0;34m,\u001b[0m \u001b[0mX\u001b[0m\u001b[0;34m)\u001b[0m\u001b[0;34m:\u001b[0m\u001b[0;34m\u001b[0m\u001b[0;34m\u001b[0m\u001b[0m\n",
      "\u001b[0;31mZeroDivisionError\u001b[0m: float division by zero"
     ]
    },
    {
     "data": {
      "image/png": "[encoded data removed]",
      "text/plain": [
       "<Figure size 432x432 with 1 Axes>"
      ]
     },
     "metadata": {
      "needs_background": "light"
     },
     "output_type": "display_data"
    }
   ],
   "source": [
    "mca = prince.MCA(n_components=2, n_iter=3,copy=True, check_input=True,engine='auto', random_state=42)\n",
    "mca = mca.fit(categorigal_features_df)\n",
    "\n",
    "ax = mca.plot_coordinates(\n",
    "X=categorigal_features_df,\n",
    "ax=None,\n",
    "figsize=(6, 6),\n",
    "show_row_points=True,\n",
    "row_points_size=10,\n",
    "show_row_labels=False,\n",
    "show_column_points=True,\n",
    "column_points_size=30,\n",
    "show_column_labels=False,\n",
    "legend_n_cols=1\n",
    ")"
   ]
  },
  {
   "cell_type": "markdown",
   "metadata": {},
   "source": [
    "It produced a funky image, but I don't think this is useful;  \n",
    "The documentation shows data in a different format:  \n",
    "    Color   Size   Action    Age Inflated  \n",
    "0  YELLOW  SMALL  STRETCH  ADULT        T  \n",
    "1  YELLOW  SMALL  STRETCH  CHILD        F  \n",
    "2  YELLOW  SMALL      DIP  ADULT        F  \n",
    "3  YELLOW  SMALL      DIP  CHILD        F  \n",
    "4  YELLOW  LARGE  STRETCH  ADULT        T  "
   ]
  },
  {
   "cell_type": "code",
   "execution_count": null,
   "metadata": {},
   "outputs": [],
   "source": []
  },
  {
   "cell_type": "code",
   "execution_count": null,
   "metadata": {},
   "outputs": [],
   "source": []
  },
  {
   "cell_type": "markdown",
   "metadata": {},
   "source": [
    "# KMeans Clustering"
   ]
  },
  {
   "cell_type": "markdown",
   "metadata": {},
   "source": [
    "https://scikit-learn.org/stable/modules/generated/sklearn.cluster.KMeans.html"
   ]
  },
  {
   "cell_type": "code",
   "execution_count": 166,
   "metadata": {},
   "outputs": [],
   "source": [
    "features_df = df.drop(['id','name','stats', 'image', 'thumbnail', 'artists', 'publishers', 'designers', 'description', 'categories', 'mechanics'], axis=1)"
   ]
  },
  {
   "cell_type": "code",
   "execution_count": 167,
   "metadata": {},
   "outputs": [
    {
     "data": {
      "text/html": [
       "<div>\n",
       "<style scoped>\n",
       "    .dataframe tbody tr th:only-of-type {\n",
       "        vertical-align: middle;\n",
       "    }\n",
       "\n",
       "    .dataframe tbody tr th {\n",
       "        vertical-align: top;\n",
       "    }\n",
       "\n",
       "    .dataframe thead th {\n",
       "        text-align: right;\n",
       "    }\n",
       "</style>\n",
       "<table border=\"1\" class=\"dataframe\">\n",
       "  <thead>\n",
       "    <tr style=\"text-align: right;\">\n",
       "      <th></th>\n",
       "      <th>year</th>\n",
       "      <th>min_age</th>\n",
       "      <th>categories_Abstract Strategy</th>\n",
       "      <th>categories_Action / Dexterity</th>\n",
       "      <th>categories_Adventure</th>\n",
       "      <th>categories_Age of Reason</th>\n",
       "      <th>categories_American Civil War</th>\n",
       "      <th>categories_American Indian Wars</th>\n",
       "      <th>categories_American Revolutionary War</th>\n",
       "      <th>categories_American West</th>\n",
       "      <th>...</th>\n",
       "      <th>mechanics_Worker Placement</th>\n",
       "      <th>mechanics_Worker Placement with Dice Workers</th>\n",
       "      <th>mechanics_Worker Placement, Different Worker Types</th>\n",
       "      <th>mechanics_Zone of Control</th>\n",
       "      <th>number_of_user_ratings</th>\n",
       "      <th>average_user_rating</th>\n",
       "      <th>number_of_user_weight_ratings</th>\n",
       "      <th>average_user_weight_rating</th>\n",
       "      <th>bayes_average</th>\n",
       "      <th>number_of_users_own</th>\n",
       "    </tr>\n",
       "  </thead>\n",
       "  <tbody>\n",
       "    <tr>\n",
       "      <th>0</th>\n",
       "      <td>2017</td>\n",
       "      <td>12</td>\n",
       "      <td>0</td>\n",
       "      <td>0</td>\n",
       "      <td>1</td>\n",
       "      <td>0</td>\n",
       "      <td>0</td>\n",
       "      <td>0</td>\n",
       "      <td>0</td>\n",
       "      <td>0</td>\n",
       "      <td>...</td>\n",
       "      <td>0</td>\n",
       "      <td>0</td>\n",
       "      <td>0</td>\n",
       "      <td>0</td>\n",
       "      <td>34855</td>\n",
       "      <td>8.83110</td>\n",
       "      <td>1497</td>\n",
       "      <td>3.8270</td>\n",
       "      <td>8.57594</td>\n",
       "      <td>56031</td>\n",
       "    </tr>\n",
       "    <tr>\n",
       "      <th>1</th>\n",
       "      <td>2015</td>\n",
       "      <td>13</td>\n",
       "      <td>0</td>\n",
       "      <td>0</td>\n",
       "      <td>0</td>\n",
       "      <td>0</td>\n",
       "      <td>0</td>\n",
       "      <td>0</td>\n",
       "      <td>0</td>\n",
       "      <td>0</td>\n",
       "      <td>...</td>\n",
       "      <td>0</td>\n",
       "      <td>0</td>\n",
       "      <td>0</td>\n",
       "      <td>0</td>\n",
       "      <td>36949</td>\n",
       "      <td>8.62291</td>\n",
       "      <td>1034</td>\n",
       "      <td>2.8288</td>\n",
       "      <td>8.47129</td>\n",
       "      <td>58562</td>\n",
       "    </tr>\n",
       "    <tr>\n",
       "      <th>2</th>\n",
       "      <td>2015</td>\n",
       "      <td>14</td>\n",
       "      <td>0</td>\n",
       "      <td>0</td>\n",
       "      <td>0</td>\n",
       "      <td>0</td>\n",
       "      <td>0</td>\n",
       "      <td>0</td>\n",
       "      <td>0</td>\n",
       "      <td>0</td>\n",
       "      <td>...</td>\n",
       "      <td>0</td>\n",
       "      <td>0</td>\n",
       "      <td>0</td>\n",
       "      <td>0</td>\n",
       "      <td>19929</td>\n",
       "      <td>8.46877</td>\n",
       "      <td>980</td>\n",
       "      <td>4.3969</td>\n",
       "      <td>8.22085</td>\n",
       "      <td>23599</td>\n",
       "    </tr>\n",
       "  </tbody>\n",
       "</table>\n",
       "<p>3 rows × 273 columns</p>\n",
       "</div>"
      ],
      "text/plain": [
       "   year  min_age  categories_Abstract Strategy  categories_Action / Dexterity  \\\n",
       "0  2017       12                             0                              0   \n",
       "1  2015       13                             0                              0   \n",
       "2  2015       14                             0                              0   \n",
       "\n",
       "   categories_Adventure  categories_Age of Reason  \\\n",
       "0                     1                         0   \n",
       "1                     0                         0   \n",
       "2                     0                         0   \n",
       "\n",
       "   categories_American Civil War  categories_American Indian Wars  \\\n",
       "0                              0                                0   \n",
       "1                              0                                0   \n",
       "2                              0                                0   \n",
       "\n",
       "   categories_American Revolutionary War  categories_American West  ...  \\\n",
       "0                                      0                         0  ...   \n",
       "1                                      0                         0  ...   \n",
       "2                                      0                         0  ...   \n",
       "\n",
       "   mechanics_Worker Placement  mechanics_Worker Placement with Dice Workers  \\\n",
       "0                           0                                             0   \n",
       "1                           0                                             0   \n",
       "2                           0                                             0   \n",
       "\n",
       "   mechanics_Worker Placement, Different Worker Types  \\\n",
       "0                                                  0    \n",
       "1                                                  0    \n",
       "2                                                  0    \n",
       "\n",
       "   mechanics_Zone of Control  number_of_user_ratings  average_user_rating  \\\n",
       "0                          0                   34855              8.83110   \n",
       "1                          0                   36949              8.62291   \n",
       "2                          0                   19929              8.46877   \n",
       "\n",
       "   number_of_user_weight_ratings  average_user_weight_rating  bayes_average  \\\n",
       "0                           1497                      3.8270        8.57594   \n",
       "1                           1034                      2.8288        8.47129   \n",
       "2                            980                      4.3969        8.22085   \n",
       "\n",
       "   number_of_users_own  \n",
       "0                56031  \n",
       "1                58562  \n",
       "2                23599  \n",
       "\n",
       "[3 rows x 273 columns]"
      ]
     },
     "execution_count": 167,
     "metadata": {},
     "output_type": "execute_result"
    }
   ],
   "source": [
    "# Reminder - this is the feature data\n",
    "features_df.head(3)"
   ]
  },
  {
   "cell_type": "code",
   "execution_count": 168,
   "metadata": {},
   "outputs": [
    {
     "data": {
      "text/plain": [
       "array([ 2017,  2015,  2016,  2005,  2012,  2018,  2011,  2013,  2002,\n",
       "        2007,  2014,  2004,  2006,  2008,  2019,  2010,  1995,  2009,\n",
       "        1981,  1997,  1876,  1999,  1991, -2200,  2000,  1993,  2003,\n",
       "        1986,  1996,  1998,  1992,  1964,  1985,  1979,  1982,  1980,\n",
       "        1994,  2001,  1990,  1475,  1983,  1989,  1977,  1959,  1908,\n",
       "        1630,  1800,  1850,  1984,  1988,  1810,  1987,  1971,  1978,\n",
       "         762,  1587, -3000,  1974,  1973,  1962,     0,  1848,  1938,\n",
       "        1903,  1947,  1948,  1960,  1895,  1976,  1967,  1745,  1930,\n",
       "        1972,  1906,  1864,  1970,  1946,  1975,  1966,  1965,  1883,\n",
       "         400,  1969,  1701,  1942,  1430,  1600,  1939,  1963,  1904,\n",
       "        1932,  1909,  1780,  2020,   700,  1663,  1956,  1951,  1715,\n",
       "        1885,  1955,  1425,   550,  1860,  1958,  1680,  1796,  1830,\n",
       "        1889,  1890, -3500,  1887,  1954,  1968,  1881,  1700,  1802,\n",
       "        1911,  1949,  1950,  1913,  1937,  1742,  1961,  1915,  1534,\n",
       "        1000,  1900,   600,  1952,  1945,  1943,  1941,  1775,  1940,\n",
       "        -100,  1919,  1825,   650,  1929,   500,  1936,  1953,  1741,\n",
       "        1803,  1755,  1935,  1884, -1400,  1933,  1957,  1500,  1851,\n",
       "        1125,  1925,  1400,  1927,  1550,  1861,  1783,  1920,  1750,\n",
       "        1916,  1866,  1893,  1855,  1687,  1150,  1931,  1874,  1530,\n",
       "        -200, -1300])"
      ]
     },
     "execution_count": 168,
     "metadata": {},
     "output_type": "execute_result"
    }
   ],
   "source": [
    "features_df.year.unique()"
   ]
  },
  {
   "cell_type": "code",
   "execution_count": 203,
   "metadata": {},
   "outputs": [
    {
     "data": {
      "text/plain": [
       "array([ 0.15391623,  0.64253577, -0.27543669, -0.19967575,  4.16548019,\n",
       "       -0.09612928, -0.11204787, -0.04654644, -0.06392232, -0.10638421])"
      ]
     },
     "execution_count": 203,
     "metadata": {},
     "output_type": "execute_result"
    }
   ],
   "source": [
    "# first I need to standardize my data!\n",
    "standardized_features = StandardScaler().fit_transform(features_df)\n",
    "standardized_features[0][:10]"
   ]
  },
  {
   "cell_type": "code",
   "execution_count": null,
   "metadata": {},
   "outputs": [],
   "source": []
  },
  {
   "cell_type": "code",
   "execution_count": 178,
   "metadata": {},
   "outputs": [],
   "source": [
    "from matplotlib import pyplot as plt\n",
    "\n",
    "from sklearn.cluster import AgglomerativeClustering, KMeans\n",
    "from sklearn.metrics import silhouette_score"
   ]
  },
  {
   "cell_type": "code",
   "execution_count": 175,
   "metadata": {},
   "outputs": [
    {
     "name": "stdout",
     "output_type": "stream",
     "text": [
      "Done with 2\n",
      "Done with 3\n",
      "Done with 4\n",
      "Done with 5\n",
      "Done with 6\n",
      "Done with 7\n",
      "Done with 8\n",
      "Done with 9\n",
      "Done with 10\n",
      "Done with 11\n",
      "Done with 12\n",
      "Done with 13\n",
      "Done with 14\n",
      "Done with 15\n",
      "Done with 16\n",
      "Done with 17\n",
      "Done with 18\n",
      "Done with 19\n",
      "Done with 20\n",
      "Done with 21\n",
      "Done with 22\n",
      "Done with 23\n",
      "Done with 24\n",
      "Done with 25\n",
      "Done with 26\n",
      "Done with 27\n",
      "Done with 28\n",
      "Done with 29\n"
     ]
    }
   ],
   "source": [
    "# CONFIGURATIONS\n",
    "seed = 28\n",
    "kmax = 30\n",
    "\n",
    "# To capture performance metrics for assessing optimal number of clusters\n",
    "silhouette = []\n",
    "inertia = []\n",
    "\n",
    "# To capture model objects for each k\n",
    "models = {}\n",
    "\n",
    "# Upper bound for range of k to try \n",
    "\n",
    "for k in range(2, kmax):  \n",
    "    # Create model object\n",
    "    model = KMeans(n_clusters=k, random_state=seed)\n",
    "    \n",
    "    # Train model object\n",
    "    model.fit(standardized_features)\n",
    "    \n",
    "    # Get inertia calculated for trained model \n",
    "    inertia.append(model.inertia_)\n",
    "    \n",
    "    # Calculate silhouette score of trained model\n",
    "    silhouette.append(silhouette_score(standardized_features, model.labels_))\n",
    "    \n",
    "    # Capture trained model object \n",
    "    models[k] = model\n",
    "    \n",
    "    print(f'Done with {k}')\n"
   ]
  },
  {
   "cell_type": "code",
   "execution_count": 179,
   "metadata": {},
   "outputs": [
    {
     "data": {
      "image/png": "[encoded data removed]",
      "text/plain": [
       "<Figure size 864x576 with 1 Axes>"
      ]
     },
     "metadata": {
      "needs_background": "light"
     },
     "output_type": "display_data"
    }
   ],
   "source": [
    "# Scree Plot\n",
    "fig, ax = plt.subplots(figsize=(12,8));\n",
    "ax.scatter(range(2,kmax), inertia);\n",
    "ax.set_xlabel('Number of clusters, $k$');\n",
    "ax.set_ylabel('Inertia');\n",
    "ax.set_title('Inertia vs number of clusters');"
   ]
  },
  {
   "cell_type": "code",
   "execution_count": 181,
   "metadata": {},
   "outputs": [
    {
     "data": {
      "image/png": "[encoded data removed]",
      "text/plain": [
       "<Figure size 864x576 with 1 Axes>"
      ]
     },
     "metadata": {
      "needs_background": "light"
     },
     "output_type": "display_data"
    }
   ],
   "source": [
    "fig, ax = plt.subplots(figsize=(12,8));\n",
    "ax.scatter(range(2,kmax), silhouette);\n",
    "ax.set_xlabel('Number of clusters, $k$');\n",
    "ax.set_ylabel('Silhouette score');"
   ]
  },
  {
   "cell_type": "markdown",
   "metadata": {},
   "source": [
    "### Note that the scor eis very low to 0, which means many overlapping clusters. So, 30 clusters with KMeans, is probably not enough"
   ]
  },
  {
   "cell_type": "code",
   "execution_count": 235,
   "metadata": {},
   "outputs": [
    {
     "data": {
      "text/plain": [
       "KMeans(n_clusters=200, random_state=28)"
      ]
     },
     "execution_count": 235,
     "metadata": {},
     "output_type": "execute_result"
    }
   ],
   "source": [
    "high_k = 200\n",
    "seed = 28\n",
    "\n",
    "# Create model object\n",
    "model_200 = KMeans(n_clusters=high_k, random_state=seed)\n",
    "\n",
    "# Train model object\n",
    "model_200.fit(standardized_features)"
   ]
  },
  {
   "cell_type": "code",
   "execution_count": 236,
   "metadata": {},
   "outputs": [
    {
     "data": {
      "text/plain": [
       "0.10388412086348667"
      ]
     },
     "execution_count": 236,
     "metadata": {},
     "output_type": "execute_result"
    }
   ],
   "source": [
    "high_k_silhouette = silhouette_score(standardized_features, model_200.labels_)\n",
    "high_k_silhouette"
   ]
  },
  {
   "cell_type": "code",
   "execution_count": 237,
   "metadata": {},
   "outputs": [
    {
     "data": {
      "text/plain": [
       "1680670.9555778294"
      ]
     },
     "execution_count": 237,
     "metadata": {},
     "output_type": "execute_result"
    }
   ],
   "source": [
    "model_200.inertia_"
   ]
  },
  {
   "cell_type": "markdown",
   "metadata": {},
   "source": [
    "### It looks like I should look for much larger k"
   ]
  },
  {
   "cell_type": "code",
   "execution_count": 238,
   "metadata": {},
   "outputs": [
    {
     "name": "stdout",
     "output_type": "stream",
     "text": [
      "Done with 100\n",
      "Done with 200\n",
      "Done with 300\n",
      "Done with 400\n",
      "Done with 500\n",
      "Done with 600\n",
      "Done with 700\n",
      "Done with 800\n",
      "Done with 900\n"
     ]
    }
   ],
   "source": [
    "# CONFIGURATIONS\n",
    "seed = 28\n",
    "kmax = 1000\n",
    "\n",
    "# To capture performance metrics for assessing optimal number of clusters\n",
    "silhouette = []\n",
    "inertia = []\n",
    "\n",
    "# To capture model objects for each k\n",
    "models = {}\n",
    "\n",
    "# Upper bound for range of k to try \n",
    "# Will check 100, 200, 300, ..., 1000 clusters\n",
    "for k in range(100, kmax, 100):  \n",
    "    # Create model object\n",
    "    model = KMeans(n_clusters=k, random_state=seed)\n",
    "    \n",
    "    # Train model object\n",
    "    model.fit(standardized_features)\n",
    "    \n",
    "    # Get inertia calculated for trained model \n",
    "    inertia.append(model.inertia_)\n",
    "    \n",
    "    # Calculate silhouette score of trained model\n",
    "    silhouette.append(silhouette_score(standardized_features, model.labels_))\n",
    "    \n",
    "    # Capture trained model object \n",
    "    models[k] = model\n",
    "    \n",
    "    print(f'Done with {k}')\n"
   ]
  },
  {
   "cell_type": "code",
   "execution_count": 240,
   "metadata": {},
   "outputs": [
    {
     "data": {
      "image/png": "[encoded data removed]",
      "text/plain": [
       "<Figure size 864x576 with 1 Axes>"
      ]
     },
     "metadata": {
      "needs_background": "light"
     },
     "output_type": "display_data"
    }
   ],
   "source": [
    "# Scree Plot\n",
    "fig, ax = plt.subplots(figsize=(12,8));\n",
    "ax.scatter(range(100, kmax, 100), inertia);\n",
    "ax.set_xlabel('Number of clusters, $k$');\n",
    "ax.set_ylabel('Inertia');\n",
    "ax.set_title('Inertia vs number of clusters');"
   ]
  },
  {
   "cell_type": "code",
   "execution_count": 241,
   "metadata": {},
   "outputs": [
    {
     "data": {
      "image/png": "[encoded data removed]",
      "text/plain": [
       "<Figure size 864x576 with 1 Axes>"
      ]
     },
     "metadata": {
      "needs_background": "light"
     },
     "output_type": "display_data"
    }
   ],
   "source": [
    "fig, ax = plt.subplots(figsize=(12,8));\n",
    "ax.scatter(range(100, kmax, 100), silhouette);\n",
    "ax.set_xlabel('Number of clusters, $k$');\n",
    "ax.set_ylabel('Silhouette score');"
   ]
  },
  {
   "cell_type": "markdown",
   "metadata": {},
   "source": [
    "### The model Silhouette scores are not great, nor are the inertia values, but from both graphs it is clear that I don't need more than 300 clusters"
   ]
  },
  {
   "cell_type": "code",
   "execution_count": null,
   "metadata": {},
   "outputs": [],
   "source": []
  },
  {
   "cell_type": "code",
   "execution_count": null,
   "metadata": {},
   "outputs": [],
   "source": []
  },
  {
   "cell_type": "markdown",
   "metadata": {},
   "source": [
    "\n",
    "<h2 id=\"Assess-ability-to-train-in-real-time\">Assess ability to train in real-time (Note this was done for the small k's from 2 to 30, Will redo for the large ones)<a class=\"anchor-link\" href=\"#Assess-ability-to-train-in-real-time\">¶</a></h2>\n"
   ]
  },
  {
   "cell_type": "code",
   "execution_count": 183,
   "metadata": {},
   "outputs": [],
   "source": [
    "# All the number of clusters seem equally \"bad\"\n",
    "k_chosen = 10"
   ]
  },
  {
   "cell_type": "code",
   "execution_count": 184,
   "metadata": {
    "ExecuteTime": {
     "end_time": "2020-05-15T07:04:03.422101Z",
     "start_time": "2020-05-15T07:04:01.130811Z"
    }
   },
   "outputs": [
    {
     "name": "stdout",
     "output_type": "stream",
     "text": [
      "1.87 s ± 54 ms per loop (mean ± std. dev. of 7 runs, 1 loop each)\n"
     ]
    }
   ],
   "source": [
    "model = KMeans(n_clusters=k_chosen, random_state=seed)\n",
    "\n",
    "%timeit model.fit(standardized_features)"
   ]
  },
  {
   "cell_type": "markdown",
   "metadata": {},
   "source": [
    "Not too bad, but a bit slow"
   ]
  },
  {
   "cell_type": "markdown",
   "metadata": {},
   "source": [
    "### Try for a large k"
   ]
  },
  {
   "cell_type": "code",
   "execution_count": 242,
   "metadata": {},
   "outputs": [],
   "source": [
    "k_chosen = 250"
   ]
  },
  {
   "cell_type": "code",
   "execution_count": 243,
   "metadata": {
    "ExecuteTime": {
     "end_time": "2020-05-15T07:04:03.422101Z",
     "start_time": "2020-05-15T07:04:01.130811Z"
    }
   },
   "outputs": [
    {
     "name": "stdout",
     "output_type": "stream",
     "text": [
      "21.2 s ± 2 s per loop (mean ± std. dev. of 7 runs, 1 loop each)\n"
     ]
    }
   ],
   "source": [
    "model = KMeans(n_clusters=k_chosen, random_state=seed)\n",
    "\n",
    "%timeit model.fit(standardized_features)"
   ]
  },
  {
   "cell_type": "markdown",
   "metadata": {},
   "source": [
    "### Not too bad; definitely much slower with more clusters (250) than with ~10 clusters"
   ]
  },
  {
   "cell_type": "markdown",
   "metadata": {},
   "source": [
    "# Look At Model Predictions"
   ]
  },
  {
   "cell_type": "code",
   "execution_count": 186,
   "metadata": {},
   "outputs": [
    {
     "data": {
      "text/plain": [
       "array([8, 8, 8, ..., 2, 9, 9], dtype=int32)"
      ]
     },
     "execution_count": 186,
     "metadata": {},
     "output_type": "execute_result"
    }
   ],
   "source": [
    "models[k_chosen].predict(standardized_features)"
   ]
  },
  {
   "cell_type": "code",
   "execution_count": 190,
   "metadata": {},
   "outputs": [
    {
     "name": "stdout",
     "output_type": "stream",
     "text": [
      "130 µs ± 1.24 µs per loop (mean ± std. dev. of 7 runs, 10000 loops each)\n"
     ]
    }
   ],
   "source": [
    "# Timing how long it takes to make a prediction for a single observation\n",
    "%timeit models[k_chosen].predict(standardized_features[0].reshape(1,-1))"
   ]
  },
  {
   "cell_type": "markdown",
   "metadata": {},
   "source": [
    "\n",
    "<div class=\"alert alert-warning\">Note: add testing for input shape to predictor. If only a single observation is to be scored, need to reshape.  </div>\n"
   ]
  },
  {
   "cell_type": "markdown",
   "metadata": {},
   "source": [
    "# Gaussian Mixture Modelling"
   ]
  },
  {
   "cell_type": "markdown",
   "metadata": {},
   "source": [
    "https://scikit-learn.org/stable/modules/mixture.html"
   ]
  },
  {
   "cell_type": "markdown",
   "metadata": {},
   "source": [
    "Scrapping this due to time constraints, can look at it later"
   ]
  },
  {
   "cell_type": "markdown",
   "metadata": {},
   "source": [
    "# Agglomerative Clustering?"
   ]
  },
  {
   "cell_type": "markdown",
   "metadata": {},
   "source": [
    "https://scikit-learn.org/stable/modules/generated/sklearn.cluster.AgglomerativeClustering.html"
   ]
  },
  {
   "cell_type": "code",
   "execution_count": 205,
   "metadata": {},
   "outputs": [],
   "source": [
    "# Want to visualize clustering with Dendrogram\n",
    "from scipy.cluster.hierarchy import dendrogram"
   ]
  },
  {
   "cell_type": "code",
   "execution_count": null,
   "metadata": {},
   "outputs": [],
   "source": [
    "# Default Distance metric is 'Euclidean'; Since that doesn't make much sense for the many categorical one-hot encoded variables I have, I will try L1, Manhattan, and cosine \n",
    "# (I'm not sure what the difference between L1 & Manhattan is; I thought they were the same, but the scikit learn docs give both options)\n",
    "# Default linkage is Ward: ward minimizes the variance of the clusters being merged. This is not available for non-euclidean measures of distance so I will use average instead"
   ]
  },
  {
   "cell_type": "markdown",
   "metadata": {},
   "source": [
    "## Cosine Similarity w/ Average Linkage"
   ]
  },
  {
   "cell_type": "code",
   "execution_count": null,
   "metadata": {},
   "outputs": [],
   "source": [
    "# CONFIGURATION\n",
    "distance_threshold=0.7"
   ]
  },
  {
   "cell_type": "code",
   "execution_count": 213,
   "metadata": {},
   "outputs": [],
   "source": [
    "agg_clust = AgglomerativeClustering(distance_threshold=0, n_clusters=None, affinity='cosine', linkage='average').fit(standardized_features)"
   ]
  },
  {
   "cell_type": "code",
   "execution_count": 214,
   "metadata": {},
   "outputs": [],
   "source": [
    "# Note there is an error/bug in this function when used with Agglomerative Clustering; if the distance_threshold is not specified, it won't produce a dendrogram.\n",
    "# https://github.com/scikit-learn/scikit-learn/issues/16701\n",
    "# If it is specified, however, then the n_clusters can't be specified.\n",
    "# All this means that I can only draw a dendrogram without setting n_clusters, which is ok.\n",
    "\n",
    "def plot_dendrogram(model, **kwargs):\n",
    "    # Create linkage matrix and then plot the dendrogram\n",
    "\n",
    "    # create the counts of samples under each node\n",
    "    counts = np.zeros(model.children_.shape[0])\n",
    "    n_samples = len(model.labels_)\n",
    "    for i, merge in enumerate(model.children_):\n",
    "        current_count = 0\n",
    "        for child_idx in merge:\n",
    "            if child_idx < n_samples:\n",
    "                current_count += 1  # leaf node\n",
    "            else:\n",
    "                current_count += counts[child_idx - n_samples]\n",
    "        counts[i] = current_count\n",
    "\n",
    "    linkage_matrix = np.column_stack([model.children_, model.distances_,\n",
    "                                      counts]).astype(float)\n",
    "\n",
    "    # Plot the corresponding dendrogram\n",
    "    dendrogram(linkage_matrix, **kwargs)"
   ]
  },
  {
   "cell_type": "markdown",
   "metadata": {},
   "source": [
    "Wow"
   ]
  },
  {
   "cell_type": "code",
   "execution_count": 218,
   "metadata": {},
   "outputs": [
    {
     "data": {
      "image/png": "[encoded data removed]",
      "text/plain": [
       "<Figure size 1440x1080 with 1 Axes>"
      ]
     },
     "metadata": {
      "needs_background": "light"
     },
     "output_type": "display_data"
    }
   ],
   "source": [
    "# Create the figure and set it's size.\n",
    "fig = plt.figure(figsize=(20,15))\n",
    "\n",
    "plot_dendrogram(agg_clust)"
   ]
  },
  {
   "cell_type": "markdown",
   "metadata": {},
   "source": [
    "🧐   A fine piece of art. The MET or the Guggenheim, I wonder 🤔"
   ]
  },
  {
   "cell_type": "code",
   "execution_count": 219,
   "metadata": {},
   "outputs": [],
   "source": [
    "fig.savefig('dendrogram_cosine_average.png')"
   ]
  },
  {
   "cell_type": "code",
   "execution_count": null,
   "metadata": {},
   "outputs": [],
   "source": []
  },
  {
   "cell_type": "code",
   "execution_count": 220,
   "metadata": {},
   "outputs": [
    {
     "data": {
      "text/plain": [
       "15727"
      ]
     },
     "execution_count": 220,
     "metadata": {},
     "output_type": "execute_result"
    }
   ],
   "source": [
    "# Probably shows number of data points because I didn't give n_clusters as an argument\n",
    "agg_clust.n_clusters_"
   ]
  },
  {
   "cell_type": "code",
   "execution_count": 223,
   "metadata": {},
   "outputs": [
    {
     "data": {
      "text/plain": [
       "array([12089, 11426, 10834, ...,     5,     2,     0])"
      ]
     },
     "execution_count": 223,
     "metadata": {},
     "output_type": "execute_result"
    }
   ],
   "source": [
    "agg_clust.labels_"
   ]
  },
  {
   "cell_type": "code",
   "execution_count": null,
   "metadata": {},
   "outputs": [],
   "source": []
  },
  {
   "cell_type": "code",
   "execution_count": null,
   "metadata": {},
   "outputs": [],
   "source": []
  },
  {
   "cell_type": "markdown",
   "metadata": {},
   "source": [
    "## Try distance_threshold = .7 as that seems like a good place to \"chop off\" the tree"
   ]
  },
  {
   "cell_type": "code",
   "execution_count": 221,
   "metadata": {},
   "outputs": [],
   "source": [
    "agg_clust_dist_point7 = AgglomerativeClustering(distance_threshold=0.7, n_clusters=None, affinity='cosine', linkage='average').fit(standardized_features)"
   ]
  },
  {
   "cell_type": "code",
   "execution_count": 222,
   "metadata": {},
   "outputs": [
    {
     "data": {
      "image/png": "[encoded data removed]",
      "text/plain": [
       "<Figure size 1440x1080 with 1 Axes>"
      ]
     },
     "metadata": {
      "needs_background": "light"
     },
     "output_type": "display_data"
    }
   ],
   "source": [
    "# Create the figure and set it's size.\n",
    "fig = plt.figure(figsize=(20,15))\n",
    "\n",
    "plot_dendrogram(agg_clust_dist_point7)"
   ]
  },
  {
   "cell_type": "code",
   "execution_count": 224,
   "metadata": {},
   "outputs": [
    {
     "data": {
      "text/plain": [
       "array([135,  95, 143, ..., 158,  79,  79])"
      ]
     },
     "execution_count": 224,
     "metadata": {},
     "output_type": "execute_result"
    }
   ],
   "source": [
    "agg_clust_dist_point7.labels_"
   ]
  },
  {
   "cell_type": "code",
   "execution_count": 227,
   "metadata": {},
   "outputs": [
    {
     "data": {
      "text/plain": [
       "285"
      ]
     },
     "execution_count": 227,
     "metadata": {},
     "output_type": "execute_result"
    }
   ],
   "source": [
    "agg_clust_dist_point7.n_clusters_"
   ]
  },
  {
   "cell_type": "markdown",
   "metadata": {},
   "source": [
    "This is a considerable result! In essence, I am able to cluster boardgames into 285 categories.  \n",
    "This might still seem like a very large number, however, consider the number of possible combinations of the ~250 binary categories & mechanics categories.  \n",
    "It would be something like 2^250, which is a mind-boggling number."
   ]
  },
  {
   "cell_type": "markdown",
   "metadata": {},
   "source": [
    "# Try Distance_threshold = .4 --> Turns out we get many clusters --> 2713"
   ]
  },
  {
   "cell_type": "code",
   "execution_count": 228,
   "metadata": {},
   "outputs": [
    {
     "data": {
      "image/png": "[encoded data removed]",
      "text/plain": [
       "<Figure size 1440x1080 with 1 Axes>"
      ]
     },
     "metadata": {
      "needs_background": "light"
     },
     "output_type": "display_data"
    }
   ],
   "source": [
    "agg_clust_dist_point4 = AgglomerativeClustering(distance_threshold=0.4, n_clusters=None, affinity='cosine', linkage='average').fit(standardized_features)\n",
    "\n",
    "# Create the figure and set it's size.\n",
    "fig = plt.figure(figsize=(20,15))\n",
    "\n",
    "plot_dendrogram(agg_clust_dist_point4)"
   ]
  },
  {
   "cell_type": "code",
   "execution_count": 229,
   "metadata": {},
   "outputs": [
    {
     "data": {
      "text/plain": [
       "2713"
      ]
     },
     "execution_count": 229,
     "metadata": {},
     "output_type": "execute_result"
    }
   ],
   "source": [
    "agg_clust_dist_point4.n_clusters_"
   ]
  },
  {
   "cell_type": "markdown",
   "metadata": {},
   "source": [
    "# Evaluating the Agglomerative Clustering"
   ]
  },
  {
   "cell_type": "code",
   "execution_count": 232,
   "metadata": {},
   "outputs": [
    {
     "data": {
      "text/plain": [
       "(15727, 273)"
      ]
     },
     "execution_count": 232,
     "metadata": {},
     "output_type": "execute_result"
    }
   ],
   "source": [
    "# This is the feature data i.e. the X\n",
    "standardized_features.shape"
   ]
  },
  {
   "cell_type": "code",
   "execution_count": 233,
   "metadata": {},
   "outputs": [
    {
     "data": {
      "text/plain": [
       "array([135,  95, 143, ..., 158,  79,  79])"
      ]
     },
     "execution_count": 233,
     "metadata": {},
     "output_type": "execute_result"
    }
   ],
   "source": [
    "# These are the cluster assignments i.e. the y\n",
    "agg_clust_dist_point7.labels_"
   ]
  },
  {
   "cell_type": "code",
   "execution_count": 234,
   "metadata": {},
   "outputs": [
    {
     "data": {
      "text/plain": [
       "285"
      ]
     },
     "execution_count": 234,
     "metadata": {},
     "output_type": "execute_result"
    }
   ],
   "source": [
    "# Number of clusters\n",
    "agg_clust_dist_point7.n_clusters_"
   ]
  },
  {
   "cell_type": "code",
   "execution_count": 244,
   "metadata": {},
   "outputs": [
    {
     "data": {
      "text/plain": [
       "0.08386801009996993"
      ]
     },
     "execution_count": 244,
     "metadata": {},
     "output_type": "execute_result"
    }
   ],
   "source": [
    "# Silhouette score for this specific number of clusters\n",
    "silhouette_score(standardized_features, agg_clust_dist_point7.labels_)"
   ]
  },
  {
   "cell_type": "markdown",
   "metadata": {},
   "source": [
    "### Time to train a bunch of these so I can decide what number of clusters I should use"
   ]
  },
  {
   "cell_type": "code",
   "execution_count": 246,
   "metadata": {},
   "outputs": [
    {
     "name": "stdout",
     "output_type": "stream",
     "text": [
      "Done with 100\n",
      "Done with 200\n",
      "Done with 300\n",
      "Done with 400\n",
      "Done with 500\n",
      "Done with 600\n",
      "Done with 700\n",
      "Done with 800\n",
      "Done with 900\n"
     ]
    }
   ],
   "source": [
    "# CONFIGURATIONS\n",
    "seed = 28 # Seed is irrelevant here, because AgglomerativeClsutering doesn't accept a random_state parameter (it is deterministic)\n",
    "n_cluster_max = 1000 # Upper bound for range of n_clusters to try \n",
    "\n",
    "# To capture performance metrics for assessing optimal number of clusters\n",
    "silhouette = []\n",
    "inertia = []\n",
    "\n",
    "# To capture model objects for each k\n",
    "models = {}\n",
    "\n",
    "# Will check 100, 200, 300, ..., 1000 clusters\n",
    "for n_clusters in range(100, n_cluster_max, 100):  \n",
    "    # Create model object\n",
    "    model = AgglomerativeClustering(n_clusters=n_clusters, affinity='cosine', linkage='average')\n",
    "    \n",
    "    # Train model object\n",
    "    model.fit(standardized_features)\n",
    "    \n",
    "    # Agglomerative Clustering has no inertia\n",
    "#     inertia.append(model.inertia_)\n",
    "    \n",
    "    # Calculate silhouette score of trained model\n",
    "    silhouette.append(silhouette_score(standardized_features, model.labels_))\n",
    "    \n",
    "    # Capture trained model object \n",
    "    models[k] = model\n",
    "    \n",
    "    print(f'Done with {n_clusters}')"
   ]
  },
  {
   "cell_type": "markdown",
   "metadata": {},
   "source": [
    "Just as the documentation warns, it appears Agglomerative Clustering is much slower than KMeans.  \n",
    "Also, the Silhouette coefficient appears to be lower for the corresponding number of clusters"
   ]
  },
  {
   "cell_type": "markdown",
   "metadata": {},
   "source": [
    "## Silhouette Coefficient"
   ]
  },
  {
   "cell_type": "code",
   "execution_count": 247,
   "metadata": {},
   "outputs": [
    {
     "data": {
      "image/png": "[encoded data removed]",
      "text/plain": [
       "<Figure size 864x576 with 1 Axes>"
      ]
     },
     "metadata": {
      "needs_background": "light"
     },
     "output_type": "display_data"
    }
   ],
   "source": [
    "fig, ax = plt.subplots(figsize=(12,8));\n",
    "ax.scatter(range(100, n_cluster_max, 100), silhouette);\n",
    "ax.set_xlabel('Number of clusters, $n_clusters$');\n",
    "ax.set_ylabel('Silhouette score');"
   ]
  },
  {
   "cell_type": "code",
   "execution_count": null,
   "metadata": {},
   "outputs": [],
   "source": []
  },
  {
   "cell_type": "code",
   "execution_count": null,
   "metadata": {},
   "outputs": [],
   "source": []
  },
  {
   "cell_type": "code",
   "execution_count": null,
   "metadata": {},
   "outputs": [],
   "source": []
  },
  {
   "cell_type": "code",
   "execution_count": null,
   "metadata": {},
   "outputs": [],
   "source": []
  },
  {
   "cell_type": "code",
   "execution_count": null,
   "metadata": {},
   "outputs": [],
   "source": []
  },
  {
   "cell_type": "markdown",
   "metadata": {},
   "source": [
    "# KNN"
   ]
  },
  {
   "cell_type": "markdown",
   "metadata": {},
   "source": [
    "https://scikit-learn.org/stable/modules/neighbors.html"
   ]
  },
  {
   "cell_type": "code",
   "execution_count": 200,
   "metadata": {},
   "outputs": [
    {
     "data": {
      "text/plain": [
       "array([[    0, 10918],\n",
       "       [    1,    30],\n",
       "       [    2,    34],\n",
       "       ...,\n",
       "       [15724, 15720],\n",
       "       [15725, 15384],\n",
       "       [15726, 15033]])"
      ]
     },
     "execution_count": 200,
     "metadata": {},
     "output_type": "execute_result"
    }
   ],
   "source": [
    "from sklearn.neighbors import NearestNeighbors\n",
    "import numpy as np\n",
    "nbrs = NearestNeighbors(n_neighbors=2).fit(standardized_features)\n",
    "distances, indices = nbrs.kneighbors(standardized_features)\n",
    "indices"
   ]
  },
  {
   "cell_type": "markdown",
   "metadata": {},
   "source": [
    "## I don't really see what the similarity is between the below two games"
   ]
  },
  {
   "cell_type": "code",
   "execution_count": 196,
   "metadata": {},
   "outputs": [
    {
     "data": {
      "text/html": [
       "<div>\n",
       "<style scoped>\n",
       "    .dataframe tbody tr th:only-of-type {\n",
       "        vertical-align: middle;\n",
       "    }\n",
       "\n",
       "    .dataframe tbody tr th {\n",
       "        vertical-align: top;\n",
       "    }\n",
       "\n",
       "    .dataframe thead th {\n",
       "        text-align: right;\n",
       "    }\n",
       "</style>\n",
       "<table border=\"1\" class=\"dataframe\">\n",
       "  <thead>\n",
       "    <tr style=\"text-align: right;\">\n",
       "      <th></th>\n",
       "      <th>id</th>\n",
       "      <th>name</th>\n",
       "      <th>stats</th>\n",
       "      <th>image</th>\n",
       "      <th>thumbnail</th>\n",
       "      <th>artists</th>\n",
       "      <th>designers</th>\n",
       "      <th>year</th>\n",
       "      <th>description</th>\n",
       "      <th>categories</th>\n",
       "      <th>...</th>\n",
       "      <th>mechanics_Worker Placement</th>\n",
       "      <th>mechanics_Worker Placement with Dice Workers</th>\n",
       "      <th>mechanics_Worker Placement, Different Worker Types</th>\n",
       "      <th>mechanics_Zone of Control</th>\n",
       "      <th>number_of_user_ratings</th>\n",
       "      <th>average_user_rating</th>\n",
       "      <th>number_of_user_weight_ratings</th>\n",
       "      <th>average_user_weight_rating</th>\n",
       "      <th>bayes_average</th>\n",
       "      <th>number_of_users_own</th>\n",
       "    </tr>\n",
       "  </thead>\n",
       "  <tbody>\n",
       "    <tr>\n",
       "      <th>10918</th>\n",
       "      <td>257674</td>\n",
       "      <td>Vampire: The Masquerade – Heritage</td>\n",
       "      <td>{'usersrated': 52, 'average': 7.30513, 'bayesa...</td>\n",
       "      <td>https://cf.geekdo-images.com/original/img/6Npg...</td>\n",
       "      <td>https://cf.geekdo-images.com/thumb/img/_P86h1X...</td>\n",
       "      <td>[Lukas Siegmon]</td>\n",
       "      <td>[Babis Giannios]</td>\n",
       "      <td>2020</td>\n",
       "      <td>In Vampire: The Masquerade – Heritage, you pla...</td>\n",
       "      <td>[Fantasy, Horror]</td>\n",
       "      <td>...</td>\n",
       "      <td>0</td>\n",
       "      <td>0</td>\n",
       "      <td>0</td>\n",
       "      <td>0</td>\n",
       "      <td>52</td>\n",
       "      <td>7.30513</td>\n",
       "      <td>1</td>\n",
       "      <td>2.0</td>\n",
       "      <td>5.54282</td>\n",
       "      <td>68</td>\n",
       "    </tr>\n",
       "  </tbody>\n",
       "</table>\n",
       "<p>1 rows × 284 columns</p>\n",
       "</div>"
      ],
      "text/plain": [
       "           id                                name  \\\n",
       "10918  257674  Vampire: The Masquerade – Heritage   \n",
       "\n",
       "                                                   stats  \\\n",
       "10918  {'usersrated': 52, 'average': 7.30513, 'bayesa...   \n",
       "\n",
       "                                                   image  \\\n",
       "10918  https://cf.geekdo-images.com/original/img/6Npg...   \n",
       "\n",
       "                                               thumbnail          artists  \\\n",
       "10918  https://cf.geekdo-images.com/thumb/img/_P86h1X...  [Lukas Siegmon]   \n",
       "\n",
       "              designers  year  \\\n",
       "10918  [Babis Giannios]  2020   \n",
       "\n",
       "                                             description         categories  \\\n",
       "10918  In Vampire: The Masquerade – Heritage, you pla...  [Fantasy, Horror]   \n",
       "\n",
       "       ... mechanics_Worker Placement  \\\n",
       "10918  ...                          0   \n",
       "\n",
       "       mechanics_Worker Placement with Dice Workers  \\\n",
       "10918                                             0   \n",
       "\n",
       "      mechanics_Worker Placement, Different Worker Types  \\\n",
       "10918                                                  0   \n",
       "\n",
       "       mechanics_Zone of Control  number_of_user_ratings  average_user_rating  \\\n",
       "10918                          0                      52              7.30513   \n",
       "\n",
       "       number_of_user_weight_ratings  average_user_weight_rating  \\\n",
       "10918                              1                         2.0   \n",
       "\n",
       "       bayes_average  number_of_users_own  \n",
       "10918        5.54282                   68  \n",
       "\n",
       "[1 rows x 284 columns]"
      ]
     },
     "execution_count": 196,
     "metadata": {},
     "output_type": "execute_result"
    }
   ],
   "source": [
    "df.loc[10918:10918]"
   ]
  },
  {
   "cell_type": "code",
   "execution_count": 201,
   "metadata": {},
   "outputs": [
    {
     "data": {
      "text/html": [
       "<div>\n",
       "<style scoped>\n",
       "    .dataframe tbody tr th:only-of-type {\n",
       "        vertical-align: middle;\n",
       "    }\n",
       "\n",
       "    .dataframe tbody tr th {\n",
       "        vertical-align: top;\n",
       "    }\n",
       "\n",
       "    .dataframe thead th {\n",
       "        text-align: right;\n",
       "    }\n",
       "</style>\n",
       "<table border=\"1\" class=\"dataframe\">\n",
       "  <thead>\n",
       "    <tr style=\"text-align: right;\">\n",
       "      <th></th>\n",
       "      <th>id</th>\n",
       "      <th>name</th>\n",
       "      <th>stats</th>\n",
       "      <th>image</th>\n",
       "      <th>thumbnail</th>\n",
       "      <th>artists</th>\n",
       "      <th>designers</th>\n",
       "      <th>year</th>\n",
       "      <th>description</th>\n",
       "      <th>categories</th>\n",
       "      <th>...</th>\n",
       "      <th>mechanics_Worker Placement</th>\n",
       "      <th>mechanics_Worker Placement with Dice Workers</th>\n",
       "      <th>mechanics_Worker Placement, Different Worker Types</th>\n",
       "      <th>mechanics_Zone of Control</th>\n",
       "      <th>number_of_user_ratings</th>\n",
       "      <th>average_user_rating</th>\n",
       "      <th>number_of_user_weight_ratings</th>\n",
       "      <th>average_user_weight_rating</th>\n",
       "      <th>bayes_average</th>\n",
       "      <th>number_of_users_own</th>\n",
       "    </tr>\n",
       "  </thead>\n",
       "  <tbody>\n",
       "    <tr>\n",
       "      <th>0</th>\n",
       "      <td>174430</td>\n",
       "      <td>Gloomhaven</td>\n",
       "      <td>{'usersrated': 34855, 'average': 8.8311, 'baye...</td>\n",
       "      <td>https://cf.geekdo-images.com/original/img/lDN3...</td>\n",
       "      <td>https://cf.geekdo-images.com/thumb/img/e7GyV4P...</td>\n",
       "      <td>[Alexandr Elichev, Josh T. McDowell, Alvaro Ne...</td>\n",
       "      <td>[Isaac Childres]</td>\n",
       "      <td>2017</td>\n",
       "      <td>Gloomhaven  is a game of Euro-inspired tactica...</td>\n",
       "      <td>[Adventure, Exploration, Fantasy, Fighting, Mi...</td>\n",
       "      <td>...</td>\n",
       "      <td>0</td>\n",
       "      <td>0</td>\n",
       "      <td>0</td>\n",
       "      <td>0</td>\n",
       "      <td>34855</td>\n",
       "      <td>8.8311</td>\n",
       "      <td>1497</td>\n",
       "      <td>3.827</td>\n",
       "      <td>8.57594</td>\n",
       "      <td>56031</td>\n",
       "    </tr>\n",
       "  </tbody>\n",
       "</table>\n",
       "<p>1 rows × 284 columns</p>\n",
       "</div>"
      ],
      "text/plain": [
       "       id        name                                              stats  \\\n",
       "0  174430  Gloomhaven  {'usersrated': 34855, 'average': 8.8311, 'baye...   \n",
       "\n",
       "                                               image  \\\n",
       "0  https://cf.geekdo-images.com/original/img/lDN3...   \n",
       "\n",
       "                                           thumbnail  \\\n",
       "0  https://cf.geekdo-images.com/thumb/img/e7GyV4P...   \n",
       "\n",
       "                                             artists         designers  year  \\\n",
       "0  [Alexandr Elichev, Josh T. McDowell, Alvaro Ne...  [Isaac Childres]  2017   \n",
       "\n",
       "                                         description  \\\n",
       "0  Gloomhaven  is a game of Euro-inspired tactica...   \n",
       "\n",
       "                                          categories  ...  \\\n",
       "0  [Adventure, Exploration, Fantasy, Fighting, Mi...  ...   \n",
       "\n",
       "  mechanics_Worker Placement  mechanics_Worker Placement with Dice Workers  \\\n",
       "0                          0                                             0   \n",
       "\n",
       "  mechanics_Worker Placement, Different Worker Types  \\\n",
       "0                                                  0   \n",
       "\n",
       "   mechanics_Zone of Control  number_of_user_ratings  average_user_rating  \\\n",
       "0                          0                   34855               8.8311   \n",
       "\n",
       "   number_of_user_weight_ratings  average_user_weight_rating  bayes_average  \\\n",
       "0                           1497                       3.827        8.57594   \n",
       "\n",
       "   number_of_users_own  \n",
       "0                56031  \n",
       "\n",
       "[1 rows x 284 columns]"
      ]
     },
     "execution_count": 201,
     "metadata": {},
     "output_type": "execute_result"
    }
   ],
   "source": [
    "df.loc[0:0]"
   ]
  },
  {
   "cell_type": "markdown",
   "metadata": {},
   "source": [
    "# Below, we see that two ancient games were categorized together!"
   ]
  },
  {
   "cell_type": "code",
   "execution_count": 198,
   "metadata": {},
   "outputs": [
    {
     "data": {
      "text/html": [
       "<div>\n",
       "<style scoped>\n",
       "    .dataframe tbody tr th:only-of-type {\n",
       "        vertical-align: middle;\n",
       "    }\n",
       "\n",
       "    .dataframe tbody tr th {\n",
       "        vertical-align: top;\n",
       "    }\n",
       "\n",
       "    .dataframe thead th {\n",
       "        text-align: right;\n",
       "    }\n",
       "</style>\n",
       "<table border=\"1\" class=\"dataframe\">\n",
       "  <thead>\n",
       "    <tr style=\"text-align: right;\">\n",
       "      <th></th>\n",
       "      <th>id</th>\n",
       "      <th>name</th>\n",
       "      <th>stats</th>\n",
       "      <th>image</th>\n",
       "      <th>thumbnail</th>\n",
       "      <th>artists</th>\n",
       "      <th>designers</th>\n",
       "      <th>year</th>\n",
       "      <th>description</th>\n",
       "      <th>categories</th>\n",
       "      <th>...</th>\n",
       "      <th>mechanics_Worker Placement</th>\n",
       "      <th>mechanics_Worker Placement with Dice Workers</th>\n",
       "      <th>mechanics_Worker Placement, Different Worker Types</th>\n",
       "      <th>mechanics_Zone of Control</th>\n",
       "      <th>number_of_user_ratings</th>\n",
       "      <th>average_user_rating</th>\n",
       "      <th>number_of_user_weight_ratings</th>\n",
       "      <th>average_user_weight_rating</th>\n",
       "      <th>bayes_average</th>\n",
       "      <th>number_of_users_own</th>\n",
       "    </tr>\n",
       "  </thead>\n",
       "  <tbody>\n",
       "    <tr>\n",
       "      <th>15033</th>\n",
       "      <td>19915</td>\n",
       "      <td>Three Men's Morris</td>\n",
       "      <td>{'usersrated': 53, 'average': 4.23226, 'bayesa...</td>\n",
       "      <td>https://cf.geekdo-images.com/original/img/4e6c...</td>\n",
       "      <td>https://cf.geekdo-images.com/thumb/img/76njHOw...</td>\n",
       "      <td>[]</td>\n",
       "      <td>[(Uncredited)]</td>\n",
       "      <td>-1400</td>\n",
       "      <td>This ancient game is probably a direct ancesto...</td>\n",
       "      <td>[Abstract Strategy]</td>\n",
       "      <td>...</td>\n",
       "      <td>0</td>\n",
       "      <td>0</td>\n",
       "      <td>0</td>\n",
       "      <td>0</td>\n",
       "      <td>53</td>\n",
       "      <td>4.23226</td>\n",
       "      <td>8</td>\n",
       "      <td>1.25</td>\n",
       "      <td>5.45236</td>\n",
       "      <td>56</td>\n",
       "    </tr>\n",
       "  </tbody>\n",
       "</table>\n",
       "<p>1 rows × 284 columns</p>\n",
       "</div>"
      ],
      "text/plain": [
       "          id                name  \\\n",
       "15033  19915  Three Men's Morris   \n",
       "\n",
       "                                                   stats  \\\n",
       "15033  {'usersrated': 53, 'average': 4.23226, 'bayesa...   \n",
       "\n",
       "                                                   image  \\\n",
       "15033  https://cf.geekdo-images.com/original/img/4e6c...   \n",
       "\n",
       "                                               thumbnail artists  \\\n",
       "15033  https://cf.geekdo-images.com/thumb/img/76njHOw...      []   \n",
       "\n",
       "            designers  year  \\\n",
       "15033  [(Uncredited)] -1400   \n",
       "\n",
       "                                             description           categories  \\\n",
       "15033  This ancient game is probably a direct ancesto...  [Abstract Strategy]   \n",
       "\n",
       "       ... mechanics_Worker Placement  \\\n",
       "15033  ...                          0   \n",
       "\n",
       "       mechanics_Worker Placement with Dice Workers  \\\n",
       "15033                                             0   \n",
       "\n",
       "      mechanics_Worker Placement, Different Worker Types  \\\n",
       "15033                                                  0   \n",
       "\n",
       "       mechanics_Zone of Control  number_of_user_ratings  average_user_rating  \\\n",
       "15033                          0                      53              4.23226   \n",
       "\n",
       "       number_of_user_weight_ratings  average_user_weight_rating  \\\n",
       "15033                              8                        1.25   \n",
       "\n",
       "       bayes_average  number_of_users_own  \n",
       "15033        5.45236                   56  \n",
       "\n",
       "[1 rows x 284 columns]"
      ]
     },
     "execution_count": 198,
     "metadata": {},
     "output_type": "execute_result"
    }
   ],
   "source": [
    "df.loc[15033:15033]"
   ]
  },
  {
   "cell_type": "code",
   "execution_count": 199,
   "metadata": {},
   "outputs": [
    {
     "data": {
      "text/html": [
       "<div>\n",
       "<style scoped>\n",
       "    .dataframe tbody tr th:only-of-type {\n",
       "        vertical-align: middle;\n",
       "    }\n",
       "\n",
       "    .dataframe tbody tr th {\n",
       "        vertical-align: top;\n",
       "    }\n",
       "\n",
       "    .dataframe thead th {\n",
       "        text-align: right;\n",
       "    }\n",
       "</style>\n",
       "<table border=\"1\" class=\"dataframe\">\n",
       "  <thead>\n",
       "    <tr style=\"text-align: right;\">\n",
       "      <th></th>\n",
       "      <th>id</th>\n",
       "      <th>name</th>\n",
       "      <th>stats</th>\n",
       "      <th>image</th>\n",
       "      <th>thumbnail</th>\n",
       "      <th>artists</th>\n",
       "      <th>designers</th>\n",
       "      <th>year</th>\n",
       "      <th>description</th>\n",
       "      <th>categories</th>\n",
       "      <th>...</th>\n",
       "      <th>mechanics_Worker Placement</th>\n",
       "      <th>mechanics_Worker Placement with Dice Workers</th>\n",
       "      <th>mechanics_Worker Placement, Different Worker Types</th>\n",
       "      <th>mechanics_Zone of Control</th>\n",
       "      <th>number_of_user_ratings</th>\n",
       "      <th>average_user_rating</th>\n",
       "      <th>number_of_user_weight_ratings</th>\n",
       "      <th>average_user_weight_rating</th>\n",
       "      <th>bayes_average</th>\n",
       "      <th>number_of_users_own</th>\n",
       "    </tr>\n",
       "  </thead>\n",
       "  <tbody>\n",
       "    <tr>\n",
       "      <th>15726</th>\n",
       "      <td>11901</td>\n",
       "      <td>Tic-Tac-Toe</td>\n",
       "      <td>{'usersrated': 3030, 'average': 2.66227, 'baye...</td>\n",
       "      <td>https://cf.geekdo-images.com/original/img/htPc...</td>\n",
       "      <td>https://cf.geekdo-images.com/thumb/img/Aes1kM4...</td>\n",
       "      <td>[]</td>\n",
       "      <td>[(Uncredited)]</td>\n",
       "      <td>-1300</td>\n",
       "      <td>A very old game where each player attempts to ...</td>\n",
       "      <td>[Abstract Strategy, Children's Game]</td>\n",
       "      <td>...</td>\n",
       "      <td>0</td>\n",
       "      <td>0</td>\n",
       "      <td>0</td>\n",
       "      <td>0</td>\n",
       "      <td>3030</td>\n",
       "      <td>2.66227</td>\n",
       "      <td>348</td>\n",
       "      <td>1.1552</td>\n",
       "      <td>3.53015</td>\n",
       "      <td>1269</td>\n",
       "    </tr>\n",
       "  </tbody>\n",
       "</table>\n",
       "<p>1 rows × 284 columns</p>\n",
       "</div>"
      ],
      "text/plain": [
       "          id         name                                              stats  \\\n",
       "15726  11901  Tic-Tac-Toe  {'usersrated': 3030, 'average': 2.66227, 'baye...   \n",
       "\n",
       "                                                   image  \\\n",
       "15726  https://cf.geekdo-images.com/original/img/htPc...   \n",
       "\n",
       "                                               thumbnail artists  \\\n",
       "15726  https://cf.geekdo-images.com/thumb/img/Aes1kM4...      []   \n",
       "\n",
       "            designers  year  \\\n",
       "15726  [(Uncredited)] -1300   \n",
       "\n",
       "                                             description  \\\n",
       "15726  A very old game where each player attempts to ...   \n",
       "\n",
       "                                 categories  ... mechanics_Worker Placement  \\\n",
       "15726  [Abstract Strategy, Children's Game]  ...                          0   \n",
       "\n",
       "       mechanics_Worker Placement with Dice Workers  \\\n",
       "15726                                             0   \n",
       "\n",
       "      mechanics_Worker Placement, Different Worker Types  \\\n",
       "15726                                                  0   \n",
       "\n",
       "       mechanics_Zone of Control  number_of_user_ratings  average_user_rating  \\\n",
       "15726                          0                    3030              2.66227   \n",
       "\n",
       "       number_of_user_weight_ratings  average_user_weight_rating  \\\n",
       "15726                            348                      1.1552   \n",
       "\n",
       "       bayes_average  number_of_users_own  \n",
       "15726        3.53015                 1269  \n",
       "\n",
       "[1 rows x 284 columns]"
      ]
     },
     "execution_count": 199,
     "metadata": {},
     "output_type": "execute_result"
    }
   ],
   "source": [
    "df.loc[15726:15726]"
   ]
  },
  {
   "cell_type": "markdown",
   "metadata": {},
   "source": [
    "# Conclusion"
   ]
  },
  {
   "cell_type": "markdown",
   "metadata": {},
   "source": [
    "Will use KMeans, because it's faster and has slightly higher silhouette score"
   ]
  },
  {
   "cell_type": "markdown",
   "metadata": {},
   "source": [
    "Future avenue of exploration is the usefulness of KMeans and Gaussian Mixture Modelling"
   ]
  },
  {
   "cell_type": "code",
   "execution_count": null,
   "metadata": {},
   "outputs": [],
   "source": []
  }
 ],
 "metadata": {
  "kernelspec": {
   "display_name": "msia423",
   "language": "python",
   "name": "msia423"
  },
  "language_info": {
   "codemirror_mode": {
    "name": "ipython",
    "version": 3
   },
   "file_extension": ".py",
   "mimetype": "text/x-python",
   "name": "python",
   "nbconvert_exporter": "python",
   "pygments_lexer": "ipython3",
   "version": "3.8.2"
  }
 },
 "nbformat": 4,
 "nbformat_minor": 4
}
