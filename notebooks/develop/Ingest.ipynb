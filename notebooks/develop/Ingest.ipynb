{
 "cells": [
  {
   "cell_type": "code",
   "execution_count": 69,
   "metadata": {},
   "outputs": [],
   "source": [
    "from sqlalchemy import create_engine, Column, Integer, String, Text, Date, Float\n",
    "from sqlalchemy.orm import sessionmaker\n",
    "from sqlalchemy.ext.declarative import declarative_base"
   ]
  },
  {
   "cell_type": "code",
   "execution_count": 61,
   "metadata": {},
   "outputs": [],
   "source": [
    "import pandas as pd\n",
    "import os"
   ]
  },
  {
   "cell_type": "code",
   "execution_count": 17,
   "metadata": {},
   "outputs": [],
   "source": [
    "import json\n",
    "\n",
    "with open('../../data/games.json') as json_file:\n",
    "    data = json.load(json_file)"
   ]
  },
  {
   "cell_type": "code",
   "execution_count": 18,
   "metadata": {},
   "outputs": [],
   "source": [
    "game = data[0]"
   ]
  },
  {
   "cell_type": "code",
   "execution_count": 19,
   "metadata": {},
   "outputs": [
    {
     "data": {
      "text/plain": [
       "174430"
      ]
     },
     "execution_count": 19,
     "metadata": {},
     "output_type": "execute_result"
    }
   ],
   "source": [
    "game['id']"
   ]
  },
  {
   "cell_type": "code",
   "execution_count": 20,
   "metadata": {},
   "outputs": [
    {
     "data": {
      "text/plain": [
       "'Gloomhaven'"
      ]
     },
     "execution_count": 20,
     "metadata": {},
     "output_type": "execute_result"
    }
   ],
   "source": [
    "game['name']"
   ]
  },
  {
   "cell_type": "code",
   "execution_count": 26,
   "metadata": {},
   "outputs": [
    {
     "data": {
      "text/plain": [
       "89"
      ]
     },
     "execution_count": 26,
     "metadata": {},
     "output_type": "execute_result"
    }
   ],
   "source": [
    "len(game['image'])"
   ]
  },
  {
   "cell_type": "markdown",
   "metadata": {},
   "source": [
    "## Stats"
   ]
  },
  {
   "cell_type": "code",
   "execution_count": 21,
   "metadata": {},
   "outputs": [
    {
     "data": {
      "text/plain": [
       "{'usersrated': 34829,\n",
       " 'average': 8.83196,\n",
       " 'bayesaverage': 8.576,\n",
       " 'stddev': 1.60752,\n",
       " 'median': 0.0,\n",
       " 'owned': 55995,\n",
       " 'trading': 346,\n",
       " 'wanting': 1417,\n",
       " 'wishing': 14645,\n",
       " 'numcomments': 6545,\n",
       " 'numweights': 1494,\n",
       " 'averageweight': 3.8253,\n",
       " 'ranks': [{'id': '1',\n",
       "   'name': 'boardgame',\n",
       "   'friendlyname': 'Board Game Rank',\n",
       "   'value': 1},\n",
       "  {'id': '5496',\n",
       "   'name': 'thematic',\n",
       "   'friendlyname': 'Thematic Rank',\n",
       "   'value': 1},\n",
       "  {'id': '5497',\n",
       "   'name': 'strategygames',\n",
       "   'friendlyname': 'Strategy Game Rank',\n",
       "   'value': 1}]}"
      ]
     },
     "execution_count": 21,
     "metadata": {},
     "output_type": "execute_result"
    }
   ],
   "source": [
    "game['stats']"
   ]
  },
  {
   "cell_type": "code",
   "execution_count": 22,
   "metadata": {},
   "outputs": [
    {
     "data": {
      "text/plain": [
       "['Isaac Childres']"
      ]
     },
     "execution_count": 22,
     "metadata": {},
     "output_type": "execute_result"
    }
   ],
   "source": [
    "game['designers']"
   ]
  },
  {
   "cell_type": "code",
   "execution_count": 32,
   "metadata": {},
   "outputs": [],
   "source": [
    "maximum = 0\n",
    "for game in data:\n",
    "    if game['description']:\n",
    "        if len(game['description']) > maximum:\n",
    "            maximum = len(game['description'])"
   ]
  },
  {
   "cell_type": "code",
   "execution_count": 33,
   "metadata": {},
   "outputs": [],
   "source": [
    "maximum = 0\n",
    "for game in data:\n",
    "    if game['image']:\n",
    "        if len(game['image']) > maximum:\n",
    "            maximum = len(game['image'])"
   ]
  },
  {
   "cell_type": "code",
   "execution_count": 42,
   "metadata": {},
   "outputs": [],
   "source": [
    "name = ''\n",
    "maximum = 0\n",
    "for game in data:\n",
    "    if game['stats']['usersrated']:\n",
    "        if game['stats']['usersrated'] > maximum:\n",
    "            maximum = game['stats']['usersrated']\n",
    "            name = game['name']"
   ]
  },
  {
   "cell_type": "code",
   "execution_count": 44,
   "metadata": {},
   "outputs": [
    {
     "data": {
      "text/plain": [
       "'Catan'"
      ]
     },
     "execution_count": 44,
     "metadata": {},
     "output_type": "execute_result"
    }
   ],
   "source": [
    "maximum\n",
    "name"
   ]
  },
  {
   "cell_type": "code",
   "execution_count": 37,
   "metadata": {},
   "outputs": [
    {
     "data": {
      "text/plain": [
       "89"
      ]
     },
     "execution_count": 37,
     "metadata": {},
     "output_type": "execute_result"
    }
   ],
   "source": [
    "len(data[25]['image'])"
   ]
  },
  {
   "cell_type": "code",
   "execution_count": 74,
   "metadata": {},
   "outputs": [],
   "source": [
    "Base = declarative_base()\n",
    "\n",
    "class Boardgame(Base):\n",
    "    \"\"\" Defines the data model for the table `boardgames`. \"\"\"\n",
    "\n",
    "    __tablename__ = 'boardgames'\n",
    "\n",
    "    game_id = Column(String(100), primary_key=True, unique=True, nullable=False)\n",
    "    name = Column(String(100), unique=False, nullable=False)\n",
    "    image = Column(String(150), unique=False, nullable=True)\n",
    "    thumbnail = Column(String(100), unique=False, nullable=True)\n",
    "    description = Column(Text, unique=False, nullable=True)\n",
    "    year_published = Column(Date, unique=False, nullable=True)\n",
    "    min_age = Column(Integer, unique=False, nullable=True)\n",
    "    number_of_ratings = Column(Integer, unique=False, nullable=True)\n",
    "    average_user_rating = Column(Float, unique=False, nullable=True)\n",
    "    number_of_ratings_weight = Column(Integer, unique=False, nullable=True)\n",
    "    average_user_rating_weight = Column(Float, unique=False, nullable=True)\n",
    "    bayes_average = Column(Float, unique=False, nullable=True)\n",
    "                       \n",
    "\n",
    "    def __repr__(self):\n",
    "        game_repr = f\"<Boardgame(game_id={self.game_id}, name={self.name})>\"\n",
    "        return game_repr"
   ]
  },
  {
   "cell_type": "code",
   "execution_count": 64,
   "metadata": {},
   "outputs": [],
   "source": []
  },
  {
   "cell_type": "code",
   "execution_count": 66,
   "metadata": {},
   "outputs": [
    {
     "name": "stdout",
     "output_type": "stream",
     "text": [
      "sqlite:///sample_sqlite_db.db\n"
     ]
    }
   ],
   "source": [
    "# DataBase User Configurations\n",
    "DB_HOST = None\n",
    "DB_PORT = None\n",
    "DB_USER = None\n",
    "DB_PW = None\n",
    "\n",
    "DB_DIALECT = 'mysql+pymysql'\n",
    "SQLALCHEMY_DATABASE_URI = os.environ.get('SQLALCHEMY_DATABASE_URI')\n",
    "\n",
    "# Logic for deciding what type of DB to create\n",
    "if SQLALCHEMY_DATABASE_URI is not None:\n",
    "    pass\n",
    "elif DB_HOST is None:\n",
    "    SQLALCHEMY_DATABASE_URI = 'sqlite:///sample_sqlite_db.db'\n",
    "else:\n",
    "    SQLALCHEMY_DATABASE_URI = f'{DB_DIALECT}://{DB_USER}:{DB_PW}@{DB_HOST}:{DB_PORT}/{DATABASE}'\n",
    "            \n",
    "print(SQLALCHEMY_DATABASE_URI)"
   ]
  },
  {
   "cell_type": "code",
   "execution_count": 71,
   "metadata": {},
   "outputs": [],
   "source": [
    "# Define Engine String\n",
    "engine_string = SQLALCHEMY_DATABASE_URI\n",
    "\n",
    "# Define Engine\n",
    "engine = create_engine(engine_string)\n",
    "\n",
    "# Create database\n",
    "Base.metadata.create_all(engine)"
   ]
  },
  {
   "cell_type": "code",
   "execution_count": 75,
   "metadata": {},
   "outputs": [
    {
     "name": "stdout",
     "output_type": "stream",
     "text": [
      "174430\n",
      "Gloomhaven\n"
     ]
    }
   ],
   "source": [
    "sample_game = data[0]\n",
    "print(sample_game['id'])\n",
    "print(sample_game['name'])"
   ]
  },
  {
   "cell_type": "code",
   "execution_count": 78,
   "metadata": {},
   "outputs": [],
   "source": [
    "# Establish session with database\n",
    "Session = sessionmaker(bind=engine)\n",
    "session = Session()\n",
    "\n",
    "# Define a boardgame in the ORM\n",
    "game = Boardgame(game_id=sample_game['id'], name=sample_game['name'] )\n",
    "\n",
    "# Add game to session\n",
    "session.add(game)\n",
    "# Commit additions to database\n",
    "session.commit()"
   ]
  },
  {
   "cell_type": "code",
   "execution_count": 82,
   "metadata": {},
   "outputs": [],
   "source": [
    "# Delete all entries in database\n",
    "session.execute('''DELETE FROM boardgames''')\n",
    "session.commit()\n",
    "\n",
    "# Close session\n",
    "session.close()"
   ]
  },
  {
   "cell_type": "code",
   "execution_count": null,
   "metadata": {},
   "outputs": [],
   "source": []
  },
  {
   "cell_type": "code",
   "execution_count": null,
   "metadata": {},
   "outputs": [],
   "source": []
  }
 ],
 "metadata": {
  "kernelspec": {
   "display_name": "msia423",
   "language": "python",
   "name": "msia423"
  },
  "language_info": {
   "codemirror_mode": {
    "name": "ipython",
    "version": 3
   },
   "file_extension": ".py",
   "mimetype": "text/x-python",
   "name": "python",
   "nbconvert_exporter": "python",
   "pygments_lexer": "ipython3",
   "version": "3.8.2"
  }
 },
 "nbformat": 4,
 "nbformat_minor": 4
}
