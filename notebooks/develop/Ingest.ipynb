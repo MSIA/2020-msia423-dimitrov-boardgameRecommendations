{
 "cells": [
  {
   "cell_type": "code",
   "execution_count": 178,
   "metadata": {},
   "outputs": [],
   "source": [
    "from sqlalchemy import create_engine, Column, Integer, String, Text, Date, Float\n",
    "from sqlalchemy.orm import sessionmaker\n",
    "from sqlalchemy.ext.declarative import declarative_base"
   ]
  },
  {
   "cell_type": "code",
   "execution_count": 179,
   "metadata": {},
   "outputs": [],
   "source": [
    "from datetime import date\n",
    "import pandas as pd\n",
    "import os"
   ]
  },
  {
   "cell_type": "code",
   "execution_count": 180,
   "metadata": {},
   "outputs": [],
   "source": [
    "import json\n",
    "\n",
    "with open('../../data/games.json') as json_file:\n",
    "    data = json.load(json_file)"
   ]
  },
  {
   "cell_type": "code",
   "execution_count": 181,
   "metadata": {},
   "outputs": [],
   "source": [
    "game = data[0]"
   ]
  },
  {
   "cell_type": "code",
   "execution_count": 182,
   "metadata": {},
   "outputs": [
    {
     "data": {
      "text/plain": [
       "174430"
      ]
     },
     "execution_count": 182,
     "metadata": {},
     "output_type": "execute_result"
    }
   ],
   "source": [
    "game['id']"
   ]
  },
  {
   "cell_type": "code",
   "execution_count": 183,
   "metadata": {},
   "outputs": [
    {
     "data": {
      "text/plain": [
       "'Gloomhaven'"
      ]
     },
     "execution_count": 183,
     "metadata": {},
     "output_type": "execute_result"
    }
   ],
   "source": [
    "game['name']"
   ]
  },
  {
   "cell_type": "code",
   "execution_count": 184,
   "metadata": {},
   "outputs": [
    {
     "data": {
      "text/plain": [
       "89"
      ]
     },
     "execution_count": 184,
     "metadata": {},
     "output_type": "execute_result"
    }
   ],
   "source": [
    "len(game['image'])"
   ]
  },
  {
   "cell_type": "markdown",
   "metadata": {},
   "source": [
    "## Stats"
   ]
  },
  {
   "cell_type": "code",
   "execution_count": 185,
   "metadata": {},
   "outputs": [
    {
     "data": {
      "text/plain": [
       "{'usersrated': 34829,\n",
       " 'average': 8.83196,\n",
       " 'bayesaverage': 8.576,\n",
       " 'stddev': 1.60752,\n",
       " 'median': 0.0,\n",
       " 'owned': 55995,\n",
       " 'trading': 346,\n",
       " 'wanting': 1417,\n",
       " 'wishing': 14645,\n",
       " 'numcomments': 6545,\n",
       " 'numweights': 1494,\n",
       " 'averageweight': 3.8253,\n",
       " 'ranks': [{'id': '1',\n",
       "   'name': 'boardgame',\n",
       "   'friendlyname': 'Board Game Rank',\n",
       "   'value': 1},\n",
       "  {'id': '5496',\n",
       "   'name': 'thematic',\n",
       "   'friendlyname': 'Thematic Rank',\n",
       "   'value': 1},\n",
       "  {'id': '5497',\n",
       "   'name': 'strategygames',\n",
       "   'friendlyname': 'Strategy Game Rank',\n",
       "   'value': 1}]}"
      ]
     },
     "execution_count": 185,
     "metadata": {},
     "output_type": "execute_result"
    }
   ],
   "source": [
    "game['stats']"
   ]
  },
  {
   "cell_type": "code",
   "execution_count": 186,
   "metadata": {},
   "outputs": [
    {
     "data": {
      "text/plain": [
       "['Isaac Childres']"
      ]
     },
     "execution_count": 186,
     "metadata": {},
     "output_type": "execute_result"
    }
   ],
   "source": [
    "game['designers']"
   ]
  },
  {
   "cell_type": "code",
   "execution_count": 187,
   "metadata": {},
   "outputs": [],
   "source": [
    "maximum = 0\n",
    "for game in data:\n",
    "    if game['description']:\n",
    "        if len(game['description']) > maximum:\n",
    "            maximum = len(game['description'])"
   ]
  },
  {
   "cell_type": "code",
   "execution_count": 188,
   "metadata": {},
   "outputs": [],
   "source": [
    "maximum = 0\n",
    "for game in data:\n",
    "    if game['image']:\n",
    "        if len(game['image']) > maximum:\n",
    "            maximum = len(game['image'])"
   ]
  },
  {
   "cell_type": "code",
   "execution_count": 189,
   "metadata": {},
   "outputs": [],
   "source": [
    "name = ''\n",
    "maximum = 0\n",
    "for game in data:\n",
    "    if game['stats']['usersrated']:\n",
    "        if game['stats']['usersrated'] > maximum:\n",
    "            maximum = game['stats']['usersrated']\n",
    "            name = game['name']"
   ]
  },
  {
   "cell_type": "code",
   "execution_count": 190,
   "metadata": {},
   "outputs": [
    {
     "data": {
      "text/plain": [
       "'Catan'"
      ]
     },
     "execution_count": 190,
     "metadata": {},
     "output_type": "execute_result"
    }
   ],
   "source": [
    "maximum\n",
    "name"
   ]
  },
  {
   "cell_type": "code",
   "execution_count": 191,
   "metadata": {},
   "outputs": [
    {
     "data": {
      "text/plain": [
       "89"
      ]
     },
     "execution_count": 191,
     "metadata": {},
     "output_type": "execute_result"
    }
   ],
   "source": [
    "len(data[25]['image'])"
   ]
  },
  {
   "cell_type": "code",
   "execution_count": 192,
   "metadata": {},
   "outputs": [],
   "source": [
    "Base = declarative_base()\n",
    "\n",
    "class Boardgame(Base):\n",
    "    \"\"\" Defines the data model for the table `boardgames`. \"\"\"\n",
    "\n",
    "    __tablename__ = 'boardgames'\n",
    "\n",
    "    game_id = Column(String(100), primary_key=True, unique=True, nullable=False)\n",
    "    name = Column(String(100), unique=False, nullable=False)\n",
    "    image = Column(String(150), unique=False, nullable=True)\n",
    "    thumbnail = Column(String(100), unique=False, nullable=True)\n",
    "    description = Column(Text, unique=False, nullable=True)\n",
    "    year_published = Column(Date, unique=False, nullable=True)\n",
    "    min_age = Column(Integer, unique=False, nullable=True)\n",
    "    number_of_ratings = Column(Integer, unique=False, nullable=True)\n",
    "    average_user_rating = Column(Float, unique=False, nullable=True)\n",
    "    number_of_ratings_weight = Column(Integer, unique=False, nullable=True)\n",
    "    average_user_rating_weight = Column(Float, unique=False, nullable=True)\n",
    "    bayes_average = Column(Float, unique=False, nullable=True)\n",
    "                       \n",
    "\n",
    "    def __repr__(self):\n",
    "        game_repr = f\"<Boardgame(game_id={self.game_id}, name={self.name})>\"\n",
    "        return game_repr"
   ]
  },
  {
   "cell_type": "code",
   "execution_count": 193,
   "metadata": {},
   "outputs": [
    {
     "name": "stdout",
     "output_type": "stream",
     "text": [
      "sqlite:///sample_sqlite_db.db\n"
     ]
    }
   ],
   "source": [
    "# DataBase User Configurations\n",
    "DB_HOST = None\n",
    "DB_PORT = None\n",
    "DB_USER = None\n",
    "DB_PW = None\n",
    "\n",
    "DB_DIALECT = 'mysql+pymysql'\n",
    "SQLALCHEMY_DATABASE_URI = os.environ.get('SQLALCHEMY_DATABASE_URI')\n",
    "\n",
    "# Logic for deciding what type of DB to create\n",
    "if SQLALCHEMY_DATABASE_URI is not None:\n",
    "    pass\n",
    "elif DB_HOST is None:\n",
    "    SQLALCHEMY_DATABASE_URI = 'sqlite:///sample_sqlite_db.db'\n",
    "else:\n",
    "    SQLALCHEMY_DATABASE_URI = f'{DB_DIALECT}://{DB_USER}:{DB_PW}@{DB_HOST}:{DB_PORT}/{DATABASE}'\n",
    "            \n",
    "print(SQLALCHEMY_DATABASE_URI)"
   ]
  },
  {
   "cell_type": "code",
   "execution_count": 194,
   "metadata": {},
   "outputs": [],
   "source": [
    "# Define Engine String\n",
    "engine_string = SQLALCHEMY_DATABASE_URI\n",
    "\n",
    "# Define Engine\n",
    "engine = create_engine(engine_string)\n",
    "\n",
    "# Create database\n",
    "Base.metadata.create_all(engine)"
   ]
  },
  {
   "cell_type": "code",
   "execution_count": 195,
   "metadata": {},
   "outputs": [
    {
     "name": "stdout",
     "output_type": "stream",
     "text": [
      "174430\n",
      "Gloomhaven\n",
      "Gloomhaven  is a game of Euro-inspired tactical combat in a persistent world of shifting motives. Players will take on the role of a wandering adventurer with their own special set of skills and their own reasons for traveling to this dark corner of the world. Players must work together out of necessity to clear out menacing dungeons and forgotten ruins. In the process, they will enhance their abilities with experience and loot, discover new locations to explore and plunder, and expand an ever-branching story fueled by the decisions they make.\n",
      "\n",
      "This is a game with a persistent and changing world that is ideally played over many game sessions. After a scenario, players will make decisions on what to do, which will determine how the story continues, kind of like a “Choose Your Own Adventure” book. Playing through a scenario is a cooperative affair where players will fight against automated monsters using an innovative card system to determine the order of play and what a player does on their turn.\n",
      "\n",
      "Each turn, a player chooses two cards to play out of their hand. The number on the top card determines their initiative for the round. Each card also has a top and bottom power, and when it is a player’s turn in the initiative order, they determine whether to use the top power of one card and the bottom power of the other, or vice-versa. Players must be careful, though, because over time they will permanently lose cards from their hands. If they take too long to clear a dungeon, they may end up exhausted and be forced to retreat.\n",
      "\n",
      "\n"
     ]
    }
   ],
   "source": [
    "sample_game = data[0]\n",
    "print(sample_game['id'])\n",
    "print(sample_game['name'])\n",
    "print(sample_game['description'])"
   ]
  },
  {
   "cell_type": "code",
   "execution_count": 196,
   "metadata": {},
   "outputs": [
    {
     "data": {
      "text/plain": [
       "{'usersrated': 36337,\n",
       " 'average': 8.16183,\n",
       " 'bayesaverage': 8.0103,\n",
       " 'stddev': 1.46733,\n",
       " 'median': 0.0,\n",
       " 'owned': 39761,\n",
       " 'trading': 563,\n",
       " 'wanting': 1693,\n",
       " 'wishing': 11538,\n",
       " 'numcomments': 5509,\n",
       " 'numweights': 2475,\n",
       " 'averageweight': 3.9531,\n",
       " 'ranks': [{'id': '1',\n",
       "   'name': 'boardgame',\n",
       "   'friendlyname': 'Board Game Rank',\n",
       "   'value': 15},\n",
       "  {'id': '5497',\n",
       "   'name': 'strategygames',\n",
       "   'friendlyname': 'Strategy Game Rank',\n",
       "   'value': 13}]}"
      ]
     },
     "execution_count": 196,
     "metadata": {},
     "output_type": "execute_result"
    }
   ],
   "source": [
    "data[10]['stats']"
   ]
  },
  {
   "cell_type": "code",
   "execution_count": 197,
   "metadata": {},
   "outputs": [
    {
     "data": {
      "text/plain": [
       "36337"
      ]
     },
     "execution_count": 197,
     "metadata": {},
     "output_type": "execute_result"
    }
   ],
   "source": [
    "data[10]['stats']['usersrated']"
   ]
  },
  {
   "cell_type": "code",
   "execution_count": 198,
   "metadata": {},
   "outputs": [
    {
     "data": {
      "text/plain": [
       "2017"
      ]
     },
     "execution_count": 198,
     "metadata": {},
     "output_type": "execute_result"
    }
   ],
   "source": [
    "sample_game['year']"
   ]
  },
  {
   "cell_type": "code",
   "execution_count": 199,
   "metadata": {},
   "outputs": [],
   "source": [
    "# Establish session with database\n",
    "Session = sessionmaker(bind=engine)\n",
    "session = Session()\n",
    "\n",
    "# Define a boardgame in the ORM\n",
    "game = Boardgame(game_id=sample_game['id'], \n",
    "                 name=sample_game['name'], \n",
    "                 image=sample_game['image'], \n",
    "                 thumbnail = sample_game['thumbnail'], \n",
    "                 description=sample_game['description'], \n",
    "                 year_published=date(year=sample_game['year'], month=1, day=1 ), \n",
    "                 min_age=sample_game['min_age'], \n",
    "                 number_of_ratings=sample_game['stats']['usersrated'], \n",
    "                 average_user_rating=sample_game['stats']['average'], \n",
    "                 number_of_ratings_weight=sample_game['stats']['numweights'], \n",
    "                 average_user_rating_weight=sample_game['stats']['averageweight'], \n",
    "                 bayes_average=sample_game['stats']['bayesaverage'])\n",
    "\n",
    "# Add game to session\n",
    "session.add(game)\n",
    "# Commit additions to database\n",
    "session.commit()"
   ]
  },
  {
   "cell_type": "code",
   "execution_count": 200,
   "metadata": {},
   "outputs": [
    {
     "data": {
      "text/plain": [
       "Engine(sqlite:///sample_sqlite_db.db)"
      ]
     },
     "execution_count": 200,
     "metadata": {},
     "output_type": "execute_result"
    }
   ],
   "source": [
    "# How to check the engine of a given session?\n",
    "session.connection().engine"
   ]
  },
  {
   "cell_type": "code",
   "execution_count": 201,
   "metadata": {},
   "outputs": [],
   "source": [
    "# Delete all entries in database\n",
    "session.execute('''DELETE FROM boardgames''')\n",
    "session.commit()\n",
    "\n",
    "# Close session\n",
    "session.close()"
   ]
  },
  {
   "cell_type": "code",
   "execution_count": 142,
   "metadata": {},
   "outputs": [
    {
     "name": "stdout",
     "output_type": "stream",
     "text": [
      "16311\n",
      "\n"
     ]
    }
   ],
   "source": [
    "# Reading in json file\n",
    "with open('../../data/games.json', 'r') as json_file:\n",
    "    games=json.load(json_file)\n",
    "    print(len(games))\n",
    "    print(json_file.read())"
   ]
  },
  {
   "cell_type": "code",
   "execution_count": 155,
   "metadata": {},
   "outputs": [
    {
     "data": {
      "text/plain": [
       "int"
      ]
     },
     "execution_count": 155,
     "metadata": {},
     "output_type": "execute_result"
    }
   ],
   "source": [
    "type(sample_game['id'])"
   ]
  },
  {
   "cell_type": "code",
   "execution_count": 153,
   "metadata": {},
   "outputs": [
    {
     "data": {
      "text/plain": [
       "float"
      ]
     },
     "execution_count": 153,
     "metadata": {},
     "output_type": "execute_result"
    }
   ],
   "source": [
    "type(sample_game['stats']['bayesaverage'])"
   ]
  },
  {
   "cell_type": "code",
   "execution_count": 138,
   "metadata": {},
   "outputs": [
    {
     "data": {
      "text/plain": [
       "{'id': 174430,\n",
       " 'name': 'Gloomhaven',\n",
       " 'stats': {'usersrated': 34829,\n",
       "  'average': 8.83196,\n",
       "  'bayesaverage': 8.576,\n",
       "  'stddev': 1.60752,\n",
       "  'median': 0.0,\n",
       "  'owned': 55995,\n",
       "  'trading': 346,\n",
       "  'wanting': 1417,\n",
       "  'wishing': 14645,\n",
       "  'numcomments': 6545,\n",
       "  'numweights': 1494,\n",
       "  'averageweight': 3.8253,\n",
       "  'ranks': [{'id': '1',\n",
       "    'name': 'boardgame',\n",
       "    'friendlyname': 'Board Game Rank',\n",
       "    'value': 1},\n",
       "   {'id': '5496',\n",
       "    'name': 'thematic',\n",
       "    'friendlyname': 'Thematic Rank',\n",
       "    'value': 1},\n",
       "   {'id': '5497',\n",
       "    'name': 'strategygames',\n",
       "    'friendlyname': 'Strategy Game Rank',\n",
       "    'value': 1}]},\n",
       " 'image': 'https://cf.geekdo-images.com/original/img/lDN358RgcYvQfYYN6Oy2TXpifyM=/0x0/pic2437871.jpg',\n",
       " 'thumbnail': 'https://cf.geekdo-images.com/thumb/img/e7GyV4PaNtwmalU-EQAGecwoBSI=/fit-in/200x150/pic2437871.jpg',\n",
       " 'artists': ['Alexandr Elichev', 'Josh T. McDowell', 'Alvaro Nebot'],\n",
       " 'designers': ['Isaac Childres'],\n",
       " 'year': 2017,\n",
       " 'description': 'Gloomhaven  is a game of Euro-inspired tactical combat in a persistent world of shifting motives. Players will take on the role of a wandering adventurer with their own special set of skills and their own reasons for traveling to this dark corner of the world. Players must work together out of necessity to clear out menacing dungeons and forgotten ruins. In the process, they will enhance their abilities with experience and loot, discover new locations to explore and plunder, and expand an ever-branching story fueled by the decisions they make.\\n\\nThis is a game with a persistent and changing world that is ideally played over many game sessions. After a scenario, players will make decisions on what to do, which will determine how the story continues, kind of like a “Choose Your Own Adventure” book. Playing through a scenario is a cooperative affair where players will fight against automated monsters using an innovative card system to determine the order of play and what a player does on their turn.\\n\\nEach turn, a player chooses two cards to play out of their hand. The number on the top card determines their initiative for the round. Each card also has a top and bottom power, and when it is a player’s turn in the initiative order, they determine whether to use the top power of one card and the bottom power of the other, or vice-versa. Players must be careful, though, because over time they will permanently lose cards from their hands. If they take too long to clear a dungeon, they may end up exhausted and be forced to retreat.\\n\\n',\n",
       " 'categories': ['Adventure',\n",
       "  'Exploration',\n",
       "  'Fantasy',\n",
       "  'Fighting',\n",
       "  'Miniatures'],\n",
       " 'mechanics': ['Action Retrieval',\n",
       "  'Campaign / Battle Card Driven',\n",
       "  'Communication Limits',\n",
       "  'Cooperative Game',\n",
       "  'Grid Movement',\n",
       "  'Hand Management',\n",
       "  'Legacy Game',\n",
       "  'Modular Board',\n",
       "  'Once-Per-Game Abilities',\n",
       "  'Role Playing',\n",
       "  'Scenario / Mission / Campaign Game',\n",
       "  'Simultaneous Action Selection',\n",
       "  'Solo / Solitaire Game',\n",
       "  'Storytelling',\n",
       "  'Variable Player Powers'],\n",
       " 'min_age': 12,\n",
       " 'publishers': ['Cephalofair Games',\n",
       "  'Albi',\n",
       "  'Asmodee',\n",
       "  'Feuerland Spiele',\n",
       "  'Galápagos Jogos',\n",
       "  'Games Warehouse',\n",
       "  'Gém Klub Kft.',\n",
       "  'Hobby World',\n",
       "  'Korea Boardgames co., Ltd.',\n",
       "  'MYBG Co., Ltd.']}"
      ]
     },
     "execution_count": 138,
     "metadata": {},
     "output_type": "execute_result"
    }
   ],
   "source": [
    "games[0]"
   ]
  },
  {
   "cell_type": "code",
   "execution_count": null,
   "metadata": {},
   "outputs": [],
   "source": []
  }
 ],
 "metadata": {
  "kernelspec": {
   "display_name": "msia423",
   "language": "python",
   "name": "msia423"
  },
  "language_info": {
   "codemirror_mode": {
    "name": "ipython",
    "version": 3
   },
   "file_extension": ".py",
   "mimetype": "text/x-python",
   "name": "python",
   "nbconvert_exporter": "python",
   "pygments_lexer": "ipython3",
   "version": "3.8.2"
  }
 },
 "nbformat": 4,
 "nbformat_minor": 4
}
