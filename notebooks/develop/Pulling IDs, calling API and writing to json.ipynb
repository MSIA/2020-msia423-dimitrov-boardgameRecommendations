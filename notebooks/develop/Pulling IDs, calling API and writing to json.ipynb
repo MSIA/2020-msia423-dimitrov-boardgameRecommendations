{
 "cells": [
  {
   "cell_type": "code",
   "execution_count": 36,
   "metadata": {},
   "outputs": [],
   "source": [
    "import pickle\n",
    "import json\n",
    "import numpy as np\n",
    "import pandas as pd\n",
    "from boardgamegeek import BGGClient\n",
    "from boardgamegeek.exceptions import BGGApiError, BGGError, BGGItemNotFoundError, BGGValueError\n",
    "bgg = BGGClient(requests_per_minute=100)\n",
    "url = \"https://raw.githubusercontent.com/beefsack/bgg-ranking-historicals/master/2019-07-08.csv\""
   ]
  },
  {
   "cell_type": "code",
   "execution_count": 11,
   "metadata": {},
   "outputs": [],
   "source": [
    "df = pd.read_csv(url)"
   ]
  },
  {
   "cell_type": "code",
   "execution_count": 12,
   "metadata": {},
   "outputs": [
    {
     "data": {
      "text/html": [
       "<div>\n",
       "<style scoped>\n",
       "    .dataframe tbody tr th:only-of-type {\n",
       "        vertical-align: middle;\n",
       "    }\n",
       "\n",
       "    .dataframe tbody tr th {\n",
       "        vertical-align: top;\n",
       "    }\n",
       "\n",
       "    .dataframe thead th {\n",
       "        text-align: right;\n",
       "    }\n",
       "</style>\n",
       "<table border=\"1\" class=\"dataframe\">\n",
       "  <thead>\n",
       "    <tr style=\"text-align: right;\">\n",
       "      <th></th>\n",
       "      <th>ID</th>\n",
       "      <th>Name</th>\n",
       "      <th>Year</th>\n",
       "      <th>Rank</th>\n",
       "      <th>Average</th>\n",
       "      <th>Bayes average</th>\n",
       "      <th>Users rated</th>\n",
       "      <th>URL</th>\n",
       "      <th>Thumbnail</th>\n",
       "    </tr>\n",
       "  </thead>\n",
       "  <tbody>\n",
       "    <tr>\n",
       "      <th>0</th>\n",
       "      <td>174430</td>\n",
       "      <td>Gloomhaven</td>\n",
       "      <td>2017</td>\n",
       "      <td>1</td>\n",
       "      <td>8.89</td>\n",
       "      <td>8.604</td>\n",
       "      <td>26069</td>\n",
       "      <td>/boardgame/174430/gloomhaven</td>\n",
       "      <td>https://cf.geekdo-images.com/micro/img/8JYMPXd...</td>\n",
       "    </tr>\n",
       "    <tr>\n",
       "      <th>1</th>\n",
       "      <td>161936</td>\n",
       "      <td>Pandemic Legacy: Season 1</td>\n",
       "      <td>2015</td>\n",
       "      <td>2</td>\n",
       "      <td>8.64</td>\n",
       "      <td>8.485</td>\n",
       "      <td>31753</td>\n",
       "      <td>/boardgame/161936/pandemic-legacy-season-1</td>\n",
       "      <td>https://cf.geekdo-images.com/micro/img/KbAKyhb...</td>\n",
       "    </tr>\n",
       "    <tr>\n",
       "      <th>2</th>\n",
       "      <td>182028</td>\n",
       "      <td>Through the Ages: A New Story of Civilization</td>\n",
       "      <td>2015</td>\n",
       "      <td>3</td>\n",
       "      <td>8.53</td>\n",
       "      <td>8.254</td>\n",
       "      <td>16148</td>\n",
       "      <td>/boardgame/182028/through-ages-new-story-civil...</td>\n",
       "      <td>https://cf.geekdo-images.com/micro/img/APvZ_BY...</td>\n",
       "    </tr>\n",
       "    <tr>\n",
       "      <th>3</th>\n",
       "      <td>167791</td>\n",
       "      <td>Terraforming Mars</td>\n",
       "      <td>2016</td>\n",
       "      <td>4</td>\n",
       "      <td>8.40</td>\n",
       "      <td>8.246</td>\n",
       "      <td>40413</td>\n",
       "      <td>/boardgame/167791/terraforming-mars</td>\n",
       "      <td>https://cf.geekdo-images.com/micro/img/71v8jF5...</td>\n",
       "    </tr>\n",
       "    <tr>\n",
       "      <th>4</th>\n",
       "      <td>12333</td>\n",
       "      <td>Twilight Struggle</td>\n",
       "      <td>2005</td>\n",
       "      <td>5</td>\n",
       "      <td>8.32</td>\n",
       "      <td>8.171</td>\n",
       "      <td>34849</td>\n",
       "      <td>/boardgame/12333/twilight-struggle</td>\n",
       "      <td>https://cf.geekdo-images.com/micro/img/uStZr7_...</td>\n",
       "    </tr>\n",
       "  </tbody>\n",
       "</table>\n",
       "</div>"
      ],
      "text/plain": [
       "       ID                                           Name  Year  Rank  Average  \\\n",
       "0  174430                                     Gloomhaven  2017     1     8.89   \n",
       "1  161936                      Pandemic Legacy: Season 1  2015     2     8.64   \n",
       "2  182028  Through the Ages: A New Story of Civilization  2015     3     8.53   \n",
       "3  167791                              Terraforming Mars  2016     4     8.40   \n",
       "4   12333                              Twilight Struggle  2005     5     8.32   \n",
       "\n",
       "   Bayes average  Users rated  \\\n",
       "0          8.604        26069   \n",
       "1          8.485        31753   \n",
       "2          8.254        16148   \n",
       "3          8.246        40413   \n",
       "4          8.171        34849   \n",
       "\n",
       "                                                 URL  \\\n",
       "0                       /boardgame/174430/gloomhaven   \n",
       "1         /boardgame/161936/pandemic-legacy-season-1   \n",
       "2  /boardgame/182028/through-ages-new-story-civil...   \n",
       "3                /boardgame/167791/terraforming-mars   \n",
       "4                 /boardgame/12333/twilight-struggle   \n",
       "\n",
       "                                           Thumbnail  \n",
       "0  https://cf.geekdo-images.com/micro/img/8JYMPXd...  \n",
       "1  https://cf.geekdo-images.com/micro/img/KbAKyhb...  \n",
       "2  https://cf.geekdo-images.com/micro/img/APvZ_BY...  \n",
       "3  https://cf.geekdo-images.com/micro/img/71v8jF5...  \n",
       "4  https://cf.geekdo-images.com/micro/img/uStZr7_...  "
      ]
     },
     "execution_count": 12,
     "metadata": {},
     "output_type": "execute_result"
    }
   ],
   "source": [
    "df.head()"
   ]
  },
  {
   "cell_type": "code",
   "execution_count": 13,
   "metadata": {},
   "outputs": [
    {
     "data": {
      "text/plain": [
       "(17313, 9)"
      ]
     },
     "execution_count": 13,
     "metadata": {},
     "output_type": "execute_result"
    }
   ],
   "source": [
    "df.shape"
   ]
  },
  {
   "cell_type": "code",
   "execution_count": 87,
   "metadata": {},
   "outputs": [
    {
     "data": {
      "text/plain": [
       "numpy.ndarray"
      ]
     },
     "execution_count": 87,
     "metadata": {},
     "output_type": "execute_result"
    }
   ],
   "source": [
    "ids = df['ID'].values\n",
    "type(ids)"
   ]
  },
  {
   "cell_type": "code",
   "execution_count": 63,
   "metadata": {},
   "outputs": [
    {
     "data": {
      "text/plain": [
       "17313"
      ]
     },
     "execution_count": 63,
     "metadata": {},
     "output_type": "execute_result"
    }
   ],
   "source": [
    "number_of_ids = len(df['ID'].values)\n",
    "number_of_ids"
   ]
  },
  {
   "cell_type": "code",
   "execution_count": 64,
   "metadata": {},
   "outputs": [
    {
     "data": {
      "text/plain": [
       "13"
      ]
     },
     "execution_count": 64,
     "metadata": {},
     "output_type": "execute_result"
    }
   ],
   "source": [
    "batch_size=100\n",
    "remainder = number_of_ids % batch_size\n",
    "remainder"
   ]
  },
  {
   "cell_type": "code",
   "execution_count": 65,
   "metadata": {},
   "outputs": [
    {
     "data": {
      "text/plain": [
       "numpy.ndarray"
      ]
     },
     "execution_count": 65,
     "metadata": {},
     "output_type": "execute_result"
    }
   ],
   "source": [
    "ids_no_remainder = ids[:number_of_ids - remainder]\n",
    "type(ids_no_remainder)"
   ]
  },
  {
   "cell_type": "code",
   "execution_count": 66,
   "metadata": {},
   "outputs": [
    {
     "data": {
      "text/plain": [
       "17300"
      ]
     },
     "execution_count": 66,
     "metadata": {},
     "output_type": "execute_result"
    }
   ],
   "source": [
    "len(ids_no_remainder)"
   ]
  },
  {
   "cell_type": "code",
   "execution_count": 62,
   "metadata": {},
   "outputs": [
    {
     "data": {
      "text/plain": [
       "13"
      ]
     },
     "execution_count": 62,
     "metadata": {},
     "output_type": "execute_result"
    }
   ],
   "source": [
    "remaining_ids"
   ]
  },
  {
   "cell_type": "code",
   "execution_count": 77,
   "metadata": {},
   "outputs": [],
   "source": [
    "batches = ids_no_remainder.reshape(int(len(ids_no_remainder)/batch_size),batch_size)"
   ]
  },
  {
   "cell_type": "code",
   "execution_count": 78,
   "metadata": {},
   "outputs": [
    {
     "data": {
      "text/plain": [
       "173"
      ]
     },
     "execution_count": 78,
     "metadata": {},
     "output_type": "execute_result"
    }
   ],
   "source": [
    "len(batches)"
   ]
  },
  {
   "cell_type": "code",
   "execution_count": 79,
   "metadata": {},
   "outputs": [],
   "source": [
    "batches = list(batches)\n",
    "batches = [lst.tolist() for lst in batches] # converting each batch to regular list"
   ]
  },
  {
   "cell_type": "code",
   "execution_count": 80,
   "metadata": {},
   "outputs": [
    {
     "data": {
      "text/plain": [
       "list"
      ]
     },
     "execution_count": 80,
     "metadata": {},
     "output_type": "execute_result"
    }
   ],
   "source": [
    "type(batches[0])"
   ]
  },
  {
   "cell_type": "code",
   "execution_count": 83,
   "metadata": {},
   "outputs": [
    {
     "data": {
      "text/plain": [
       "[10799,\n",
       " 7682,\n",
       " 2679,\n",
       " 3737,\n",
       " 1406,\n",
       " 1410,\n",
       " 2921,\n",
       " 3522,\n",
       " 16398,\n",
       " 7316,\n",
       " 5048,\n",
       " 5432,\n",
       " 11901]"
      ]
     },
     "execution_count": 83,
     "metadata": {},
     "output_type": "execute_result"
    }
   ],
   "source": [
    "list(ids[len(ids_no_remainder):])"
   ]
  },
  {
   "cell_type": "code",
   "execution_count": 24,
   "metadata": {},
   "outputs": [
    {
     "data": {
      "text/plain": [
       "173"
      ]
     },
     "execution_count": 24,
     "metadata": {},
     "output_type": "execute_result"
    }
   ],
   "source": [
    "flatArray = df['ID'].values[:17300]\n",
    "batchArray = flatArray.reshape(int(17300/100), 100)\n",
    "lstArray = list(batchArray)\n",
    "lstArray = [lst.tolist() for lst in lstArray]\n",
    "len(lstArray)\n"
   ]
  },
  {
   "cell_type": "code",
   "execution_count": 25,
   "metadata": {},
   "outputs": [
    {
     "name": "stdout",
     "output_type": "stream",
     "text": [
      "0\n",
      "1\n",
      "2\n",
      "3\n",
      "4\n",
      "5\n",
      "6\n",
      "7\n",
      "8\n",
      "9\n",
      "10\n",
      "11\n",
      "12\n",
      "13\n",
      "14\n",
      "15\n",
      "16\n",
      "17\n",
      "18\n",
      "19\n",
      "20\n",
      "21\n",
      "22\n",
      "23\n",
      "24\n",
      "25\n",
      "26\n",
      "27\n",
      "28\n",
      "29\n",
      "30\n",
      "31\n",
      "32\n",
      "33\n",
      "34\n",
      "35\n",
      "36\n",
      "37\n",
      "38\n",
      "39\n",
      "40\n",
      "41\n",
      "42\n",
      "43\n",
      "44\n",
      "45\n",
      "46\n",
      "47\n",
      "48\n",
      "49\n",
      "50\n",
      "51\n",
      "52\n",
      "53\n",
      "54\n",
      "55\n",
      "56\n",
      "57\n",
      "58\n",
      "59\n",
      "60\n",
      "61\n",
      "62\n",
      "63\n",
      "64\n",
      "65\n",
      "66\n",
      "67\n",
      "68\n",
      "69\n",
      "70\n",
      "71\n",
      "72\n",
      "73\n",
      "74\n",
      "75\n",
      "76\n",
      "77\n",
      "78\n",
      "79\n",
      "80\n",
      "81\n",
      "82\n",
      "83\n",
      "84\n",
      "85\n",
      "86\n",
      "87\n",
      "88\n",
      "89\n",
      "90\n",
      "91\n",
      "92\n",
      "93\n",
      "94\n",
      "95\n",
      "96\n",
      "97\n",
      "98\n",
      "99\n",
      "100\n",
      "101\n",
      "102\n",
      "103\n",
      "104\n",
      "105\n",
      "106\n",
      "107\n",
      "108\n",
      "109\n",
      "110\n",
      "111\n",
      "112\n",
      "113\n",
      "114\n",
      "115\n",
      "116\n",
      "117\n",
      "118\n",
      "119\n",
      "120\n",
      "121\n",
      "122\n",
      "123\n",
      "124\n",
      "125\n",
      "126\n",
      "127\n",
      "128\n",
      "129\n",
      "130\n",
      "131\n",
      "132\n",
      "133\n",
      "134\n",
      "135\n",
      "136\n",
      "137\n",
      "138\n",
      "139\n",
      "140\n",
      "141\n",
      "142\n",
      "143\n",
      "144\n",
      "145\n",
      "146\n",
      "147\n",
      "148\n",
      "149\n",
      "150\n",
      "151\n",
      "152\n",
      "153\n",
      "154\n",
      "155\n",
      "156\n",
      "157\n",
      "158\n",
      "159\n",
      "160\n",
      "161\n",
      "162\n",
      "163\n",
      "164\n",
      "165\n",
      "166\n",
      "167\n",
      "168\n",
      "169\n",
      "170\n",
      "171\n",
      "172\n"
     ]
    }
   ],
   "source": [
    "batch = 0\n",
    "gameDump = []\n",
    "for lst in lstArray:\n",
    "        print(batch)\n",
    "        batch += 1\n",
    "        try:\n",
    "            games = bgg.game_list(lst)\n",
    "            gameDump.extend(games)\n",
    "        except BGGApiError:\n",
    "            continue"
   ]
  },
  {
   "cell_type": "code",
   "execution_count": 26,
   "metadata": {},
   "outputs": [
    {
     "data": {
      "text/plain": [
       "17298"
      ]
     },
     "execution_count": 26,
     "metadata": {},
     "output_type": "execute_result"
    }
   ],
   "source": [
    "len(gameDump)"
   ]
  },
  {
   "cell_type": "code",
   "execution_count": 27,
   "metadata": {},
   "outputs": [],
   "source": [
    "dict_games = []"
   ]
  },
  {
   "cell_type": "code",
   "execution_count": 31,
   "metadata": {},
   "outputs": [],
   "source": [
    "def convert_game_to_json(game):\n",
    "    dict_game = {}\n",
    "    dict_game['id'] = game.id\n",
    "    dict_game['name'] = game.name\n",
    "    dict_game['stats'] = game.stats\n",
    "    dict_game['image'] = game.image\n",
    "    dict_game['thumbnail'] = game.thumbnail\n",
    "    dict_game['artists'] = game.artists\n",
    "    dict_game['designers'] = game.designers\n",
    "    dict_game['year'] = game.year\n",
    "    dict_game['description'] = game.description\n",
    "    dict_game['categories'] = game.categories\n",
    "    dict_game['mechanics'] = game.mechanics\n",
    "    dict_game['min_age'] = game.min_age\n",
    "    dict_game['publishers'] = game.publishers\n",
    "\n",
    "    return dict_game"
   ]
  },
  {
   "cell_type": "code",
   "execution_count": 32,
   "metadata": {},
   "outputs": [
    {
     "data": {
      "text/plain": [
       "BoardGame (id: 174430)"
      ]
     },
     "execution_count": 32,
     "metadata": {},
     "output_type": "execute_result"
    }
   ],
   "source": [
    "gameDump[0]"
   ]
  },
  {
   "cell_type": "code",
   "execution_count": 34,
   "metadata": {},
   "outputs": [],
   "source": [
    "for game in gameDump:\n",
    "    dict_games.append(convert_game_to_json(game))"
   ]
  },
  {
   "cell_type": "code",
   "execution_count": 37,
   "metadata": {},
   "outputs": [],
   "source": [
    "with open('games.json', 'w') as fp:\n",
    "    json.dump(dict_games, fp)"
   ]
  },
  {
   "cell_type": "code",
   "execution_count": 84,
   "metadata": {},
   "outputs": [],
   "source": [
    "# dict_games"
   ]
  },
  {
   "cell_type": "code",
   "execution_count": 85,
   "metadata": {},
   "outputs": [
    {
     "data": {
      "text/plain": [
       "BoardGame (id: 10799)"
      ]
     },
     "execution_count": 85,
     "metadata": {},
     "output_type": "execute_result"
    }
   ],
   "source": [
    "bgg.game(game_id=10799)\n"
   ]
  },
  {
   "cell_type": "code",
   "execution_count": 33,
   "metadata": {},
   "outputs": [
    {
     "data": {
      "text/plain": [
       "{'id': 174430,\n",
       " 'name': 'Gloomhaven',\n",
       " 'stats': {'usersrated': 34804,\n",
       "  'average': 8.83217,\n",
       "  'bayesaverage': 8.57594,\n",
       "  'stddev': 1.60784,\n",
       "  'median': 0.0,\n",
       "  'owned': 55958,\n",
       "  'trading': 346,\n",
       "  'wanting': 1416,\n",
       "  'wishing': 14635,\n",
       "  'numcomments': 6541,\n",
       "  'numweights': 1493,\n",
       "  'averageweight': 3.8245,\n",
       "  'ranks': [{'id': '1',\n",
       "    'name': 'boardgame',\n",
       "    'friendlyname': 'Board Game Rank',\n",
       "    'value': 1},\n",
       "   {'id': '5496',\n",
       "    'name': 'thematic',\n",
       "    'friendlyname': 'Thematic Rank',\n",
       "    'value': 1},\n",
       "   {'id': '5497',\n",
       "    'name': 'strategygames',\n",
       "    'friendlyname': 'Strategy Game Rank',\n",
       "    'value': 1}]},\n",
       " 'image': 'https://cf.geekdo-images.com/original/img/lDN358RgcYvQfYYN6Oy2TXpifyM=/0x0/pic2437871.jpg',\n",
       " 'thumbnail': 'https://cf.geekdo-images.com/thumb/img/e7GyV4PaNtwmalU-EQAGecwoBSI=/fit-in/200x150/pic2437871.jpg',\n",
       " 'artists': ['Alexandr Elichev', 'Josh T. McDowell', 'Alvaro Nebot'],\n",
       " 'designers': ['Isaac Childres'],\n",
       " 'year': 2017,\n",
       " 'description': 'Gloomhaven  is a game of Euro-inspired tactical combat in a persistent world of shifting motives. Players will take on the role of a wandering adventurer with their own special set of skills and their own reasons for traveling to this dark corner of the world. Players must work together out of necessity to clear out menacing dungeons and forgotten ruins. In the process, they will enhance their abilities with experience and loot, discover new locations to explore and plunder, and expand an ever-branching story fueled by the decisions they make.\\n\\nThis is a game with a persistent and changing world that is ideally played over many game sessions. After a scenario, players will make decisions on what to do, which will determine how the story continues, kind of like a “Choose Your Own Adventure” book. Playing through a scenario is a cooperative affair where players will fight against automated monsters using an innovative card system to determine the order of play and what a player does on their turn.\\n\\nEach turn, a player chooses two cards to play out of their hand. The number on the top card determines their initiative for the round. Each card also has a top and bottom power, and when it is a player’s turn in the initiative order, they determine whether to use the top power of one card and the bottom power of the other, or vice-versa. Players must be careful, though, because over time they will permanently lose cards from their hands. If they take too long to clear a dungeon, they may end up exhausted and be forced to retreat.\\n\\n',\n",
       " 'categories': ['Adventure',\n",
       "  'Exploration',\n",
       "  'Fantasy',\n",
       "  'Fighting',\n",
       "  'Miniatures'],\n",
       " 'mechanics': ['Action Retrieval',\n",
       "  'Campaign / Battle Card Driven',\n",
       "  'Communication Limits',\n",
       "  'Cooperative Game',\n",
       "  'Grid Movement',\n",
       "  'Hand Management',\n",
       "  'Legacy Game',\n",
       "  'Modular Board',\n",
       "  'Once-Per-Game Abilities',\n",
       "  'Role Playing',\n",
       "  'Scenario / Mission / Campaign Game',\n",
       "  'Simultaneous Action Selection',\n",
       "  'Solo / Solitaire Game',\n",
       "  'Storytelling',\n",
       "  'Variable Player Powers'],\n",
       " 'min_age': 12,\n",
       " 'publishers': ['Cephalofair Games',\n",
       "  'Albi',\n",
       "  'Asmodee',\n",
       "  'Feuerland Spiele',\n",
       "  'Galápagos Jogos',\n",
       "  'Games Warehouse',\n",
       "  'Gém Klub Kft.',\n",
       "  'Hobby World',\n",
       "  'Korea Boardgames co., Ltd.',\n",
       "  'MYBG Co., Ltd.']}"
      ]
     },
     "execution_count": 33,
     "metadata": {},
     "output_type": "execute_result"
    }
   ],
   "source": [
    "convert_game_to_json(gameDump[0])"
   ]
  },
  {
   "cell_type": "code",
   "execution_count": 86,
   "metadata": {},
   "outputs": [],
   "source": [
    "import yaml"
   ]
  },
  {
   "cell_type": "code",
   "execution_count": 65,
   "metadata": {},
   "outputs": [],
   "source": [
    "with open('mypickle.pkl', 'wb') as f:\n",
    "    pickle.dump(gameDump, f)"
   ]
  },
  {
   "cell_type": "code",
   "execution_count": null,
   "metadata": {},
   "outputs": [],
   "source": [
    "# remainder_ids_successful = 0\n",
    "    # remainder_ids_failed = 0\n",
    "    # for id in remainder_ids:\n",
    "    #     try:\n",
    "    #         game = bgg.game(game_id=id)\n",
    "    #         logger.debug(f\"Successfully fetched remainder game with id {id}\")\n",
    "    #         remainder_ids_successful += 1\n",
    "    #         games.append(game)\n",
    "    #     except BGGApiError:\n",
    "    #         logger.debug(f\"Failed to fetch remainer game with id {id}\")\n",
    "    #         remainder_ids_successful += 1\n",
    "\n",
    "    # if remainder_ids_successful != 0:\n",
    "    #     logging.info(f\"Successfully fetched {remainder_ids_successful} remainder games\")\n",
    "    # if remainder_ids_failed != 0:\n",
    "    #     logging.info(f\"Failed to fetch {remainder_ids_failed} remainder games\")"
   ]
  }
 ],
 "metadata": {
  "kernelspec": {
   "display_name": "msia423",
   "language": "python",
   "name": "msia423"
  },
  "language_info": {
   "codemirror_mode": {
    "name": "ipython",
    "version": 3
   },
   "file_extension": ".py",
   "mimetype": "text/x-python",
   "name": "python",
   "nbconvert_exporter": "python",
   "pygments_lexer": "ipython3",
   "version": "3.8.2"
  }
 },
 "nbformat": 4,
 "nbformat_minor": 4
}
