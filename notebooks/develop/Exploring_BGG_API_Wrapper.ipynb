{
 "cells": [
  {
   "cell_type": "code",
   "execution_count": null,
   "metadata": {},
   "outputs": [],
   "source": [
    "# Installation\n",
    "# !pip uninstall boardgamegeek # Need to make sure this is not installed\n",
    "# !pip install boardgamegeek2"
   ]
  },
  {
   "cell_type": "code",
   "execution_count": null,
   "metadata": {},
   "outputs": [],
   "source": [
    "# Documentation: https://lcosmin.github.io/boardgamegeek/#quick-install\n",
    "# This package serves as a wrapper for Boardgamegeek's official XML API.\n",
    "# It is based on a previous package called libBGG"
   ]
  },
  {
   "cell_type": "code",
   "execution_count": null,
   "metadata": {},
   "outputs": [],
   "source": [
    "# Source Code \n",
    "# https://lcosmin.github.io/boardgamegeek/_modules/boardgamegeek/objects/games.html#BoardGame"
   ]
  },
  {
   "cell_type": "code",
   "execution_count": null,
   "metadata": {},
   "outputs": [],
   "source": [
    "# General recommendation for number of calls to API: \"call the API it is 100 games per call each 5 second. So 980 x 5 is 4900 second. About 2 hours\""
   ]
  },
  {
   "cell_type": "markdown",
   "metadata": {},
   "source": [
    "### CONTENTS:\n",
    "0. Import & Setup of API CLient\n",
    "1. Retrieving data for a single game\n",
    "2. Retrieving Hot Items data\n",
    "3. Searching the website\n",
    "4. Retrieving data for multiple games with a single call\n"
   ]
  },
  {
   "cell_type": "markdown",
   "metadata": {},
   "source": [
    "## 0. Import & Setup API Client"
   ]
  },
  {
   "cell_type": "code",
   "execution_count": 2,
   "metadata": {},
   "outputs": [],
   "source": [
    "from boardgamegeek import BGGClient"
   ]
  },
  {
   "cell_type": "code",
   "execution_count": 3,
   "metadata": {},
   "outputs": [],
   "source": [
    "# Create a client for the API\n",
    "bgg = BGGClient()"
   ]
  },
  {
   "cell_type": "code",
   "execution_count": 48,
   "metadata": {},
   "outputs": [],
   "source": [
    "# Default values for client: \n",
    "# BGGClient(cache=<boardgamegeek.cache.CacheBackendMemory object>, timeout=15, retries=3, retry_delay=5, disable_ssl=False, requests_per_minute=30)"
   ]
  },
  {
   "cell_type": "markdown",
   "metadata": {},
   "source": [
    "## 1. Single Game Object"
   ]
  },
  {
   "cell_type": "code",
   "execution_count": 10,
   "metadata": {},
   "outputs": [
    {
     "data": {
      "text/plain": [
       "BoardGame (id: 295770)"
      ]
     },
     "execution_count": 10,
     "metadata": {},
     "output_type": "execute_result"
    }
   ],
   "source": [
    "# Retrieve game by name\n",
    "g = bgg.game(\"Frosthaven\")\n",
    "g"
   ]
  },
  {
   "cell_type": "code",
   "execution_count": 12,
   "metadata": {},
   "outputs": [
    {
     "data": {
      "text/plain": [
       "BoardGame (id: 295770)"
      ]
     },
     "execution_count": 12,
     "metadata": {},
     "output_type": "execute_result"
    }
   ],
   "source": [
    "# Retrieve game by game_id\n",
    "g = bgg.game(game_id=\"295770\")\n",
    "g"
   ]
  },
  {
   "cell_type": "markdown",
   "metadata": {},
   "source": [
    "### Accessing Data from Single Game Object"
   ]
  },
  {
   "cell_type": "code",
   "execution_count": 6,
   "metadata": {},
   "outputs": [
    {
     "data": {
      "text/plain": [
       "295770"
      ]
     },
     "execution_count": 6,
     "metadata": {},
     "output_type": "execute_result"
    }
   ],
   "source": [
    "g.id"
   ]
  },
  {
   "cell_type": "code",
   "execution_count": 29,
   "metadata": {},
   "outputs": [
    {
     "data": {
      "text/plain": [
       "'Frosthaven'"
      ]
     },
     "execution_count": 29,
     "metadata": {},
     "output_type": "execute_result"
    }
   ],
   "source": [
    "g.name"
   ]
  },
  {
   "cell_type": "code",
   "execution_count": 136,
   "metadata": {},
   "outputs": [
    {
     "data": {
      "text/plain": [
       "{'usersrated': 289,\n",
       " 'average': 6.80974,\n",
       " 'bayesaverage': 5.65038,\n",
       " 'stddev': 3.85395,\n",
       " 'median': 0.0,\n",
       " 'owned': 294,\n",
       " 'trading': 2,\n",
       " 'wanting': 96,\n",
       " 'wishing': 2108,\n",
       " 'numcomments': 263,\n",
       " 'numweights': 27,\n",
       " 'averageweight': 3.4444,\n",
       " 'ranks': [{'id': '1',\n",
       "   'name': 'boardgame',\n",
       "   'friendlyname': 'Board Game Rank',\n",
       "   'value': 5439},\n",
       "  {'id': '5497',\n",
       "   'name': 'strategygames',\n",
       "   'friendlyname': 'Strategy Game Rank',\n",
       "   'value': 1672}]}"
      ]
     },
     "execution_count": 136,
     "metadata": {},
     "output_type": "execute_result"
    }
   ],
   "source": [
    "g.stats"
   ]
  },
  {
   "cell_type": "code",
   "execution_count": 143,
   "metadata": {},
   "outputs": [
    {
     "name": "stdout",
     "output_type": "stream",
     "text": [
      "Board Game Rank 5439\n"
     ]
    }
   ],
   "source": [
    "print(f\"{g.stats['ranks'][0]['friendlyname']} {g.stats['ranks'][0]['value']}\")"
   ]
  },
  {
   "cell_type": "code",
   "execution_count": 144,
   "metadata": {},
   "outputs": [
    {
     "name": "stdout",
     "output_type": "stream",
     "text": [
      "Strategy Game Rank 1672\n"
     ]
    }
   ],
   "source": [
    "print(f\"{g.stats['ranks'][1]['friendlyname']} {g.stats['ranks'][1]['value']}\")"
   ]
  },
  {
   "cell_type": "code",
   "execution_count": 145,
   "metadata": {},
   "outputs": [
    {
     "data": {
      "text/plain": [
       "5439"
      ]
     },
     "execution_count": 145,
     "metadata": {},
     "output_type": "execute_result"
    }
   ],
   "source": [
    "g.bgg_rank"
   ]
  },
  {
   "cell_type": "code",
   "execution_count": 146,
   "metadata": {},
   "outputs": [
    {
     "data": {
      "text/plain": [
       "5439"
      ]
     },
     "execution_count": 146,
     "metadata": {},
     "output_type": "execute_result"
    }
   ],
   "source": [
    "g.boardgame_rank"
   ]
  },
  {
   "cell_type": "code",
   "execution_count": 147,
   "metadata": {},
   "outputs": [
    {
     "data": {
      "text/plain": [
       "'https://cf.geekdo-images.com/original/img/wPYpV_ug_671ykx_tGTJcwHPaE0=/0x0/pic5092291.png'"
      ]
     },
     "execution_count": 147,
     "metadata": {},
     "output_type": "execute_result"
    }
   ],
   "source": [
    "g.image"
   ]
  },
  {
   "cell_type": "code",
   "execution_count": 148,
   "metadata": {},
   "outputs": [
    {
     "data": {
      "text/plain": [
       "'https://cf.geekdo-images.com/thumb/img/P1hbRu9Lc3dMVS9xbLx7Z3zovEE=/fit-in/200x150/pic5092291.png'"
      ]
     },
     "execution_count": 148,
     "metadata": {},
     "output_type": "execute_result"
    }
   ],
   "source": [
    "g.thumbnail"
   ]
  },
  {
   "cell_type": "code",
   "execution_count": 14,
   "metadata": {},
   "outputs": [
    {
     "data": {
      "text/plain": [
       "['David Demaret', 'Alexandr Elichev', 'Josh T. McDowell']"
      ]
     },
     "execution_count": 14,
     "metadata": {},
     "output_type": "execute_result"
    }
   ],
   "source": [
    "g.artists"
   ]
  },
  {
   "cell_type": "code",
   "execution_count": 15,
   "metadata": {},
   "outputs": [
    {
     "data": {
      "text/plain": [
       "['Isaac Childres']"
      ]
     },
     "execution_count": 15,
     "metadata": {},
     "output_type": "execute_result"
    }
   ],
   "source": [
    "g.designers"
   ]
  },
  {
   "cell_type": "code",
   "execution_count": 72,
   "metadata": {},
   "outputs": [
    {
     "data": {
      "text/plain": [
       "2021"
      ]
     },
     "execution_count": 72,
     "metadata": {},
     "output_type": "execute_result"
    }
   ],
   "source": [
    "g.year"
   ]
  },
  {
   "cell_type": "code",
   "execution_count": 17,
   "metadata": {},
   "outputs": [
    {
     "name": "stdout",
     "output_type": "stream",
     "text": [
      "Frosthaven is the story of a small outpost far to the north of the capital city of White Oak, an outpost barely surviving the harsh weather as well as invasions from forces both known and unknown. There, a group of mercenaries at the end of their rope will help bring back this settlement from the edge of destruction.\n",
      "\n",
      "Not only will they have to deal with the harsh elements, but there are other, far more dangerous threats out in the unforgiving cold as well. There are Algox, the bigger, more yeti-like cousins of the Inox, attacking from the mountains; Lurkers flooding in from the northern sea; and rumors of machines that wander the frozen wastes of their own free will. The party of mercenaries must face all of these perils, and perhaps in doing so, make peace with these new races so they can work together against even more sinister forces.\n",
      "\n",
      "Frosthaven is a standalone adventure from the designer and publisher of Gloomhaven that features sixteen new characters, three new races, more than twenty new enemies, more than one hundred new items, and a new, 100-scenario campaign.\n",
      "\n",
      "In addition to having the well-known combat mechanisms of Gloomhaven, Frosthaven will feature much more to do outside of combat, such as numerous mysteries to solve, a seasonal event system to live through, and player control over how this ramshackle village expands, with each new building offering new ways to progress.\n",
      "\n",
      "Characters and items from Gloomhaven will be usable in Frosthaven, and vice versa:\n",
      "\n",
      "As revealed during PAX 2020, Frosthaven will be interchangeable with the original Gloomhaven board game. To an extent, anyway. Namely, you can use Gloomhaven's characters in Frosthaven and vice versa. What's more, some of the first game's items will become available throughout the sequel.\n",
      "\n",
      "Frosthaven has a whole new set of items but there is a mechanic for bringing items over from 'Gloomhaven'. However, as it is a remote location, these products get imported and are not there as standard. Resources are much more valuable and you have to build items through a crafting system rather than just buy them.\n",
      "\n",
      "—description from the publisher\n",
      "\n",
      "\n"
     ]
    }
   ],
   "source": [
    "print(g.description)"
   ]
  },
  {
   "cell_type": "code",
   "execution_count": 71,
   "metadata": {},
   "outputs": [
    {
     "data": {
      "text/plain": [
       "[]"
      ]
     },
     "execution_count": 71,
     "metadata": {},
     "output_type": "execute_result"
    }
   ],
   "source": [
    "g.expands # Return type: list of boardgamegeek.things.Thing # Docs: https://lcosmin.github.io/boardgamegeek/modules.html#module-boardgamegeek.things"
   ]
  },
  {
   "cell_type": "code",
   "execution_count": 19,
   "metadata": {},
   "outputs": [
    {
     "data": {
      "text/plain": [
       "False"
      ]
     },
     "execution_count": 19,
     "metadata": {},
     "output_type": "execute_result"
    }
   ],
   "source": [
    "g.accessory"
   ]
  },
  {
   "cell_type": "code",
   "execution_count": 20,
   "metadata": {},
   "outputs": [
    {
     "data": {
      "text/plain": [
       "False"
      ]
     },
     "execution_count": 20,
     "metadata": {},
     "output_type": "execute_result"
    }
   ],
   "source": [
    "g.expansion"
   ]
  },
  {
   "cell_type": "code",
   "execution_count": 23,
   "metadata": {},
   "outputs": [
    {
     "data": {
      "text/plain": [
       "[Thing (id: 306151)]"
      ]
     },
     "execution_count": 23,
     "metadata": {},
     "output_type": "execute_result"
    }
   ],
   "source": [
    "g.expansions"
   ]
  },
  {
   "cell_type": "code",
   "execution_count": 30,
   "metadata": {},
   "outputs": [
    {
     "data": {
      "text/plain": [
       "'Frosthaven: Solo Scenarios'"
      ]
     },
     "execution_count": 30,
     "metadata": {},
     "output_type": "execute_result"
    }
   ],
   "source": [
    "# Checking what the expansion for this game is\n",
    "bgg.game(game_id=g.expansions[0].id).name"
   ]
  },
  {
   "cell_type": "code",
   "execution_count": 31,
   "metadata": {},
   "outputs": [
    {
     "data": {
      "text/plain": [
       "['Admin: Unreleased Games',\n",
       " 'Campaign Games',\n",
       " 'Crowdfunding: Kickstarter',\n",
       " 'Dungeon Crawler',\n",
       " 'Gloomhaven Universe']"
      ]
     },
     "execution_count": 31,
     "metadata": {},
     "output_type": "execute_result"
    }
   ],
   "source": [
    "g.families"
   ]
  },
  {
   "cell_type": "code",
   "execution_count": 49,
   "metadata": {},
   "outputs": [
    {
     "data": {
      "text/plain": [
       "['Adventure', 'Exploration', 'Fantasy', 'Fighting', 'Miniatures']"
      ]
     },
     "execution_count": 49,
     "metadata": {},
     "output_type": "execute_result"
    }
   ],
   "source": [
    "g.categories"
   ]
  },
  {
   "cell_type": "code",
   "execution_count": 33,
   "metadata": {},
   "outputs": [
    {
     "data": {
      "text/plain": [
       "['Campaign / Battle Card Driven',\n",
       " 'Cooperative Game',\n",
       " 'Grid Movement',\n",
       " 'Hand Management',\n",
       " 'Legacy Game',\n",
       " 'Modular Board',\n",
       " 'Role Playing',\n",
       " 'Scenario / Mission / Campaign Game',\n",
       " 'Simultaneous Action Selection',\n",
       " 'Storytelling',\n",
       " 'Variable Player Powers']"
      ]
     },
     "execution_count": 33,
     "metadata": {},
     "output_type": "execute_result"
    }
   ],
   "source": [
    "g.mechanics"
   ]
  },
  {
   "cell_type": "code",
   "execution_count": 34,
   "metadata": {},
   "outputs": [
    {
     "data": {
      "text/plain": [
       "14"
      ]
     },
     "execution_count": 34,
     "metadata": {},
     "output_type": "execute_result"
    }
   ],
   "source": [
    "g.min_age"
   ]
  },
  {
   "cell_type": "code",
   "execution_count": 53,
   "metadata": {},
   "outputs": [
    {
     "data": {
      "text/plain": [
       "['Cephalofair Games', 'Albi', 'Feuerland Spiele']"
      ]
     },
     "execution_count": 53,
     "metadata": {},
     "output_type": "execute_result"
    }
   ],
   "source": [
    "g.publishers"
   ]
  },
  {
   "cell_type": "code",
   "execution_count": 55,
   "metadata": {},
   "outputs": [
    {
     "data": {
      "text/plain": [
       "3.4444"
      ]
     },
     "execution_count": 55,
     "metadata": {},
     "output_type": "execute_result"
    }
   ],
   "source": [
    "# Proxy for how complicated a game is to learn to play on a scale of 1 to 5\n",
    "g.rating_average_weight"
   ]
  },
  {
   "cell_type": "code",
   "execution_count": 54,
   "metadata": {},
   "outputs": [
    {
     "data": {
      "text/plain": [
       "27"
      ]
     },
     "execution_count": 54,
     "metadata": {},
     "output_type": "execute_result"
    }
   ],
   "source": [
    "# Number of ratings that define the weight avg. for complexity\n",
    "g.rating_num_weights"
   ]
  },
  {
   "cell_type": "code",
   "execution_count": 59,
   "metadata": {},
   "outputs": [
    {
     "data": {
      "text/plain": [
       "6.80974"
      ]
     },
     "execution_count": 59,
     "metadata": {},
     "output_type": "execute_result"
    }
   ],
   "source": [
    "# Main game rating\n",
    "g.rating_average"
   ]
  },
  {
   "cell_type": "code",
   "execution_count": 64,
   "metadata": {},
   "outputs": [
    {
     "data": {
      "text/plain": [
       "289"
      ]
     },
     "execution_count": 64,
     "metadata": {},
     "output_type": "execute_result"
    }
   ],
   "source": [
    "# Number of users who rated the game and define the average rating above\n",
    "g.users_rated"
   ]
  },
  {
   "cell_type": "code",
   "execution_count": 65,
   "metadata": {},
   "outputs": [
    {
     "data": {
      "text/plain": [
       "3.85395"
      ]
     },
     "execution_count": 65,
     "metadata": {},
     "output_type": "execute_result"
    }
   ],
   "source": [
    "g.rating_stddev"
   ]
  },
  {
   "cell_type": "code",
   "execution_count": 63,
   "metadata": {},
   "outputs": [
    {
     "data": {
      "text/plain": [
       "5.65038"
      ]
     },
     "execution_count": 63,
     "metadata": {},
     "output_type": "execute_result"
    }
   ],
   "source": [
    "g.rating_bayes_average"
   ]
  },
  {
   "cell_type": "code",
   "execution_count": 69,
   "metadata": {},
   "outputs": [],
   "source": [
    "# The below are other attributes, which are either irrelevant or return nothing useful.\n",
    "g.users_owned\n",
    "\n",
    "g.versions\n",
    "\n",
    "g.alternative_names\n",
    "\n",
    "g.videos\n",
    "\n",
    "g.users_commented # Returns None\n",
    "\n",
    "g.rating_median\n",
    "\n",
    "g.implementations\n",
    "\n",
    "g.users_wishing # Returns None\n",
    "\n",
    "g.player_suggestions\n",
    "\n",
    "type(g.player_suggestions[0])\n",
    "\n",
    "for sugg in g.player_suggestions:\n",
    "    print(sugg.numeric_player_count)"
   ]
  },
  {
   "cell_type": "markdown",
   "metadata": {},
   "source": [
    "## 2. Hot_Items"
   ]
  },
  {
   "cell_type": "markdown",
   "metadata": {},
   "source": [
    "Docs: https://lcosmin.github.io/boardgamegeek/modules.html#module-boardgamegeek.hotitems"
   ]
  },
  {
   "cell_type": "code",
   "execution_count": 74,
   "metadata": {},
   "outputs": [],
   "source": [
    "hot = bgg.hot_items(\"boardgame\")"
   ]
  },
  {
   "cell_type": "code",
   "execution_count": 117,
   "metadata": {},
   "outputs": [
    {
     "data": {
      "text/plain": [
       "[HotItem (id: 274056),\n",
       " HotItem (id: 169649),\n",
       " HotItem (id: 282493),\n",
       " HotItem (id: 266192),\n",
       " HotItem (id: 174430),\n",
       " HotItem (id: 167791)]"
      ]
     },
     "execution_count": 117,
     "metadata": {},
     "output_type": "execute_result"
    }
   ],
   "source": [
    "hot.items[:6]"
   ]
  },
  {
   "cell_type": "code",
   "execution_count": 77,
   "metadata": {},
   "outputs": [
    {
     "name": "stdout",
     "output_type": "stream",
     "text": [
      "HEL: The Last Saga\n",
      "Sapiens\n",
      "TINYforming Mars\n",
      "Wingspan\n",
      "Gloomhaven\n",
      "Terraforming Mars\n",
      "Nemesis\n",
      "Spirit Island\n",
      "Arkham Horror: The Card Game\n",
      "Mercado de Lisboa\n",
      "Everdell\n",
      "Traintopia\n",
      "The Crew: The Quest for Planet Nine\n",
      "Marvel Champions: The Card Game\n",
      "Maracaibo\n",
      "Gaia Project\n",
      "Scythe\n",
      "Root\n",
      "Brass: Birmingham\n",
      "The Lord of the Rings: Journeys in Middle-earth\n",
      "Concordia\n",
      "Great Western Trail\n",
      "Mage Knight Board Game\n",
      "The 7th Continent\n",
      "Azul\n",
      "Terra Mystica\n",
      "Through the Ages: A New Story of Civilization\n",
      "The Castles of Burgundy\n",
      "Cartographers: A Roll Player Tale\n",
      "Tapestry\n",
      "Kingdom Death: Monster\n",
      "Bargain Basement Bathysphere\n",
      "Too Many Bones\n",
      "The Quacks of Quedlinburg\n",
      "Viticulture Essential Edition\n",
      "Paladins of the West Kingdom\n",
      "Carcassonne\n",
      "A Feast for Odin\n",
      "Robinson Crusoe: Adventures on the Cursed Island\n",
      "Clans of Caledonia\n",
      "7 Wonders Duel\n",
      "Assault of the Giants\n",
      "Tainted Grail: The Fall of Avalon\n",
      "Architects of the West Kingdom\n",
      "War of the Ring: Second Edition\n",
      "Kemet: Blood and Sand\n",
      "Star Wars: Rebellion\n",
      "Twilight Struggle\n",
      "Blood Rage\n",
      "Twilight Imperium (Fourth Edition)\n"
     ]
    }
   ],
   "source": [
    "for item in hot:\n",
    "    print(bgg.game(game_id=item.id).name)"
   ]
  },
  {
   "cell_type": "code",
   "execution_count": 118,
   "metadata": {},
   "outputs": [
    {
     "data": {
      "text/plain": [
       "['HEL: The Last Saga',\n",
       " 'Sapiens',\n",
       " 'TINYforming Mars',\n",
       " 'Wingspan',\n",
       " 'Gloomhaven',\n",
       " 'Terraforming Mars']"
      ]
     },
     "execution_count": 118,
     "metadata": {},
     "output_type": "execute_result"
    }
   ],
   "source": [
    "hot_names = [game.name for game in hot]\n",
    "hot_names[:6]"
   ]
  },
  {
   "cell_type": "code",
   "execution_count": 119,
   "metadata": {},
   "outputs": [
    {
     "data": {
      "text/plain": [
       "[274056, 169649, 282493, 266192, 174430, 167791]"
      ]
     },
     "execution_count": 119,
     "metadata": {},
     "output_type": "execute_result"
    }
   ],
   "source": [
    "hot_ids = [game.id for game in hot]\n",
    "hot_ids[:6]"
   ]
  },
  {
   "cell_type": "code",
   "execution_count": 150,
   "metadata": {},
   "outputs": [
    {
     "data": {
      "text/plain": [
       "50"
      ]
     },
     "execution_count": 150,
     "metadata": {},
     "output_type": "execute_result"
    }
   ],
   "source": [
    "len(hot_ids)"
   ]
  },
  {
   "cell_type": "markdown",
   "metadata": {},
   "source": [
    "## 3. Search"
   ]
  },
  {
   "cell_type": "code",
   "execution_count": 81,
   "metadata": {},
   "outputs": [
    {
     "data": {
      "text/plain": [
       "[Thing (id: 119193),\n",
       " Thing (id: 95234),\n",
       " Thing (id: 128462),\n",
       " Thing (id: 172062),\n",
       " Thing (id: 214032),\n",
       " Thing (id: 12692),\n",
       " Thing (id: 214898),\n",
       " Thing (id: 98527),\n",
       " Thing (id: 236517),\n",
       " Thing (id: 284841),\n",
       " Thing (id: 277125),\n",
       " Thing (id: 267506),\n",
       " Thing (id: 217722),\n",
       " Thing (id: 301250),\n",
       " Thing (id: 304031),\n",
       " Thing (id: 293819),\n",
       " Thing (id: 140772),\n",
       " Thing (id: 197145),\n",
       " Thing (id: 37654),\n",
       " Thing (id: 18207),\n",
       " Thing (id: 149327),\n",
       " Thing (id: 25621),\n",
       " Thing (id: 293170),\n",
       " Thing (id: 174430),\n",
       " Thing (id: 250337),\n",
       " Thing (id: 291457),\n",
       " Thing (id: 298195),\n",
       " Thing (id: 297586),\n",
       " Thing (id: 226868),\n",
       " Thing (id: 231934),\n",
       " Thing (id: 300402),\n",
       " Thing (id: 293556),\n",
       " Thing (id: 301535),\n",
       " Thing (id: 301536),\n",
       " Thing (id: 301533),\n",
       " Thing (id: 301534),\n",
       " Thing (id: 126532),\n",
       " Thing (id: 164110),\n",
       " Thing (id: 39534),\n",
       " Thing (id: 170393),\n",
       " Thing (id: 213119),\n",
       " Thing (id: 308483),\n",
       " Thing (id: 286769)]"
      ]
     },
     "execution_count": 81,
     "metadata": {},
     "output_type": "execute_result"
    }
   ],
   "source": [
    "bgg.search(\"Gloom\")"
   ]
  },
  {
   "cell_type": "markdown",
   "metadata": {},
   "source": [
    "## 4. Multiple Games Request"
   ]
  },
  {
   "cell_type": "code",
   "execution_count": 105,
   "metadata": {},
   "outputs": [],
   "source": [
    "games = bgg.game_list(hot_ids)"
   ]
  },
  {
   "cell_type": "code",
   "execution_count": 149,
   "metadata": {},
   "outputs": [
    {
     "data": {
      "text/plain": [
       "list"
      ]
     },
     "execution_count": 149,
     "metadata": {},
     "output_type": "execute_result"
    }
   ],
   "source": [
    "type(games)"
   ]
  },
  {
   "cell_type": "code",
   "execution_count": 108,
   "metadata": {},
   "outputs": [
    {
     "data": {
      "text/plain": [
       "50"
      ]
     },
     "execution_count": 108,
     "metadata": {},
     "output_type": "execute_result"
    }
   ],
   "source": [
    "len(games)"
   ]
  },
  {
   "cell_type": "code",
   "execution_count": 113,
   "metadata": {},
   "outputs": [
    {
     "data": {
      "text/plain": [
       "'Twilight Imperium (Fourth Edition)'"
      ]
     },
     "execution_count": 113,
     "metadata": {},
     "output_type": "execute_result"
    }
   ],
   "source": [
    "games[49].name"
   ]
  },
  {
   "cell_type": "code",
   "execution_count": 114,
   "metadata": {},
   "outputs": [
    {
     "data": {
      "text/plain": [
       "[]"
      ]
     },
     "execution_count": 114,
     "metadata": {},
     "output_type": "execute_result"
    }
   ],
   "source": [
    "games[49].versions"
   ]
  },
  {
   "cell_type": "markdown",
   "metadata": {},
   "source": [
    "### Including versions data"
   ]
  },
  {
   "cell_type": "code",
   "execution_count": 120,
   "metadata": {},
   "outputs": [],
   "source": [
    "games_with_versions = bgg.game_list(hot_ids, versions=True)"
   ]
  },
  {
   "cell_type": "code",
   "execution_count": 121,
   "metadata": {},
   "outputs": [
    {
     "data": {
      "text/plain": [
       "50"
      ]
     },
     "execution_count": 121,
     "metadata": {},
     "output_type": "execute_result"
    }
   ],
   "source": [
    "len(games_with_versions)"
   ]
  },
  {
   "cell_type": "code",
   "execution_count": 125,
   "metadata": {},
   "outputs": [
    {
     "data": {
      "text/plain": [
       "233078"
      ]
     },
     "execution_count": 125,
     "metadata": {},
     "output_type": "execute_result"
    }
   ],
   "source": [
    "games_with_versions[49].id"
   ]
  },
  {
   "cell_type": "code",
   "execution_count": 123,
   "metadata": {},
   "outputs": [
    {
     "data": {
      "text/plain": [
       "'Twilight Imperium (Fourth Edition)'"
      ]
     },
     "execution_count": 123,
     "metadata": {},
     "output_type": "execute_result"
    }
   ],
   "source": [
    "games_with_versions[49].name"
   ]
  },
  {
   "cell_type": "code",
   "execution_count": 124,
   "metadata": {},
   "outputs": [
    {
     "data": {
      "text/plain": [
       "[BoardGameVersion (id: 426342),\n",
       " BoardGameVersion (id: 428068),\n",
       " BoardGameVersion (id: 365218),\n",
       " BoardGameVersion (id: 369947),\n",
       " BoardGameVersion (id: 365301),\n",
       " BoardGameVersion (id: 389644),\n",
       " BoardGameVersion (id: 465225),\n",
       " BoardGameVersion (id: 366033),\n",
       " BoardGameVersion (id: 389646),\n",
       " BoardGameVersion (id: 368374),\n",
       " BoardGameVersion (id: 365664)]"
      ]
     },
     "execution_count": 124,
     "metadata": {},
     "output_type": "execute_result"
    }
   ],
   "source": [
    "games_with_versions[49].versions"
   ]
  },
  {
   "cell_type": "code",
   "execution_count": 133,
   "metadata": {},
   "outputs": [
    {
     "data": {
      "text/plain": [
       "'German edition'"
      ]
     },
     "execution_count": 133,
     "metadata": {},
     "output_type": "execute_result"
    }
   ],
   "source": [
    "games_with_versions[49].versions[4].name"
   ]
  },
  {
   "cell_type": "code",
   "execution_count": 135,
   "metadata": {},
   "outputs": [
    {
     "data": {
      "text/plain": [
       "{'usersrated': 10591,\n",
       " 'average': 8.68943,\n",
       " 'bayesaverage': 8.20345,\n",
       " 'stddev': 1.59404,\n",
       " 'median': 0.0,\n",
       " 'owned': 13276,\n",
       " 'trading': 77,\n",
       " 'wanting': 882,\n",
       " 'wishing': 6607,\n",
       " 'numcomments': 1681,\n",
       " 'numweights': 465,\n",
       " 'averageweight': 4.2172,\n",
       " 'ranks': [{'id': '1',\n",
       "   'name': 'boardgame',\n",
       "   'friendlyname': 'Board Game Rank',\n",
       "   'value': 6},\n",
       "  {'id': '5496',\n",
       "   'name': 'thematic',\n",
       "   'friendlyname': 'Thematic Rank',\n",
       "   'value': 3},\n",
       "  {'id': '5497',\n",
       "   'name': 'strategygames',\n",
       "   'friendlyname': 'Strategy Game Rank',\n",
       "   'value': 6}]}"
      ]
     },
     "execution_count": 135,
     "metadata": {},
     "output_type": "execute_result"
    }
   ],
   "source": [
    "games_with_versions[49].stats"
   ]
  },
  {
   "cell_type": "markdown",
   "metadata": {},
   "source": [
    "### Including historical data"
   ]
  },
  {
   "cell_type": "code",
   "execution_count": 134,
   "metadata": {},
   "outputs": [
    {
     "ename": "BGGError",
     "evalue": "invalid data",
     "output_type": "error",
     "traceback": [
      "\u001b[0;31m---------------------------------------------------------------------------\u001b[0m",
      "\u001b[0;31mBGGError\u001b[0m                                  Traceback (most recent call last)",
      "\u001b[0;32m<ipython-input-134-ca235e52856c>\u001b[0m in \u001b[0;36m<module>\u001b[0;34m\u001b[0m\n\u001b[0;32m----> 1\u001b[0;31m \u001b[0mgames_with_histprical\u001b[0m \u001b[0;34m=\u001b[0m \u001b[0mbgg\u001b[0m\u001b[0;34m.\u001b[0m\u001b[0mgame_list\u001b[0m\u001b[0;34m(\u001b[0m\u001b[0mhot_ids\u001b[0m\u001b[0;34m,\u001b[0m \u001b[0mhistorical\u001b[0m\u001b[0;34m=\u001b[0m\u001b[0;32mTrue\u001b[0m\u001b[0;34m)\u001b[0m\u001b[0;34m\u001b[0m\u001b[0;34m\u001b[0m\u001b[0m\n\u001b[0m",
      "\u001b[0;32m~/opt/anaconda3/envs/msia423/lib/python3.8/site-packages/boardgamegeek/api.py\u001b[0m in \u001b[0;36mgame_list\u001b[0;34m(self, game_id_list, versions, videos, historical, marketplace)\u001b[0m\n\u001b[1;32m    797\u001b[0m         \u001b[0mgame_list\u001b[0m \u001b[0;34m=\u001b[0m \u001b[0;34m[\u001b[0m\u001b[0;34m]\u001b[0m\u001b[0;34m\u001b[0m\u001b[0;34m\u001b[0m\u001b[0m\n\u001b[1;32m    798\u001b[0m         \u001b[0;32mfor\u001b[0m \u001b[0mi\u001b[0m\u001b[0;34m,\u001b[0m \u001b[0mgame_root\u001b[0m \u001b[0;32min\u001b[0m \u001b[0menumerate\u001b[0m\u001b[0;34m(\u001b[0m\u001b[0mxml_root\u001b[0m\u001b[0;34m)\u001b[0m\u001b[0;34m:\u001b[0m\u001b[0;34m\u001b[0m\u001b[0;34m\u001b[0m\u001b[0m\n\u001b[0;32m--> 799\u001b[0;31m             game = create_game_from_xml(game_root,\n\u001b[0m\u001b[1;32m    800\u001b[0m                                         game_id=game_id_list[i])\n\u001b[1;32m    801\u001b[0m             \u001b[0mgame_list\u001b[0m\u001b[0;34m.\u001b[0m\u001b[0mappend\u001b[0m\u001b[0;34m(\u001b[0m\u001b[0mgame\u001b[0m\u001b[0;34m)\u001b[0m\u001b[0;34m\u001b[0m\u001b[0;34m\u001b[0m\u001b[0m\n",
      "\u001b[0;32m~/opt/anaconda3/envs/msia423/lib/python3.8/site-packages/boardgamegeek/loaders/game.py\u001b[0m in \u001b[0;36mcreate_game_from_xml\u001b[0;34m(xml_root, game_id)\u001b[0m\n\u001b[1;32m    146\u001b[0m                 \u001b[0mdsp\u001b[0m\u001b[0;34m[\u001b[0m\u001b[0;34m\"results\"\u001b[0m\u001b[0;34m]\u001b[0m\u001b[0;34m[\u001b[0m\u001b[0mplayer_count\u001b[0m\u001b[0;34m]\u001b[0m \u001b[0;34m=\u001b[0m \u001b[0mdspr\u001b[0m\u001b[0;34m\u001b[0m\u001b[0;34m\u001b[0m\u001b[0m\n\u001b[1;32m    147\u001b[0m \u001b[0;34m\u001b[0m\u001b[0m\n\u001b[0;32m--> 148\u001b[0;31m     \u001b[0;32mreturn\u001b[0m \u001b[0mBoardGame\u001b[0m\u001b[0;34m(\u001b[0m\u001b[0mdata\u001b[0m\u001b[0;34m)\u001b[0m\u001b[0;34m\u001b[0m\u001b[0;34m\u001b[0m\u001b[0m\n\u001b[0m\u001b[1;32m    149\u001b[0m \u001b[0;34m\u001b[0m\u001b[0m\n\u001b[1;32m    150\u001b[0m \u001b[0;34m\u001b[0m\u001b[0m\n",
      "\u001b[0;32m~/opt/anaconda3/envs/msia423/lib/python3.8/site-packages/boardgamegeek/objects/games.py\u001b[0m in \u001b[0;36m__init__\u001b[0;34m(self, data)\u001b[0m\n\u001b[1;32m    780\u001b[0m                 \u001b[0mself\u001b[0m\u001b[0;34m.\u001b[0m\u001b[0m_player_suggestion\u001b[0m\u001b[0;34m.\u001b[0m\u001b[0mappend\u001b[0m\u001b[0;34m(\u001b[0m\u001b[0mPlayerSuggestion\u001b[0m\u001b[0;34m(\u001b[0m\u001b[0msuggestion_data\u001b[0m\u001b[0;34m)\u001b[0m\u001b[0;34m)\u001b[0m\u001b[0;34m\u001b[0m\u001b[0;34m\u001b[0m\u001b[0m\n\u001b[1;32m    781\u001b[0m \u001b[0;34m\u001b[0m\u001b[0m\n\u001b[0;32m--> 782\u001b[0;31m         \u001b[0msuper\u001b[0m\u001b[0;34m(\u001b[0m\u001b[0mBoardGame\u001b[0m\u001b[0;34m,\u001b[0m \u001b[0mself\u001b[0m\u001b[0;34m)\u001b[0m\u001b[0;34m.\u001b[0m\u001b[0m__init__\u001b[0m\u001b[0;34m(\u001b[0m\u001b[0mdata\u001b[0m\u001b[0;34m)\u001b[0m\u001b[0;34m\u001b[0m\u001b[0;34m\u001b[0m\u001b[0m\n\u001b[0m\u001b[1;32m    783\u001b[0m \u001b[0;34m\u001b[0m\u001b[0m\n\u001b[1;32m    784\u001b[0m     \u001b[0;32mdef\u001b[0m \u001b[0m__repr__\u001b[0m\u001b[0;34m(\u001b[0m\u001b[0mself\u001b[0m\u001b[0;34m)\u001b[0m\u001b[0;34m:\u001b[0m\u001b[0;34m\u001b[0m\u001b[0;34m\u001b[0m\u001b[0m\n",
      "\u001b[0;32m~/opt/anaconda3/envs/msia423/lib/python3.8/site-packages/boardgamegeek/objects/games.py\u001b[0m in \u001b[0;36m__init__\u001b[0;34m(self, data)\u001b[0m\n\u001b[1;32m    423\u001b[0m         \u001b[0mself\u001b[0m\u001b[0;34m.\u001b[0m\u001b[0m_image\u001b[0m \u001b[0;34m=\u001b[0m \u001b[0mfix_url\u001b[0m\u001b[0;34m(\u001b[0m\u001b[0mdata\u001b[0m\u001b[0;34m[\u001b[0m\u001b[0;34m\"image\"\u001b[0m\u001b[0;34m]\u001b[0m\u001b[0;34m)\u001b[0m \u001b[0;32mif\u001b[0m \u001b[0;34m\"image\"\u001b[0m \u001b[0;32min\u001b[0m \u001b[0mdata\u001b[0m \u001b[0;32melse\u001b[0m \u001b[0;32mNone\u001b[0m\u001b[0;34m\u001b[0m\u001b[0;34m\u001b[0m\u001b[0m\n\u001b[1;32m    424\u001b[0m         \u001b[0;32mif\u001b[0m \u001b[0;34m\"stats\"\u001b[0m \u001b[0;32mnot\u001b[0m \u001b[0;32min\u001b[0m \u001b[0mdata\u001b[0m\u001b[0;34m:\u001b[0m\u001b[0;34m\u001b[0m\u001b[0;34m\u001b[0m\u001b[0m\n\u001b[0;32m--> 425\u001b[0;31m             \u001b[0;32mraise\u001b[0m \u001b[0mBGGError\u001b[0m\u001b[0;34m(\u001b[0m\u001b[0;34m\"invalid data\"\u001b[0m\u001b[0;34m)\u001b[0m\u001b[0;34m\u001b[0m\u001b[0;34m\u001b[0m\u001b[0m\n\u001b[0m\u001b[1;32m    426\u001b[0m \u001b[0;34m\u001b[0m\u001b[0m\n\u001b[1;32m    427\u001b[0m         \u001b[0mself\u001b[0m\u001b[0;34m.\u001b[0m\u001b[0m_stats\u001b[0m \u001b[0;34m=\u001b[0m \u001b[0mBoardGameStats\u001b[0m\u001b[0;34m(\u001b[0m\u001b[0mdata\u001b[0m\u001b[0;34m[\u001b[0m\u001b[0;34m\"stats\"\u001b[0m\u001b[0;34m]\u001b[0m\u001b[0;34m)\u001b[0m\u001b[0;34m\u001b[0m\u001b[0;34m\u001b[0m\u001b[0m\n",
      "\u001b[0;31mBGGError\u001b[0m: invalid data"
     ]
    }
   ],
   "source": [
    "games_with_histprical = bgg.game_list(hot_ids, historical=True)"
   ]
  },
  {
   "cell_type": "code",
   "execution_count": null,
   "metadata": {},
   "outputs": [],
   "source": []
  },
  {
   "cell_type": "code",
   "execution_count": null,
   "metadata": {},
   "outputs": [],
   "source": []
  },
  {
   "cell_type": "code",
   "execution_count": null,
   "metadata": {},
   "outputs": [],
   "source": []
  },
  {
   "cell_type": "markdown",
   "metadata": {},
   "source": [
    "# Appendix"
   ]
  },
  {
   "cell_type": "markdown",
   "metadata": {},
   "source": [
    "## Testing BGG API Client with Sqlite "
   ]
  },
  {
   "cell_type": "code",
   "execution_count": 86,
   "metadata": {},
   "outputs": [],
   "source": [
    "from boardgamegeek.cache import CacheBackendMemory, CacheBackendNone, CacheBackendSqlite"
   ]
  },
  {
   "cell_type": "code",
   "execution_count": 87,
   "metadata": {},
   "outputs": [],
   "source": [
    "bgg_sqlite_cache = BGGClient(cache=CacheBackendSqlite(path=\"cache.db\", ttl=3600))"
   ]
  },
  {
   "cell_type": "code",
   "execution_count": null,
   "metadata": {},
   "outputs": [],
   "source": [
    "# Successfully created a cache.db, which I expect to disappear by itself when the ttl runs out.\n",
    "# The format, however, is just key:value pairs, where the key is a long alphanumer string and the value is BLOB"
   ]
  },
  {
   "cell_type": "code",
   "execution_count": 89,
   "metadata": {},
   "outputs": [
    {
     "data": {
      "text/plain": [
       "'Crazy Creatures of Dr. Doom'"
      ]
     },
     "execution_count": 89,
     "metadata": {},
     "output_type": "execute_result"
    }
   ],
   "source": [
    "bgg_sqlite_cache.game(game_id=119193).name"
   ]
  },
  {
   "cell_type": "code",
   "execution_count": 91,
   "metadata": {},
   "outputs": [
    {
     "data": {
      "text/plain": [
       "<sqlite3.Cursor at 0x1154038f0>"
      ]
     },
     "execution_count": 91,
     "metadata": {},
     "output_type": "execute_result"
    }
   ],
   "source": [
    "# I am able to successfully read the data from the cache.db, but the issue is the BLOB format is in the ram XML format returned from BGG\n",
    "# Therefore, defeats the purpose of using the boardgamegeek module.\n",
    "import sqlite3\n",
    "connection = sqlite3.connect(r\"cache.db\")\n",
    "cursor = connection.cursor()\n",
    "\n",
    "cursor.execute(\"SELECT * FROM responses;\")"
   ]
  },
  {
   "cell_type": "code",
   "execution_count": 93,
   "metadata": {},
   "outputs": [
    {
     "data": {
      "text/plain": [
       "[('8847f4fc9d6c17e5acfc3898f85052b9cc88285974921049f188fd8e12b85c11',\n",
       "  b'\\x80\\x04\\x95\\x85!\\x00\\x00\\x00\\x00\\x00\\x00\\x8c\\x1crequests_cache.backends.base\\x94\\x8c\\x06_Store\\x94\\x93\\x94)\\x81\\x94}\\x94(\\x8c\\x08_content\\x94BA\\x16\\x00\\x00<?xml version=\"1.0\" encoding=\"utf-8\"?><items termsofuse=\"https://boardgamegeek.com/xmlapi/termsofuse\"><item type=\"boardgame\" id=\"119193\">\\n         <thumbnail>https://cf.geekdo-images.com/thumb/img/uqPsfHMKVl2q_tDiQPNaSV6tQFY=/fit-in/200x150/pic1369155.jpg</thumbnail>\\n      <image>https://cf.geekdo-images.com/original/img/OlheeOeTU35DSuSY4oDTtqqRIAc=/0x0/pic1369155.jpg</image>\\n                                     \\t\\t\\t\\t\\n\\t\\t\\t\\t<name type=\"primary\" sortindex=\"1\" value=\"Crazy Creatures of Dr. Doom\" />\\n\\t\\t\\t\\n\\t\\t\\t\\t\\t\\t                               \\t\\t\\t\\t\\n\\t\\t\\t\\t<name type=\"alternate\" sortindex=\"1\" value=\"Crazy Creatures of Dr. Gloom\" />\\n\\t\\t\\t    \\t\\t\\t\\t\\n\\t\\t\\t\\t<name type=\"alternate\" sortindex=\"1\" value=\"Dr. Gloom\" />\\n\\t\\t\\t\\n\\t\\t\\t\\t\\t\\t               \\t\\t\\t\\t\\t\\t\\t\\t\\t\\t\\t\\t\\t<description>Strange noises are heard from the Mad Mansion of Doctor Doom. Clouds of all colors come out of the chimney, and people tell weird stories about crazy creatures seen in the forest around the mansion. Help Doctor Doom finish his extravagant experiments to create the world\\'s wackiest and craziest creatures ever seen!&amp;#10;&amp;#10;In Crazy Creatures of Dr. Doom (a.k.a. Dr. Gloom in the U.S. release), all players try to get rid of their cards as cards in hand score penalty points at the end of a round. The player with the fewest penalty points at the end of the game wins and becomes Doctor Doom\\'s new apprentice!&amp;#10;&amp;#10;</description>\\n\\t\\t\\t\\t\\t\\t\\t\\t\\t\\t      \\t               \\t\\t\\t\\t<yearpublished value=\"2012\" />\\n\\t\\t\\t\\t\\t\\t               \\t\\t\\t\\t<minplayers value=\"2\" />\\n\\t\\t\\t\\t\\t\\t               \\t\\t\\t\\t<maxplayers value=\"4\" />\\n\\t\\t\\t\\t\\t\\t      \\t\\t\\t<poll name=\"suggested_numplayers\" title=\"User Suggested Number of Players\" totalvotes=\"7\">\\n\\t\\t\\t\\n\\t\\t<results numplayers=\"1\">\\t\\t\\n\\t\\t\\t\\t\\t<result value=\"Best\" numvotes=\"0\" />\\n\\t\\t\\t\\t\\t<result value=\"Recommended\" numvotes=\"0\" />\\n\\t\\t\\t\\t\\t<result value=\"Not Recommended\" numvotes=\"3\" />\\n\\t\\t\\t\\t</results>\\t\\t\\t\\t\\t\\n\\t\\t\\t\\n\\t\\t<results numplayers=\"2\">\\t\\t\\n\\t\\t\\t\\t\\t<result value=\"Best\" numvotes=\"1\" />\\n\\t\\t\\t\\t\\t<result value=\"Recommended\" numvotes=\"3\" />\\n\\t\\t\\t\\t\\t<result value=\"Not Recommended\" numvotes=\"2\" />\\n\\t\\t\\t\\t</results>\\t\\t\\t\\t\\t\\n\\t\\t\\t\\n\\t\\t<results numplayers=\"3\">\\t\\t\\n\\t\\t\\t\\t\\t<result value=\"Best\" numvotes=\"5\" />\\n\\t\\t\\t\\t\\t<result value=\"Recommended\" numvotes=\"1\" />\\n\\t\\t\\t\\t\\t<result value=\"Not Recommended\" numvotes=\"0\" />\\n\\t\\t\\t\\t</results>\\t\\t\\t\\t\\t\\n\\t\\t\\t\\n\\t\\t<results numplayers=\"4\">\\t\\t\\n\\t\\t\\t\\t\\t<result value=\"Best\" numvotes=\"4\" />\\n\\t\\t\\t\\t\\t<result value=\"Recommended\" numvotes=\"0\" />\\n\\t\\t\\t\\t\\t<result value=\"Not Recommended\" numvotes=\"1\" />\\n\\t\\t\\t\\t</results>\\t\\t\\t\\t\\t\\n\\t\\t\\t\\n\\t\\t<results numplayers=\"4+\">\\t\\t\\n\\t\\t\\t\\t\\t<result value=\"Best\" numvotes=\"0\" />\\n\\t\\t\\t\\t\\t<result value=\"Recommended\" numvotes=\"0\" />\\n\\t\\t\\t\\t\\t<result value=\"Not Recommended\" numvotes=\"3\" />\\n\\t\\t\\t\\t</results>\\t\\t\\t\\t\\t\\n\\t</poll> \\t\\t\\t               \\t\\t\\t\\t<playingtime value=\"20\" />\\n\\t\\t\\t\\t\\t\\t               \\t\\t\\t\\t<minplaytime value=\"20\" />\\n\\t\\t\\t\\t\\t\\t               \\t\\t\\t\\t<maxplaytime value=\"20\" />\\n\\t\\t\\t\\t\\t\\t               \\t\\t\\t\\t<minage value=\"7\" />\\n\\t\\t\\t\\t\\t\\t      \\t\\t\\t<poll name=\"suggested_playerage\" title=\"User Suggested Player Age\" totalvotes=\"3\">\\n\\t\\t\\t<results>\\t\\t\\n\\t\\t\\t\\t\\t<result value=\"2\" numvotes=\"0\" />\\n\\t\\t\\t\\t\\t<result value=\"3\" numvotes=\"0\" />\\n\\t\\t\\t\\t\\t<result value=\"4\" numvotes=\"0\" />\\n\\t\\t\\t\\t\\t<result value=\"5\" numvotes=\"2\" />\\n\\t\\t\\t\\t\\t<result value=\"6\" numvotes=\"1\" />\\n\\t\\t\\t\\t\\t<result value=\"8\" numvotes=\"0\" />\\n\\t\\t\\t\\t\\t<result value=\"10\" numvotes=\"0\" />\\n\\t\\t\\t\\t\\t<result value=\"12\" numvotes=\"0\" />\\n\\t\\t\\t\\t\\t<result value=\"14\" numvotes=\"0\" />\\n\\t\\t\\t\\t\\t<result value=\"16\" numvotes=\"0\" />\\n\\t\\t\\t\\t\\t<result value=\"18\" numvotes=\"0\" />\\n\\t\\t\\t\\t\\t<result value=\"21 and up\" numvotes=\"0\" />\\n\\t\\t\\t\\t</results>\\t\\t\\t\\t\\t\\n\\t</poll> \\t\\t\\t      \\t\\t\\t<poll name=\"language_dependence\" title=\"Language Dependence\" totalvotes=\"5\">\\n\\t\\t\\t\\n\\t\\t<results>\\t\\t\\n\\t\\t\\t\\t\\t<result level=\"1\" value=\"No necessary in-game text\" numvotes=\"5\" />\\n\\t\\t\\t\\t\\t<result level=\"2\" value=\"Some necessary text - easily memorized or small crib sheet\" numvotes=\"0\" />\\n\\t\\t\\t\\t\\t<result level=\"3\" value=\"Moderate in-game text - needs crib sheet or paste ups\" numvotes=\"0\" />\\n\\t\\t\\t\\t\\t<result level=\"4\" value=\"Extensive use of text - massive conversion needed to be playable\" numvotes=\"0\" />\\n\\t\\t\\t\\t\\t<result level=\"5\" value=\"Unplayable in another language\" numvotes=\"0\" />\\n\\t\\t\\t\\t</results>\\t\\t\\t\\t\\t\\n\\t</poll> \\t\\t\\t      \\t\\t\\t \\t\\t\\t      \\t\\t\\t\\t\\n\\t\\t \\t\\t\\t\\n\\n\\t\\t\\t\\n\\t\\t\\n\\t\\t\\t\\t\\t<link type=\"boardgamecategory\" id=\"1002\" value=\"Card Game\" />\\n\\t\\t\\n\\t\\t\\t\\t\\t\\t\\t\\t\\t\\n\\t\\t\\t\\n\\n\\t\\t\\t      \\t\\t\\t\\t\\n\\t\\t \\t\\t\\t\\n\\n\\t\\t\\t\\n\\t\\t\\n\\t\\t\\t\\t\\t<link type=\"boardgamemechanic\" id=\"2040\" value=\"Hand Management\" />\\n\\t\\t\\n\\t\\t\\t\\t\\t\\t\\t\\t\\t\\n\\t\\t\\t\\n\\n\\t\\t\\t      \\t\\t\\t\\t\\n\\t\\t \\t\\t\\t\\n\\n\\t\\t\\t\\n\\t\\t\\n\\t\\t\\t\\t\\t<link type=\"boardgamefamily\" id=\"8120\" value=\"Shedding Games\" />\\n\\t\\t\\n\\t\\t\\t\\t\\t\\t\\t\\t\\t\\n\\t\\t\\t\\n\\n\\t\\t\\t      \\t\\t\\t\\n\\n\\t\\t\\t      \\t\\t\\t\\n\\n\\t\\t\\t      \\t\\t\\t\\n\\n\\t\\t\\t      \\t\\t\\t\\n\\n\\t\\t\\t      \\t\\t\\t\\n\\n\\t\\t\\t      \\t\\t\\t\\n\\n\\t\\t\\t      \\t\\t\\t\\n\\n\\t\\t\\t      \\t      \\t      \\t\\t\\t\\t\\n\\t\\t \\t\\t\\t\\n\\n\\t\\t\\t\\n\\t\\t\\n\\t\\t\\t\\t\\t<link type=\"boardgamedesigner\" id=\"86\" value=\"Michael Schacht\" />\\n\\t\\t\\n\\t\\t\\t\\t\\t\\t\\t\\t\\t\\n\\t\\t\\t\\n\\n\\t\\t\\t      \\t\\t\\t\\t\\n\\t\\t \\t\\t\\t\\n\\n\\t\\t\\t\\n\\t\\t\\n\\t\\t\\t\\t\\t<link type=\"boardgameartist\" id=\"12484\" value=\"Dennis Lohausen\" />\\n\\t\\t\\n\\t\\t\\t\\t\\t\\t\\t\\t\\t\\n\\t\\t\\t\\n\\n\\t\\t\\t      \\t      \\t\\t\\t\\t\\n\\t\\t \\t\\t\\t\\n\\n\\t\\t\\t\\n\\t\\t\\n\\t\\t\\t\\t\\t<link type=\"boardgamepublisher\" id=\"11652\" value=\"Stronghold Games\" />\\n\\t\\t\\n\\t\\t\\t\\t\\t\\t\\t\\t\\t\\n\\t\\t\\t\\t\\n\\t\\t \\t\\t\\t\\n\\n\\t\\t\\t\\n\\t\\t\\n\\t\\t\\t\\t\\t<link type=\"boardgamepublisher\" id=\"4932\" value=\"White Goblin Games\" />\\n\\t\\t\\n\\t\\t\\t\\t\\t\\t\\t\\t\\t\\n\\t\\t\\t\\n\\n\\t\\t\\t\\n\\t\\n\\n\\t\\n\\n\\t\\n\\t\\n\\t\\n   \\t\\t<statistics page=\"1\">\\n\\t\\t\\t\\t\\t\\t\\t\\t<ratings >\\n\\t\\t\\t<usersrated value=\"452\" />\\n\\t\\t\\t<average value=\"5.63637\" />\\n\\t\\t\\t<bayesaverage value=\"5.5282\" />\\n\\n\\t\\t\\t<ranks>\\n\\t\\t\\t\\t\\t\\t\\t\\t\\t\\t\\t\\t\\t\\t\\t<rank type=\"subtype\" id=\"1\" name=\"boardgame\" friendlyname=\"Board Game Rank\" value=\"11869\" bayesaverage=\"5.5282\" />\\n\\t\\t\\t\\t\\t\\t\\t\\t\\t\\t\\t\\t</ranks>\\n\\n\\t\\t\\t<stddev value=\"1.29949\" />\\n\\t\\t\\t<median value=\"0\" />\\n\\t\\t\\t<owned value=\"1089\" />\\n\\t\\t\\t<trading value=\"99\" />\\n\\t\\t\\t<wanting value=\"4\" />\\n\\t\\t\\t<wishing value=\"39\" />\\n\\t\\t\\t<numcomments value=\"167\" />\\n\\t\\t\\t<numweights value=\"21\" />\\n\\t\\t\\t<averageweight value=\"1.1905\" />\\n\\t\\t\\t</ratings>\\n\\t\\t\\t\\t\\t\\t\\t\\t</statistics>\\n     \\n\\t\\n          \\n</item>\\n</items>\\x94\\x8c\\x03url\\x94\\x8c\\x9chttps://www.boardgamegeek.com/xmlapi2/thing?comments=0&historical=0&id=119193&marketplace=0&page=1&pagesize=100&ratingcomments=0&stats=1&versions=0&videos=0\\x94\\x8c\\x0bstatus_code\\x94K\\xc8\\x8c\\x07cookies\\x94\\x8c\\x10requests.cookies\\x94\\x8c\\x11RequestsCookieJar\\x94\\x93\\x94)\\x81\\x94}\\x94(\\x8c\\x07_policy\\x94\\x8c\\x0ehttp.cookiejar\\x94\\x8c\\x13DefaultCookiePolicy\\x94\\x93\\x94)\\x81\\x94}\\x94(\\x8c\\x08netscape\\x94\\x88\\x8c\\x07rfc2965\\x94\\x89\\x8c\\x13rfc2109_as_netscape\\x94N\\x8c\\x0chide_cookie2\\x94\\x89\\x8c\\rstrict_domain\\x94\\x89\\x8c\\x1bstrict_rfc2965_unverifiable\\x94\\x88\\x8c\\x16strict_ns_unverifiable\\x94\\x89\\x8c\\x10strict_ns_domain\\x94K\\x00\\x8c\\x1cstrict_ns_set_initial_dollar\\x94\\x89\\x8c\\x12strict_ns_set_path\\x94\\x89\\x8c\\x10secure_protocols\\x94\\x8c\\x05https\\x94\\x8c\\x03wss\\x94\\x86\\x94\\x8c\\x10_blocked_domains\\x94)\\x8c\\x10_allowed_domains\\x94N\\x8c\\x04_now\\x94J\\xec\\xfa\\xba^ub\\x8c\\x08_cookies\\x94}\\x94h&J\\xec\\xfa\\xba^ub\\x8c\\x07headers\\x94\\x8c\\x13requests.structures\\x94\\x8c\\x13CaseInsensitiveDict\\x94\\x93\\x94)\\x81\\x94}\\x94\\x8c\\x06_store\\x94\\x8c\\x0bcollections\\x94\\x8c\\x0bOrderedDict\\x94\\x93\\x94)R\\x94(\\x8c\\x06server\\x94\\x8c\\x06Server\\x94\\x8c\\x0cnginx/1.17.9\\x94\\x86\\x94\\x8c\\x04date\\x94\\x8c\\x04Date\\x94\\x8c\\x1dTue, 12 May 2020 19:37:16 GMT\\x94\\x86\\x94\\x8c\\x0ccontent-type\\x94\\x8c\\x0cContent-Type\\x94\\x8c\\x19text/xml; charset=\"UTF-8\"\\x94\\x86\\x94\\x8c\\x0cx-powered-by\\x94\\x8c\\x0cX-Powered-By\\x94\\x8c\\nPHP/7.2.17\\x94\\x86\\x94\\x8c\\x04etag\\x94\\x8c\\x04Etag\\x94\\x8c$W/\"5962e8798c3dcec6d38013ee97f506aa\"\\x94\\x86\\x94\\x8c\\rcache-control\\x94\\x8c\\rCache-Control\\x94\\x8c\\x0cmax-age=3600\\x94\\x86\\x94\\x8c\\x1baccess-control-allow-origin\\x94\\x8c\\x1bAccess-Control-Allow-Origin\\x94\\x8c\\x01*\\x94\\x86\\x94\\x8c\\x10content-encoding\\x94\\x8c\\x10Content-Encoding\\x94\\x8c\\x04gzip\\x94\\x86\\x94\\x8c\\x04vary\\x94\\x8c\\x04Vary\\x94\\x8c\\x0fAccept-Encoding\\x94\\x86\\x94\\x8c\\tx-varnish\\x94\\x8c\\tX-Varnish\\x94\\x8c\\t731962461\\x94\\x86\\x94\\x8c\\x03age\\x94\\x8c\\x03Age\\x94\\x8c\\x010\\x94\\x86\\x94\\x8c\\raccept-ranges\\x94\\x8c\\rAccept-Ranges\\x94\\x8c\\x05bytes\\x94\\x86\\x94\\x8c\\x03via\\x94\\x8c\\x03Via\\x94\\x8c%1.1 varnish (Varnish/6.3), 1.1 google\\x94\\x86\\x94\\x8c\\x07alt-svc\\x94\\x8c\\x07Alt-Svc\\x94\\x8c\\x05clear\\x94\\x86\\x94\\x8c\\x11transfer-encoding\\x94\\x8c\\x11Transfer-Encoding\\x94\\x8c\\x07chunked\\x94\\x86\\x94usb\\x8c\\x08encoding\\x94\\x8c\\x05UTF-8\\x94\\x8c\\x07request\\x94\\x8c\\x0frequests.models\\x94\\x8c\\x0fPreparedRequest\\x94\\x93\\x94)\\x81\\x94}\\x94(\\x8c\\x06method\\x94\\x8c\\x03GET\\x94h\\x07h\\x08h)h,)\\x81\\x94}\\x94h/h2)R\\x94(\\x8c\\nuser-agent\\x94\\x8c\\nUser-Agent\\x94\\x8c\\x16python-requests/2.23.0\\x94\\x86\\x94\\x8c\\x0faccept-encoding\\x94\\x8c\\x0fAccept-Encoding\\x94\\x8c\\rgzip, deflate\\x94\\x86\\x94\\x8c\\x06accept\\x94\\x8c\\x06Accept\\x94\\x8c\\x03*/*\\x94\\x86\\x94\\x8c\\nconnection\\x94\\x8c\\nConnection\\x94\\x8c\\nkeep-alive\\x94\\x86\\x94usbh\\'h\\r)\\x81\\x94}\\x94(h\\x10h\\x13)\\x81\\x94}\\x94(h\\x16\\x88h\\x17\\x89h\\x18Nh\\x19\\x89h\\x1a\\x89h\\x1b\\x88h\\x1c\\x89h\\x1dK\\x00h\\x1e\\x89h\\x1f\\x89h h#h$)h%Nh&J\\xec\\xfa\\xba^ubh\\'}\\x94h&J\\xec\\xfa\\xba^ub\\x8c\\x04body\\x94N\\x8c\\x05hooks\\x94]\\x94\\x8c\\x0e_body_position\\x94Nub\\x8c\\x06reason\\x94\\x8c\\x02OK\\x94\\x8c\\x03raw\\x94h\\x00\\x8c\\t_RawStore\\x94\\x93\\x94)\\x81\\x94}\\x94(\\x8c\\x12_original_response\\x94\\x8c\\x0bhttp.client\\x94\\x8c\\x0cHTTPResponse\\x94\\x93\\x94)\\x81\\x94}\\x94(\\x8c\\x02fp\\x94N\\x8c\\ndebuglevel\\x94K\\x00\\x8c\\x07_method\\x94hyh)h\\x9e\\x8c\\x0bHTTPMessage\\x94\\x93\\x94)\\x81\\x94}\\x94(\\x8c\\x06policy\\x94\\x8c\\x11email._policybase\\x94\\x8c\\x08Compat32\\x94\\x93\\x94)\\x81\\x94\\x8c\\x08_headers\\x94]\\x94(h5h6\\x86\\x94h9h:\\x86\\x94h=h>\\x86\\x94hAhB\\x86\\x94hEhF\\x86\\x94hIhJ\\x86\\x94hMhN\\x86\\x94hQhR\\x86\\x94hUhV\\x86\\x94hYhZ\\x86\\x94h]h^\\x86\\x94hahb\\x86\\x94hehf\\x86\\x94hihj\\x86\\x94hmhn\\x86\\x94e\\x8c\\t_unixfrom\\x94N\\x8c\\x08_payload\\x94\\x8c\\x00\\x94\\x8c\\x08_charset\\x94N\\x8c\\x08preamble\\x94N\\x8c\\x08epilogue\\x94N\\x8c\\x07defects\\x94]\\x94\\x8c\\r_default_type\\x94\\x8c\\ntext/plain\\x94ub\\x8c\\x03msg\\x94h\\xa8\\x8c\\x07version\\x94K\\x0b\\x8c\\x06status\\x94K\\xc8h\\x96h\\x97\\x8c\\x07chunked\\x94\\x88\\x8c\\nchunk_left\\x94N\\x8c\\x06length\\x94N\\x8c\\nwill_close\\x94\\x89\\x8c\\x04code\\x94K\\xc8\\x8c\\x0f__IOBase_closed\\x94\\x88ub\\x8c\\x0edecode_content\\x94\\x89h)\\x8c\\x14urllib3._collections\\x94\\x8c\\x0eHTTPHeaderDict\\x94\\x93\\x94)\\x81\\x94}\\x94\\x8c\\n_container\\x94h2)R\\x94(\\x8c\\x06server\\x94]\\x94(h5h6e\\x8c\\x04date\\x94]\\x94(h9h:e\\x8c\\x0ccontent-type\\x94]\\x94(h=h>e\\x8c\\x0cx-powered-by\\x94]\\x94(hAhBe\\x8c\\x04etag\\x94]\\x94(hEhFe\\x8c\\rcache-control\\x94]\\x94(hIhJe\\x8c\\x1baccess-control-allow-origin\\x94]\\x94(hMhNe\\x8c\\x10content-encoding\\x94]\\x94(hQhRe\\x8c\\x04vary\\x94]\\x94(hUhVe\\x8c\\tx-varnish\\x94]\\x94(hYhZe\\x8c\\x03age\\x94]\\x94(h]h^e\\x8c\\raccept-ranges\\x94]\\x94(hahbe\\x8c\\x03via\\x94]\\x94(hehfe\\x8c\\x07alt-svc\\x94]\\x94(hihje\\x8c\\x11transfer-encoding\\x94]\\x94(hmhneusbh\\x96h\\x97h\\xccK\\xc8\\x8c\\x06strict\\x94K\\x00h\\xcbK\\x0bub\\x8c\\x07history\\x94)ub\\x8c\\x08datetime\\x94\\x8c\\x08datetime\\x94\\x93\\x94C\\n\\x07\\xe4\\x05\\x0c\\x13%\\x10\\x0b\\x90.\\x94\\x85\\x94R\\x94\\x86\\x94.')]"
      ]
     },
     "execution_count": 93,
     "metadata": {},
     "output_type": "execute_result"
    }
   ],
   "source": [
    "cursor.fetchall()"
   ]
  },
  {
   "cell_type": "code",
   "execution_count": null,
   "metadata": {},
   "outputs": [],
   "source": []
  }
 ],
 "metadata": {
  "kernelspec": {
   "display_name": "msia423",
   "language": "python",
   "name": "msia423"
  },
  "language_info": {
   "codemirror_mode": {
    "name": "ipython",
    "version": 3
   },
   "file_extension": ".py",
   "mimetype": "text/x-python",
   "name": "python",
   "nbconvert_exporter": "python",
   "pygments_lexer": "ipython3",
   "version": "3.8.2"
  }
 },
 "nbformat": 4,
 "nbformat_minor": 4
}
